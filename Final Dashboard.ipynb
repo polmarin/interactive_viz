{
 "cells": [
  {
   "cell_type": "code",
   "execution_count": 39,
   "id": "31d4a8bb",
   "metadata": {},
   "outputs": [],
   "source": [
    "#!pipenv install pandas\n",
    "import pandas as pd\n",
    "#!pipenv install plotly\n",
    "from plotly.subplots import make_subplots\n",
    "import plotly.graph_objects as go\n",
    "import plotly.express as px\n",
    "#!pipenv install dash\n",
    "#!pipenv install jupyter-dash\n",
    "import dash\n",
    "import dash_core_components as dcc\n",
    "from dash import html\n",
    "from jupyter_dash import JupyterDash\n",
    "#!pipenv install ipywidgets\n",
    "import ipywidgets as widgets\n",
    "from PIL import Image"
   ]
  },
  {
   "cell_type": "code",
   "execution_count": 2,
   "id": "7969eade",
   "metadata": {},
   "outputs": [],
   "source": [
    "# Functions\n",
    "def create_dd(desc, i=0):\n",
    "    dd = widgets.Dropdown(\n",
    "        options=countries, \n",
    "        value=countries[i], \n",
    "        description=desc\n",
    "    )\n",
    "    return dd"
   ]
  },
  {
   "cell_type": "code",
   "execution_count": 3,
   "id": "7668c9b8",
   "metadata": {},
   "outputs": [
    {
     "data": {
      "text/html": [
       "<div>\n",
       "<style scoped>\n",
       "    .dataframe tbody tr th:only-of-type {\n",
       "        vertical-align: middle;\n",
       "    }\n",
       "\n",
       "    .dataframe tbody tr th {\n",
       "        vertical-align: top;\n",
       "    }\n",
       "\n",
       "    .dataframe thead th {\n",
       "        text-align: right;\n",
       "    }\n",
       "</style>\n",
       "<table border=\"1\" class=\"dataframe\">\n",
       "  <thead>\n",
       "    <tr style=\"text-align: right;\">\n",
       "      <th></th>\n",
       "      <th>ParentLocation</th>\n",
       "      <th>Location</th>\n",
       "      <th>Period</th>\n",
       "      <th>Gender</th>\n",
       "      <th>Prevalence</th>\n",
       "    </tr>\n",
       "  </thead>\n",
       "  <tbody>\n",
       "    <tr>\n",
       "      <th>0</th>\n",
       "      <td>Africa</td>\n",
       "      <td>Ethiopia</td>\n",
       "      <td>2016</td>\n",
       "      <td>Male</td>\n",
       "      <td>13.4</td>\n",
       "    </tr>\n",
       "    <tr>\n",
       "      <th>1</th>\n",
       "      <td>Africa</td>\n",
       "      <td>Uganda</td>\n",
       "      <td>2016</td>\n",
       "      <td>Male</td>\n",
       "      <td>13.7</td>\n",
       "    </tr>\n",
       "    <tr>\n",
       "      <th>2</th>\n",
       "      <td>Africa</td>\n",
       "      <td>Burundi</td>\n",
       "      <td>2016</td>\n",
       "      <td>Male</td>\n",
       "      <td>13.9</td>\n",
       "    </tr>\n",
       "    <tr>\n",
       "      <th>3</th>\n",
       "      <td>Africa</td>\n",
       "      <td>Niger</td>\n",
       "      <td>2016</td>\n",
       "      <td>Male</td>\n",
       "      <td>14.6</td>\n",
       "    </tr>\n",
       "    <tr>\n",
       "      <th>4</th>\n",
       "      <td>Africa</td>\n",
       "      <td>Eritrea</td>\n",
       "      <td>2016</td>\n",
       "      <td>Male</td>\n",
       "      <td>14.7</td>\n",
       "    </tr>\n",
       "  </tbody>\n",
       "</table>\n",
       "</div>"
      ],
      "text/plain": [
       "  ParentLocation  Location  Period Gender  Prevalence\n",
       "0         Africa  Ethiopia    2016   Male        13.4\n",
       "1         Africa    Uganda    2016   Male        13.7\n",
       "2         Africa   Burundi    2016   Male        13.9\n",
       "3         Africa     Niger    2016   Male        14.6\n",
       "4         Africa   Eritrea    2016   Male        14.7"
      ]
     },
     "execution_count": 3,
     "metadata": {},
     "output_type": "execute_result"
    }
   ],
   "source": [
    "# Load the data\n",
    "df = pd.read_csv(\"data.csv\")\n",
    "# Remove missing data and keep only useful columns\n",
    "df = df.loc[\n",
    "    df['Value'] != \"No data\", \n",
    "    ['ParentLocation', 'Location', 'Period', 'Dim1', 'Value']\n",
    "]\n",
    "# Rename columns\n",
    "df.columns = ['ParentLocation', 'Location', 'Period', 'Gender', 'Prevalence']\n",
    "\n",
    "# Some values in Prevalence contain ranges (like '13.4 [8.7 – 18.9]'), so we just keep the average\n",
    "df['Prevalence'] = df['Prevalence'].apply(\n",
    "    lambda x: float(x.split('[')[0]) if '[' in x else x\n",
    ")\n",
    "\n",
    "df.head()"
   ]
  },
  {
   "cell_type": "code",
   "execution_count": 4,
   "id": "8be5dcb5",
   "metadata": {},
   "outputs": [],
   "source": [
    "# Some variables to use later\n",
    "countries = sorted(pd.unique(df['Location']))\n",
    "colors = [\n",
    "    '#a6cee3', '#1f78b4', '#b2df8a', '#33a02c', \n",
    "    '#fb9a99', '#e31a1c', '#fdbf6f', '#ff7f00', \n",
    "    '#cab2d6', '#6a3d9a', '#ffff99', '#b15928'\n",
    "]"
   ]
  },
  {
   "cell_type": "markdown",
   "id": "ab3f3c7d",
   "metadata": {},
   "source": [
    "# Country Comparison"
   ]
  },
  {
   "cell_type": "code",
   "execution_count": 10,
   "id": "9d397226",
   "metadata": {},
   "outputs": [
    {
     "data": {
      "application/vnd.jupyter.widget-view+json": {
       "model_id": "4efe43583e214e2994b98bb492b71c91",
       "version_major": 2,
       "version_minor": 0
      },
      "text/plain": [
       "VBox(children=(HBox(children=(Dropdown(description='Country 1', options=('Afghanistan', 'Albania', 'Algeria', …"
      ]
     },
     "execution_count": 10,
     "metadata": {},
     "output_type": "execute_result"
    }
   ],
   "source": [
    "# Define widgets (using previous function)\n",
    "dd1 = create_dd('Country 1', 0)\n",
    "dd2 = create_dd('Country 2', 1)\n",
    "\n",
    "def create_figure(country1, country2):\n",
    "    # Create figure and traces\n",
    "    fig = make_subplots(\n",
    "        shared_xaxes=True, \n",
    "        shared_yaxes=True, \n",
    "        rows=1, \n",
    "        cols=3,\n",
    "        vertical_spacing = 0,\n",
    "        subplot_titles=(\"Gender = Female\", \"Gender = Male\", \"Gender = Both\"),\n",
    "\n",
    "    )\n",
    "\n",
    "    for j, gender in enumerate(['Female', 'Male', \"Both sexes\"]):\n",
    "        for i, loc in enumerate([country1, country2]):\n",
    "            fig.add_trace(\n",
    "                go.Scatter(\n",
    "                    x=df[\n",
    "                        (df['Gender'] == gender) \n",
    "                        & (df['Location'] == loc)\n",
    "                    ]['Period'], \n",
    "                    y=df[\n",
    "                        (df['Gender'] == gender) \n",
    "                        & (df['Location'] == loc)\n",
    "                    ]['Prevalence'], \n",
    "                    name=loc, \n",
    "                    line=go.scatter.Line(color=colors[i]), \n",
    "                    hovertemplate=None,\n",
    "                    showlegend=False if j==0 else True\n",
    "                ), \n",
    "                row=1, \n",
    "                col=j+1 \n",
    "            )\n",
    "\n",
    "    # Prettify\n",
    "    fig.update_xaxes(showspikes=True, spikemode=\"across\")\n",
    "    fig.update_layout(\n",
    "        hovermode=\"x\",\n",
    "        template='simple_white'\n",
    "    )\n",
    "    return fig\n",
    "    \n",
    "fig = create_figure(countries[0], countries[1])\n",
    "\n",
    "# Create the Figure Widget\n",
    "g = go.FigureWidget(\n",
    "    data = fig,\n",
    "    layout=go.Layout(\n",
    "        barmode='overlay'\n",
    "    )\n",
    ")\n",
    "\n",
    "# Handle what to do when the DD value changes\n",
    "def response(change):\n",
    "    dfs = []\n",
    "    for gender in ['Female', 'Male', 'Both sexes']:\n",
    "        for loc in [dd1.value, dd2.value]:\n",
    "            dfs.append(df[\n",
    "                (df['Gender'] == gender) \n",
    "                & (df['Location'] == loc)\n",
    "            ])\n",
    "    x = [temp_df['Period'] for temp_df in dfs]\n",
    "    y = [temp_df['Prevalence'] for temp_df in dfs]\n",
    "    \n",
    "    with g.batch_update():\n",
    "        for i in range(len(g.data)):\n",
    "            g.data[i].x = x[i]\n",
    "            g.data[i].y = y[i]\n",
    "            g.data[i].name = dd1.value if i%2 == 0 else dd2.value\n",
    "\n",
    "        g.layout.barmode = 'overlay'\n",
    "        g.layout.xaxis.title = 'Period'\n",
    "        g.layout.yaxis.title = 'Prevalence'\n",
    "\n",
    "\n",
    "dd1.observe(response, names=\"value\")\n",
    "dd2.observe(response, names=\"value\")\n",
    "\n",
    "container = widgets.HBox([dd1, dd2])\n",
    "widgets.VBox([container, g])"
   ]
  },
  {
   "cell_type": "markdown",
   "id": "9483ca22",
   "metadata": {},
   "source": [
    "# ParentLocation comparison"
   ]
  },
  {
   "cell_type": "code",
   "execution_count": 11,
   "id": "4536158e",
   "metadata": {},
   "outputs": [
    {
     "data": {
      "application/vnd.plotly.v1+json": {
       "config": {
        "plotlyServerURL": "https://plot.ly"
       },
       "data": [
        {
         "hovertemplate": "ParentLocation=Africa<br>Period=%{x}<br>Prevalence=%{y}<extra></extra>",
         "legendgroup": "Africa",
         "line": {
          "color": "#636efa",
          "dash": "solid"
         },
         "marker": {
          "symbol": "circle"
         },
         "mode": "lines",
         "name": "Africa",
         "orientation": "v",
         "showlegend": true,
         "type": "scatter",
         "x": [
          1975,
          1976,
          1977,
          1978,
          1979,
          1980,
          1981,
          1982,
          1983,
          1984,
          1985,
          1986,
          1987,
          1988,
          1989,
          1990,
          1991,
          1992,
          1993,
          1994,
          1995,
          1996,
          1997,
          1998,
          1999,
          2000,
          2001,
          2002,
          2003,
          2004,
          2005,
          2006,
          2007,
          2008,
          2009,
          2010,
          2011,
          2012,
          2013,
          2014,
          2015,
          2016
         ],
         "xaxis": "x",
         "y": [
          11.058695652173913,
          11.4,
          11.754347826086958,
          12.115217391304347,
          12.484782608695651,
          12.854347826086956,
          13.245652173913042,
          13.634782608695653,
          14.039130434782608,
          14.450000000000001,
          14.873913043478263,
          15.31086956521739,
          15.756521739130434,
          16.215217391304346,
          16.682608695652174,
          17.167391304347827,
          17.652173913043477,
          18.119565217391305,
          18.597826086956523,
          19.065217391304348,
          19.534782608695654,
          20.02173913043478,
          20.51304347826087,
          20.98913043478261,
          21.48695652173913,
          21.982608695652175,
          22.48478260869565,
          22.98478260869565,
          23.51086956521739,
          24.028260869565216,
          24.565217391304348,
          25.104347826086954,
          25.63913043478261,
          26.19347826086957,
          26.747826086956525,
          27.297826086956523,
          27.87173913043478,
          28.43913043478261,
          29.017391304347825,
          29.599999999999998,
          30.186956521739127,
          30.77173913043478
         ],
         "yaxis": "y"
        },
        {
         "hovertemplate": "ParentLocation=Americas<br>Period=%{x}<br>Prevalence=%{y}<extra></extra>",
         "legendgroup": "Americas",
         "line": {
          "color": "#EF553B",
          "dash": "solid"
         },
         "marker": {
          "symbol": "circle"
         },
         "mode": "lines",
         "name": "Americas",
         "orientation": "v",
         "showlegend": true,
         "type": "scatter",
         "x": [
          1975,
          1976,
          1977,
          1978,
          1979,
          1980,
          1981,
          1982,
          1983,
          1984,
          1985,
          1986,
          1987,
          1988,
          1989,
          1990,
          1991,
          1992,
          1993,
          1994,
          1995,
          1996,
          1997,
          1998,
          1999,
          2000,
          2001,
          2002,
          2003,
          2004,
          2005,
          2006,
          2007,
          2008,
          2009,
          2010,
          2011,
          2012,
          2013,
          2014,
          2015,
          2016
         ],
         "xaxis": "x",
         "y": [
          30.08,
          30.711428571428574,
          31.34285714285714,
          31.982857142857146,
          32.642857142857146,
          33.31142857142857,
          33.97428571428571,
          34.645714285714284,
          35.30571428571429,
          35.98571428571429,
          36.65714285714286,
          37.33142857142857,
          38.011428571428574,
          38.682857142857145,
          39.36857142857143,
          40.05142857142857,
          40.74285714285714,
          41.41142857142857,
          42.09714285714286,
          42.794285714285714,
          43.47714285714286,
          44.182857142857145,
          44.86857142857143,
          45.559999999999995,
          46.25714285714286,
          46.957142857142856,
          47.645714285714284,
          48.32857142857143,
          48.99714285714286,
          49.67714285714286,
          50.34,
          51.005714285714284,
          51.66,
          52.31428571428572,
          52.94571428571428,
          53.582857142857144,
          54.231428571428566,
          54.86,
          55.50285714285714,
          56.137142857142855,
          56.77428571428571,
          57.39714285714286
         ],
         "yaxis": "y"
        },
        {
         "hovertemplate": "ParentLocation=Eastern Mediterranean<br>Period=%{x}<br>Prevalence=%{y}<extra></extra>",
         "legendgroup": "Eastern Mediterranean",
         "line": {
          "color": "#00cc96",
          "dash": "solid"
         },
         "marker": {
          "symbol": "circle"
         },
         "mode": "lines",
         "name": "Eastern Mediterranean",
         "orientation": "v",
         "showlegend": true,
         "type": "scatter",
         "x": [
          1975,
          1976,
          1977,
          1978,
          1979,
          1980,
          1981,
          1982,
          1983,
          1984,
          1985,
          1986,
          1987,
          1988,
          1989,
          1990,
          1991,
          1992,
          1993,
          1994,
          1995,
          1996,
          1997,
          1998,
          1999,
          2000,
          2001,
          2002,
          2003,
          2004,
          2005,
          2006,
          2007,
          2008,
          2009,
          2010,
          2011,
          2012,
          2013,
          2014,
          2015,
          2016
         ],
         "xaxis": "x",
         "y": [
          30.895238095238092,
          31.652380952380955,
          32.27142857142857,
          32.94761904761905,
          33.642857142857146,
          34.3,
          34.91428571428572,
          35.58095238095238,
          36.27142857142857,
          37.08095238095238,
          37.714285714285715,
          38.385714285714286,
          39.03333333333334,
          39.67142857142857,
          40.24285714285715,
          40.98571428571429,
          41.58571428571428,
          42.21904761904762,
          42.76190476190476,
          43.30952380952381,
          43.86190476190476,
          44.542857142857144,
          45.01904761904762,
          45.70952380952381,
          46.476190476190474,
          47.042857142857144,
          47.523809523809526,
          47.91428571428572,
          48.54761904761905,
          49.22857142857143,
          49.68095238095238,
          50.17619047619048,
          50.909523809523805,
          51.5047619047619,
          51.9952380952381,
          52.719047619047615,
          53.25714285714286,
          53.86666666666667,
          54.38571428571428,
          54.9952380952381,
          55.81428571428571,
          56.404761904761905
         ],
         "yaxis": "y"
        },
        {
         "hovertemplate": "ParentLocation=Europe<br>Period=%{x}<br>Prevalence=%{y}<extra></extra>",
         "legendgroup": "Europe",
         "line": {
          "color": "#ab63fa",
          "dash": "solid"
         },
         "marker": {
          "symbol": "circle"
         },
         "mode": "lines",
         "name": "Europe",
         "orientation": "v",
         "showlegend": true,
         "type": "scatter",
         "x": [
          1975,
          1976,
          1977,
          1978,
          1979,
          1980,
          1981,
          1982,
          1983,
          1984,
          1985,
          1986,
          1987,
          1988,
          1989,
          1990,
          1991,
          1992,
          1993,
          1994,
          1995,
          1996,
          1997,
          1998,
          1999,
          2000,
          2001,
          2002,
          2003,
          2004,
          2005,
          2006,
          2007,
          2008,
          2009,
          2010,
          2011,
          2012,
          2013,
          2014,
          2015,
          2016
         ],
         "xaxis": "x",
         "y": [
          36.937254901960785,
          37.53333333333333,
          38.141176470588235,
          38.745098039215684,
          39.34117647058824,
          39.93529411764706,
          40.523529411764706,
          41.101960784313725,
          41.680392156862744,
          42.245098039215684,
          42.80392156862745,
          43.35294117647059,
          43.89411764705882,
          44.42745098039216,
          44.950980392156865,
          45.470588235294116,
          45.98039215686274,
          46.476470588235294,
          46.96078431372549,
          47.42745098039216,
          47.90980392156863,
          48.364705882352936,
          48.82745098039215,
          49.2921568627451,
          49.74901960784313,
          50.21568627450981,
          50.66274509803922,
          51.127450980392155,
          51.59803921568628,
          52.07254901960784,
          52.537254901960786,
          53.01960784313726,
          53.48823529411765,
          53.95490196078431,
          54.41764705882353,
          54.89411764705882,
          55.35098039215686,
          55.819607843137256,
          56.27450980392157,
          56.739215686274505,
          57.205882352941174,
          57.66470588235294
         ],
         "yaxis": "y"
        },
        {
         "hovertemplate": "ParentLocation=South-East Asia<br>Period=%{x}<br>Prevalence=%{y}<extra></extra>",
         "legendgroup": "South-East Asia",
         "line": {
          "color": "#FFA15A",
          "dash": "solid"
         },
         "marker": {
          "symbol": "circle"
         },
         "mode": "lines",
         "name": "South-East Asia",
         "orientation": "v",
         "showlegend": true,
         "type": "scatter",
         "x": [
          1975,
          1976,
          1977,
          1978,
          1979,
          1980,
          1981,
          1982,
          1983,
          1984,
          1985,
          1986,
          1987,
          1988,
          1989,
          1990,
          1991,
          1992,
          1993,
          1994,
          1995,
          1996,
          1997,
          1998,
          1999,
          2000,
          2001,
          2002,
          2003,
          2004,
          2005,
          2006,
          2007,
          2008,
          2009,
          2010,
          2011,
          2012,
          2013,
          2014,
          2015,
          2016
         ],
         "xaxis": "x",
         "y": [
          7.254545454545454,
          7.472727272727273,
          7.7272727272727275,
          7.954545454545454,
          8.218181818181819,
          8.5,
          8.763636363636364,
          9.036363636363637,
          9.318181818181818,
          9.636363636363637,
          9.918181818181818,
          10.227272727272727,
          10.563636363636364,
          10.89090909090909,
          11.254545454545454,
          11.590909090909092,
          11.927272727272726,
          12.281818181818181,
          12.672727272727274,
          13.063636363636363,
          13.454545454545455,
          13.863636363636363,
          14.29090909090909,
          14.745454545454544,
          15.19090909090909,
          15.663636363636364,
          16.145454545454545,
          16.672727272727272,
          17.20909090909091,
          17.745454545454546,
          18.327272727272728,
          18.918181818181818,
          19.527272727272727,
          20.145454545454545,
          20.772727272727273,
          21.427272727272726,
          22.072727272727274,
          22.754545454545454,
          23.436363636363637,
          24.136363636363637,
          24.845454545454547,
          25.572727272727274
         ],
         "yaxis": "y"
        },
        {
         "hovertemplate": "ParentLocation=Western Pacific<br>Period=%{x}<br>Prevalence=%{y}<extra></extra>",
         "legendgroup": "Western Pacific",
         "line": {
          "color": "#19d3f3",
          "dash": "solid"
         },
         "marker": {
          "symbol": "circle"
         },
         "mode": "lines",
         "name": "Western Pacific",
         "orientation": "v",
         "showlegend": true,
         "type": "scatter",
         "x": [
          1975,
          1976,
          1977,
          1978,
          1979,
          1980,
          1981,
          1982,
          1983,
          1984,
          1985,
          1986,
          1987,
          1988,
          1989,
          1990,
          1991,
          1992,
          1993,
          1994,
          1995,
          1996,
          1997,
          1998,
          1999,
          2000,
          2001,
          2002,
          2003,
          2004,
          2005,
          2006,
          2007,
          2008,
          2009,
          2010,
          2011,
          2012,
          2013,
          2014,
          2015,
          2016
         ],
         "xaxis": "x",
         "y": [
          33.70740740740741,
          34.25925925925926,
          34.803703703703704,
          35.351851851851855,
          35.89259259259259,
          36.42962962962963,
          36.974074074074075,
          37.51851851851852,
          38.074074074074076,
          38.64074074074074,
          39.2,
          39.77407407407408,
          40.351851851851855,
          40.903703703703705,
          41.48518518518518,
          42.06666666666666,
          42.644444444444446,
          43.2074074074074,
          43.766666666666666,
          44.333333333333336,
          44.87407407407407,
          45.43333333333334,
          45.974074074074075,
          46.54074074074074,
          47.08148148148148,
          47.62592592592593,
          48.18888888888888,
          48.74814814814815,
          49.32222222222222,
          49.888888888888886,
          50.44074074074074,
          51.025925925925925,
          51.577777777777776,
          52.144444444444446,
          52.7037037037037,
          53.270370370370365,
          53.82222222222222,
          54.38148148148148,
          54.94074074074074,
          55.470370370370375,
          56.02222222222222,
          56.56296296296296
         ],
         "yaxis": "y"
        }
       ],
       "layout": {
        "legend": {
         "title": {
          "text": "ParentLocation"
         },
         "tracegroupgap": 0
        },
        "margin": {
         "t": 60
        },
        "template": {
         "data": {
          "bar": [
           {
            "error_x": {
             "color": "rgb(36,36,36)"
            },
            "error_y": {
             "color": "rgb(36,36,36)"
            },
            "marker": {
             "line": {
              "color": "white",
              "width": 0.5
             },
             "pattern": {
              "fillmode": "overlay",
              "size": 10,
              "solidity": 0.2
             }
            },
            "type": "bar"
           }
          ],
          "barpolar": [
           {
            "marker": {
             "line": {
              "color": "white",
              "width": 0.5
             },
             "pattern": {
              "fillmode": "overlay",
              "size": 10,
              "solidity": 0.2
             }
            },
            "type": "barpolar"
           }
          ],
          "carpet": [
           {
            "aaxis": {
             "endlinecolor": "rgb(36,36,36)",
             "gridcolor": "white",
             "linecolor": "white",
             "minorgridcolor": "white",
             "startlinecolor": "rgb(36,36,36)"
            },
            "baxis": {
             "endlinecolor": "rgb(36,36,36)",
             "gridcolor": "white",
             "linecolor": "white",
             "minorgridcolor": "white",
             "startlinecolor": "rgb(36,36,36)"
            },
            "type": "carpet"
           }
          ],
          "choropleth": [
           {
            "colorbar": {
             "outlinewidth": 1,
             "tickcolor": "rgb(36,36,36)",
             "ticks": "outside"
            },
            "type": "choropleth"
           }
          ],
          "contour": [
           {
            "colorbar": {
             "outlinewidth": 1,
             "tickcolor": "rgb(36,36,36)",
             "ticks": "outside"
            },
            "colorscale": [
             [
              0,
              "#440154"
             ],
             [
              0.1111111111111111,
              "#482878"
             ],
             [
              0.2222222222222222,
              "#3e4989"
             ],
             [
              0.3333333333333333,
              "#31688e"
             ],
             [
              0.4444444444444444,
              "#26828e"
             ],
             [
              0.5555555555555556,
              "#1f9e89"
             ],
             [
              0.6666666666666666,
              "#35b779"
             ],
             [
              0.7777777777777778,
              "#6ece58"
             ],
             [
              0.8888888888888888,
              "#b5de2b"
             ],
             [
              1,
              "#fde725"
             ]
            ],
            "type": "contour"
           }
          ],
          "contourcarpet": [
           {
            "colorbar": {
             "outlinewidth": 1,
             "tickcolor": "rgb(36,36,36)",
             "ticks": "outside"
            },
            "type": "contourcarpet"
           }
          ],
          "heatmap": [
           {
            "colorbar": {
             "outlinewidth": 1,
             "tickcolor": "rgb(36,36,36)",
             "ticks": "outside"
            },
            "colorscale": [
             [
              0,
              "#440154"
             ],
             [
              0.1111111111111111,
              "#482878"
             ],
             [
              0.2222222222222222,
              "#3e4989"
             ],
             [
              0.3333333333333333,
              "#31688e"
             ],
             [
              0.4444444444444444,
              "#26828e"
             ],
             [
              0.5555555555555556,
              "#1f9e89"
             ],
             [
              0.6666666666666666,
              "#35b779"
             ],
             [
              0.7777777777777778,
              "#6ece58"
             ],
             [
              0.8888888888888888,
              "#b5de2b"
             ],
             [
              1,
              "#fde725"
             ]
            ],
            "type": "heatmap"
           }
          ],
          "heatmapgl": [
           {
            "colorbar": {
             "outlinewidth": 1,
             "tickcolor": "rgb(36,36,36)",
             "ticks": "outside"
            },
            "colorscale": [
             [
              0,
              "#440154"
             ],
             [
              0.1111111111111111,
              "#482878"
             ],
             [
              0.2222222222222222,
              "#3e4989"
             ],
             [
              0.3333333333333333,
              "#31688e"
             ],
             [
              0.4444444444444444,
              "#26828e"
             ],
             [
              0.5555555555555556,
              "#1f9e89"
             ],
             [
              0.6666666666666666,
              "#35b779"
             ],
             [
              0.7777777777777778,
              "#6ece58"
             ],
             [
              0.8888888888888888,
              "#b5de2b"
             ],
             [
              1,
              "#fde725"
             ]
            ],
            "type": "heatmapgl"
           }
          ],
          "histogram": [
           {
            "marker": {
             "line": {
              "color": "white",
              "width": 0.6
             }
            },
            "type": "histogram"
           }
          ],
          "histogram2d": [
           {
            "colorbar": {
             "outlinewidth": 1,
             "tickcolor": "rgb(36,36,36)",
             "ticks": "outside"
            },
            "colorscale": [
             [
              0,
              "#440154"
             ],
             [
              0.1111111111111111,
              "#482878"
             ],
             [
              0.2222222222222222,
              "#3e4989"
             ],
             [
              0.3333333333333333,
              "#31688e"
             ],
             [
              0.4444444444444444,
              "#26828e"
             ],
             [
              0.5555555555555556,
              "#1f9e89"
             ],
             [
              0.6666666666666666,
              "#35b779"
             ],
             [
              0.7777777777777778,
              "#6ece58"
             ],
             [
              0.8888888888888888,
              "#b5de2b"
             ],
             [
              1,
              "#fde725"
             ]
            ],
            "type": "histogram2d"
           }
          ],
          "histogram2dcontour": [
           {
            "colorbar": {
             "outlinewidth": 1,
             "tickcolor": "rgb(36,36,36)",
             "ticks": "outside"
            },
            "colorscale": [
             [
              0,
              "#440154"
             ],
             [
              0.1111111111111111,
              "#482878"
             ],
             [
              0.2222222222222222,
              "#3e4989"
             ],
             [
              0.3333333333333333,
              "#31688e"
             ],
             [
              0.4444444444444444,
              "#26828e"
             ],
             [
              0.5555555555555556,
              "#1f9e89"
             ],
             [
              0.6666666666666666,
              "#35b779"
             ],
             [
              0.7777777777777778,
              "#6ece58"
             ],
             [
              0.8888888888888888,
              "#b5de2b"
             ],
             [
              1,
              "#fde725"
             ]
            ],
            "type": "histogram2dcontour"
           }
          ],
          "mesh3d": [
           {
            "colorbar": {
             "outlinewidth": 1,
             "tickcolor": "rgb(36,36,36)",
             "ticks": "outside"
            },
            "type": "mesh3d"
           }
          ],
          "parcoords": [
           {
            "line": {
             "colorbar": {
              "outlinewidth": 1,
              "tickcolor": "rgb(36,36,36)",
              "ticks": "outside"
             }
            },
            "type": "parcoords"
           }
          ],
          "pie": [
           {
            "automargin": true,
            "type": "pie"
           }
          ],
          "scatter": [
           {
            "fillpattern": {
             "fillmode": "overlay",
             "size": 10,
             "solidity": 0.2
            },
            "type": "scatter"
           }
          ],
          "scatter3d": [
           {
            "line": {
             "colorbar": {
              "outlinewidth": 1,
              "tickcolor": "rgb(36,36,36)",
              "ticks": "outside"
             }
            },
            "marker": {
             "colorbar": {
              "outlinewidth": 1,
              "tickcolor": "rgb(36,36,36)",
              "ticks": "outside"
             }
            },
            "type": "scatter3d"
           }
          ],
          "scattercarpet": [
           {
            "marker": {
             "colorbar": {
              "outlinewidth": 1,
              "tickcolor": "rgb(36,36,36)",
              "ticks": "outside"
             }
            },
            "type": "scattercarpet"
           }
          ],
          "scattergeo": [
           {
            "marker": {
             "colorbar": {
              "outlinewidth": 1,
              "tickcolor": "rgb(36,36,36)",
              "ticks": "outside"
             }
            },
            "type": "scattergeo"
           }
          ],
          "scattergl": [
           {
            "marker": {
             "colorbar": {
              "outlinewidth": 1,
              "tickcolor": "rgb(36,36,36)",
              "ticks": "outside"
             }
            },
            "type": "scattergl"
           }
          ],
          "scattermapbox": [
           {
            "marker": {
             "colorbar": {
              "outlinewidth": 1,
              "tickcolor": "rgb(36,36,36)",
              "ticks": "outside"
             }
            },
            "type": "scattermapbox"
           }
          ],
          "scatterpolar": [
           {
            "marker": {
             "colorbar": {
              "outlinewidth": 1,
              "tickcolor": "rgb(36,36,36)",
              "ticks": "outside"
             }
            },
            "type": "scatterpolar"
           }
          ],
          "scatterpolargl": [
           {
            "marker": {
             "colorbar": {
              "outlinewidth": 1,
              "tickcolor": "rgb(36,36,36)",
              "ticks": "outside"
             }
            },
            "type": "scatterpolargl"
           }
          ],
          "scatterternary": [
           {
            "marker": {
             "colorbar": {
              "outlinewidth": 1,
              "tickcolor": "rgb(36,36,36)",
              "ticks": "outside"
             }
            },
            "type": "scatterternary"
           }
          ],
          "surface": [
           {
            "colorbar": {
             "outlinewidth": 1,
             "tickcolor": "rgb(36,36,36)",
             "ticks": "outside"
            },
            "colorscale": [
             [
              0,
              "#440154"
             ],
             [
              0.1111111111111111,
              "#482878"
             ],
             [
              0.2222222222222222,
              "#3e4989"
             ],
             [
              0.3333333333333333,
              "#31688e"
             ],
             [
              0.4444444444444444,
              "#26828e"
             ],
             [
              0.5555555555555556,
              "#1f9e89"
             ],
             [
              0.6666666666666666,
              "#35b779"
             ],
             [
              0.7777777777777778,
              "#6ece58"
             ],
             [
              0.8888888888888888,
              "#b5de2b"
             ],
             [
              1,
              "#fde725"
             ]
            ],
            "type": "surface"
           }
          ],
          "table": [
           {
            "cells": {
             "fill": {
              "color": "rgb(237,237,237)"
             },
             "line": {
              "color": "white"
             }
            },
            "header": {
             "fill": {
              "color": "rgb(217,217,217)"
             },
             "line": {
              "color": "white"
             }
            },
            "type": "table"
           }
          ]
         },
         "layout": {
          "annotationdefaults": {
           "arrowhead": 0,
           "arrowwidth": 1
          },
          "autotypenumbers": "strict",
          "coloraxis": {
           "colorbar": {
            "outlinewidth": 1,
            "tickcolor": "rgb(36,36,36)",
            "ticks": "outside"
           }
          },
          "colorscale": {
           "diverging": [
            [
             0,
             "rgb(103,0,31)"
            ],
            [
             0.1,
             "rgb(178,24,43)"
            ],
            [
             0.2,
             "rgb(214,96,77)"
            ],
            [
             0.3,
             "rgb(244,165,130)"
            ],
            [
             0.4,
             "rgb(253,219,199)"
            ],
            [
             0.5,
             "rgb(247,247,247)"
            ],
            [
             0.6,
             "rgb(209,229,240)"
            ],
            [
             0.7,
             "rgb(146,197,222)"
            ],
            [
             0.8,
             "rgb(67,147,195)"
            ],
            [
             0.9,
             "rgb(33,102,172)"
            ],
            [
             1,
             "rgb(5,48,97)"
            ]
           ],
           "sequential": [
            [
             0,
             "#440154"
            ],
            [
             0.1111111111111111,
             "#482878"
            ],
            [
             0.2222222222222222,
             "#3e4989"
            ],
            [
             0.3333333333333333,
             "#31688e"
            ],
            [
             0.4444444444444444,
             "#26828e"
            ],
            [
             0.5555555555555556,
             "#1f9e89"
            ],
            [
             0.6666666666666666,
             "#35b779"
            ],
            [
             0.7777777777777778,
             "#6ece58"
            ],
            [
             0.8888888888888888,
             "#b5de2b"
            ],
            [
             1,
             "#fde725"
            ]
           ],
           "sequentialminus": [
            [
             0,
             "#440154"
            ],
            [
             0.1111111111111111,
             "#482878"
            ],
            [
             0.2222222222222222,
             "#3e4989"
            ],
            [
             0.3333333333333333,
             "#31688e"
            ],
            [
             0.4444444444444444,
             "#26828e"
            ],
            [
             0.5555555555555556,
             "#1f9e89"
            ],
            [
             0.6666666666666666,
             "#35b779"
            ],
            [
             0.7777777777777778,
             "#6ece58"
            ],
            [
             0.8888888888888888,
             "#b5de2b"
            ],
            [
             1,
             "#fde725"
            ]
           ]
          },
          "colorway": [
           "#1F77B4",
           "#FF7F0E",
           "#2CA02C",
           "#D62728",
           "#9467BD",
           "#8C564B",
           "#E377C2",
           "#7F7F7F",
           "#BCBD22",
           "#17BECF"
          ],
          "font": {
           "color": "rgb(36,36,36)"
          },
          "geo": {
           "bgcolor": "white",
           "lakecolor": "white",
           "landcolor": "white",
           "showlakes": true,
           "showland": true,
           "subunitcolor": "white"
          },
          "hoverlabel": {
           "align": "left"
          },
          "hovermode": "closest",
          "mapbox": {
           "style": "light"
          },
          "paper_bgcolor": "white",
          "plot_bgcolor": "white",
          "polar": {
           "angularaxis": {
            "gridcolor": "rgb(232,232,232)",
            "linecolor": "rgb(36,36,36)",
            "showgrid": false,
            "showline": true,
            "ticks": "outside"
           },
           "bgcolor": "white",
           "radialaxis": {
            "gridcolor": "rgb(232,232,232)",
            "linecolor": "rgb(36,36,36)",
            "showgrid": false,
            "showline": true,
            "ticks": "outside"
           }
          },
          "scene": {
           "xaxis": {
            "backgroundcolor": "white",
            "gridcolor": "rgb(232,232,232)",
            "gridwidth": 2,
            "linecolor": "rgb(36,36,36)",
            "showbackground": true,
            "showgrid": false,
            "showline": true,
            "ticks": "outside",
            "zeroline": false,
            "zerolinecolor": "rgb(36,36,36)"
           },
           "yaxis": {
            "backgroundcolor": "white",
            "gridcolor": "rgb(232,232,232)",
            "gridwidth": 2,
            "linecolor": "rgb(36,36,36)",
            "showbackground": true,
            "showgrid": false,
            "showline": true,
            "ticks": "outside",
            "zeroline": false,
            "zerolinecolor": "rgb(36,36,36)"
           },
           "zaxis": {
            "backgroundcolor": "white",
            "gridcolor": "rgb(232,232,232)",
            "gridwidth": 2,
            "linecolor": "rgb(36,36,36)",
            "showbackground": true,
            "showgrid": false,
            "showline": true,
            "ticks": "outside",
            "zeroline": false,
            "zerolinecolor": "rgb(36,36,36)"
           }
          },
          "shapedefaults": {
           "fillcolor": "black",
           "line": {
            "width": 0
           },
           "opacity": 0.3
          },
          "ternary": {
           "aaxis": {
            "gridcolor": "rgb(232,232,232)",
            "linecolor": "rgb(36,36,36)",
            "showgrid": false,
            "showline": true,
            "ticks": "outside"
           },
           "baxis": {
            "gridcolor": "rgb(232,232,232)",
            "linecolor": "rgb(36,36,36)",
            "showgrid": false,
            "showline": true,
            "ticks": "outside"
           },
           "bgcolor": "white",
           "caxis": {
            "gridcolor": "rgb(232,232,232)",
            "linecolor": "rgb(36,36,36)",
            "showgrid": false,
            "showline": true,
            "ticks": "outside"
           }
          },
          "title": {
           "x": 0.05
          },
          "xaxis": {
           "automargin": true,
           "gridcolor": "rgb(232,232,232)",
           "linecolor": "rgb(36,36,36)",
           "showgrid": false,
           "showline": true,
           "ticks": "outside",
           "title": {
            "standoff": 15
           },
           "zeroline": false,
           "zerolinecolor": "rgb(36,36,36)"
          },
          "yaxis": {
           "automargin": true,
           "gridcolor": "rgb(232,232,232)",
           "linecolor": "rgb(36,36,36)",
           "showgrid": false,
           "showline": true,
           "ticks": "outside",
           "title": {
            "standoff": 15
           },
           "zeroline": false,
           "zerolinecolor": "rgb(36,36,36)"
          }
         }
        },
        "xaxis": {
         "anchor": "y",
         "domain": [
          0,
          1
         ],
         "title": {
          "text": "Period"
         }
        },
        "yaxis": {
         "anchor": "x",
         "domain": [
          0,
          1
         ],
         "title": {
          "text": "Prevalence"
         }
        }
       }
      },
      "text/html": [
       "<div>                            <div id=\"c0b9880b-0a39-48d7-b142-ff1507e9377b\" class=\"plotly-graph-div\" style=\"height:525px; width:100%;\"></div>            <script type=\"text/javascript\">                require([\"plotly\"], function(Plotly) {                    window.PLOTLYENV=window.PLOTLYENV || {};                                    if (document.getElementById(\"c0b9880b-0a39-48d7-b142-ff1507e9377b\")) {                    Plotly.newPlot(                        \"c0b9880b-0a39-48d7-b142-ff1507e9377b\",                        [{\"hovertemplate\":\"ParentLocation=Africa<br>Period=%{x}<br>Prevalence=%{y}<extra></extra>\",\"legendgroup\":\"Africa\",\"line\":{\"color\":\"#636efa\",\"dash\":\"solid\"},\"marker\":{\"symbol\":\"circle\"},\"mode\":\"lines\",\"name\":\"Africa\",\"orientation\":\"v\",\"showlegend\":true,\"x\":[1975,1976,1977,1978,1979,1980,1981,1982,1983,1984,1985,1986,1987,1988,1989,1990,1991,1992,1993,1994,1995,1996,1997,1998,1999,2000,2001,2002,2003,2004,2005,2006,2007,2008,2009,2010,2011,2012,2013,2014,2015,2016],\"xaxis\":\"x\",\"y\":[11.058695652173913,11.4,11.754347826086958,12.115217391304347,12.484782608695651,12.854347826086956,13.245652173913042,13.634782608695653,14.039130434782608,14.450000000000001,14.873913043478263,15.31086956521739,15.756521739130434,16.215217391304346,16.682608695652174,17.167391304347827,17.652173913043477,18.119565217391305,18.597826086956523,19.065217391304348,19.534782608695654,20.02173913043478,20.51304347826087,20.98913043478261,21.48695652173913,21.982608695652175,22.48478260869565,22.98478260869565,23.51086956521739,24.028260869565216,24.565217391304348,25.104347826086954,25.63913043478261,26.19347826086957,26.747826086956525,27.297826086956523,27.87173913043478,28.43913043478261,29.017391304347825,29.599999999999998,30.186956521739127,30.77173913043478],\"yaxis\":\"y\",\"type\":\"scatter\"},{\"hovertemplate\":\"ParentLocation=Americas<br>Period=%{x}<br>Prevalence=%{y}<extra></extra>\",\"legendgroup\":\"Americas\",\"line\":{\"color\":\"#EF553B\",\"dash\":\"solid\"},\"marker\":{\"symbol\":\"circle\"},\"mode\":\"lines\",\"name\":\"Americas\",\"orientation\":\"v\",\"showlegend\":true,\"x\":[1975,1976,1977,1978,1979,1980,1981,1982,1983,1984,1985,1986,1987,1988,1989,1990,1991,1992,1993,1994,1995,1996,1997,1998,1999,2000,2001,2002,2003,2004,2005,2006,2007,2008,2009,2010,2011,2012,2013,2014,2015,2016],\"xaxis\":\"x\",\"y\":[30.08,30.711428571428574,31.34285714285714,31.982857142857146,32.642857142857146,33.31142857142857,33.97428571428571,34.645714285714284,35.30571428571429,35.98571428571429,36.65714285714286,37.33142857142857,38.011428571428574,38.682857142857145,39.36857142857143,40.05142857142857,40.74285714285714,41.41142857142857,42.09714285714286,42.794285714285714,43.47714285714286,44.182857142857145,44.86857142857143,45.559999999999995,46.25714285714286,46.957142857142856,47.645714285714284,48.32857142857143,48.99714285714286,49.67714285714286,50.34,51.005714285714284,51.66,52.31428571428572,52.94571428571428,53.582857142857144,54.231428571428566,54.86,55.50285714285714,56.137142857142855,56.77428571428571,57.39714285714286],\"yaxis\":\"y\",\"type\":\"scatter\"},{\"hovertemplate\":\"ParentLocation=Eastern Mediterranean<br>Period=%{x}<br>Prevalence=%{y}<extra></extra>\",\"legendgroup\":\"Eastern Mediterranean\",\"line\":{\"color\":\"#00cc96\",\"dash\":\"solid\"},\"marker\":{\"symbol\":\"circle\"},\"mode\":\"lines\",\"name\":\"Eastern Mediterranean\",\"orientation\":\"v\",\"showlegend\":true,\"x\":[1975,1976,1977,1978,1979,1980,1981,1982,1983,1984,1985,1986,1987,1988,1989,1990,1991,1992,1993,1994,1995,1996,1997,1998,1999,2000,2001,2002,2003,2004,2005,2006,2007,2008,2009,2010,2011,2012,2013,2014,2015,2016],\"xaxis\":\"x\",\"y\":[30.895238095238092,31.652380952380955,32.27142857142857,32.94761904761905,33.642857142857146,34.3,34.91428571428572,35.58095238095238,36.27142857142857,37.08095238095238,37.714285714285715,38.385714285714286,39.03333333333334,39.67142857142857,40.24285714285715,40.98571428571429,41.58571428571428,42.21904761904762,42.76190476190476,43.30952380952381,43.86190476190476,44.542857142857144,45.01904761904762,45.70952380952381,46.476190476190474,47.042857142857144,47.523809523809526,47.91428571428572,48.54761904761905,49.22857142857143,49.68095238095238,50.17619047619048,50.909523809523805,51.5047619047619,51.9952380952381,52.719047619047615,53.25714285714286,53.86666666666667,54.38571428571428,54.9952380952381,55.81428571428571,56.404761904761905],\"yaxis\":\"y\",\"type\":\"scatter\"},{\"hovertemplate\":\"ParentLocation=Europe<br>Period=%{x}<br>Prevalence=%{y}<extra></extra>\",\"legendgroup\":\"Europe\",\"line\":{\"color\":\"#ab63fa\",\"dash\":\"solid\"},\"marker\":{\"symbol\":\"circle\"},\"mode\":\"lines\",\"name\":\"Europe\",\"orientation\":\"v\",\"showlegend\":true,\"x\":[1975,1976,1977,1978,1979,1980,1981,1982,1983,1984,1985,1986,1987,1988,1989,1990,1991,1992,1993,1994,1995,1996,1997,1998,1999,2000,2001,2002,2003,2004,2005,2006,2007,2008,2009,2010,2011,2012,2013,2014,2015,2016],\"xaxis\":\"x\",\"y\":[36.937254901960785,37.53333333333333,38.141176470588235,38.745098039215684,39.34117647058824,39.93529411764706,40.523529411764706,41.101960784313725,41.680392156862744,42.245098039215684,42.80392156862745,43.35294117647059,43.89411764705882,44.42745098039216,44.950980392156865,45.470588235294116,45.98039215686274,46.476470588235294,46.96078431372549,47.42745098039216,47.90980392156863,48.364705882352936,48.82745098039215,49.2921568627451,49.74901960784313,50.21568627450981,50.66274509803922,51.127450980392155,51.59803921568628,52.07254901960784,52.537254901960786,53.01960784313726,53.48823529411765,53.95490196078431,54.41764705882353,54.89411764705882,55.35098039215686,55.819607843137256,56.27450980392157,56.739215686274505,57.205882352941174,57.66470588235294],\"yaxis\":\"y\",\"type\":\"scatter\"},{\"hovertemplate\":\"ParentLocation=South-East Asia<br>Period=%{x}<br>Prevalence=%{y}<extra></extra>\",\"legendgroup\":\"South-East Asia\",\"line\":{\"color\":\"#FFA15A\",\"dash\":\"solid\"},\"marker\":{\"symbol\":\"circle\"},\"mode\":\"lines\",\"name\":\"South-East Asia\",\"orientation\":\"v\",\"showlegend\":true,\"x\":[1975,1976,1977,1978,1979,1980,1981,1982,1983,1984,1985,1986,1987,1988,1989,1990,1991,1992,1993,1994,1995,1996,1997,1998,1999,2000,2001,2002,2003,2004,2005,2006,2007,2008,2009,2010,2011,2012,2013,2014,2015,2016],\"xaxis\":\"x\",\"y\":[7.254545454545454,7.472727272727273,7.7272727272727275,7.954545454545454,8.218181818181819,8.5,8.763636363636364,9.036363636363637,9.318181818181818,9.636363636363637,9.918181818181818,10.227272727272727,10.563636363636364,10.89090909090909,11.254545454545454,11.590909090909092,11.927272727272726,12.281818181818181,12.672727272727274,13.063636363636363,13.454545454545455,13.863636363636363,14.29090909090909,14.745454545454544,15.19090909090909,15.663636363636364,16.145454545454545,16.672727272727272,17.20909090909091,17.745454545454546,18.327272727272728,18.918181818181818,19.527272727272727,20.145454545454545,20.772727272727273,21.427272727272726,22.072727272727274,22.754545454545454,23.436363636363637,24.136363636363637,24.845454545454547,25.572727272727274],\"yaxis\":\"y\",\"type\":\"scatter\"},{\"hovertemplate\":\"ParentLocation=Western Pacific<br>Period=%{x}<br>Prevalence=%{y}<extra></extra>\",\"legendgroup\":\"Western Pacific\",\"line\":{\"color\":\"#19d3f3\",\"dash\":\"solid\"},\"marker\":{\"symbol\":\"circle\"},\"mode\":\"lines\",\"name\":\"Western Pacific\",\"orientation\":\"v\",\"showlegend\":true,\"x\":[1975,1976,1977,1978,1979,1980,1981,1982,1983,1984,1985,1986,1987,1988,1989,1990,1991,1992,1993,1994,1995,1996,1997,1998,1999,2000,2001,2002,2003,2004,2005,2006,2007,2008,2009,2010,2011,2012,2013,2014,2015,2016],\"xaxis\":\"x\",\"y\":[33.70740740740741,34.25925925925926,34.803703703703704,35.351851851851855,35.89259259259259,36.42962962962963,36.974074074074075,37.51851851851852,38.074074074074076,38.64074074074074,39.2,39.77407407407408,40.351851851851855,40.903703703703705,41.48518518518518,42.06666666666666,42.644444444444446,43.2074074074074,43.766666666666666,44.333333333333336,44.87407407407407,45.43333333333334,45.974074074074075,46.54074074074074,47.08148148148148,47.62592592592593,48.18888888888888,48.74814814814815,49.32222222222222,49.888888888888886,50.44074074074074,51.025925925925925,51.577777777777776,52.144444444444446,52.7037037037037,53.270370370370365,53.82222222222222,54.38148148148148,54.94074074074074,55.470370370370375,56.02222222222222,56.56296296296296],\"yaxis\":\"y\",\"type\":\"scatter\"}],                        {\"template\":{\"data\":{\"barpolar\":[{\"marker\":{\"line\":{\"color\":\"white\",\"width\":0.5},\"pattern\":{\"fillmode\":\"overlay\",\"size\":10,\"solidity\":0.2}},\"type\":\"barpolar\"}],\"bar\":[{\"error_x\":{\"color\":\"rgb(36,36,36)\"},\"error_y\":{\"color\":\"rgb(36,36,36)\"},\"marker\":{\"line\":{\"color\":\"white\",\"width\":0.5},\"pattern\":{\"fillmode\":\"overlay\",\"size\":10,\"solidity\":0.2}},\"type\":\"bar\"}],\"carpet\":[{\"aaxis\":{\"endlinecolor\":\"rgb(36,36,36)\",\"gridcolor\":\"white\",\"linecolor\":\"white\",\"minorgridcolor\":\"white\",\"startlinecolor\":\"rgb(36,36,36)\"},\"baxis\":{\"endlinecolor\":\"rgb(36,36,36)\",\"gridcolor\":\"white\",\"linecolor\":\"white\",\"minorgridcolor\":\"white\",\"startlinecolor\":\"rgb(36,36,36)\"},\"type\":\"carpet\"}],\"choropleth\":[{\"colorbar\":{\"outlinewidth\":1,\"tickcolor\":\"rgb(36,36,36)\",\"ticks\":\"outside\"},\"type\":\"choropleth\"}],\"contourcarpet\":[{\"colorbar\":{\"outlinewidth\":1,\"tickcolor\":\"rgb(36,36,36)\",\"ticks\":\"outside\"},\"type\":\"contourcarpet\"}],\"contour\":[{\"colorbar\":{\"outlinewidth\":1,\"tickcolor\":\"rgb(36,36,36)\",\"ticks\":\"outside\"},\"colorscale\":[[0.0,\"#440154\"],[0.1111111111111111,\"#482878\"],[0.2222222222222222,\"#3e4989\"],[0.3333333333333333,\"#31688e\"],[0.4444444444444444,\"#26828e\"],[0.5555555555555556,\"#1f9e89\"],[0.6666666666666666,\"#35b779\"],[0.7777777777777778,\"#6ece58\"],[0.8888888888888888,\"#b5de2b\"],[1.0,\"#fde725\"]],\"type\":\"contour\"}],\"heatmapgl\":[{\"colorbar\":{\"outlinewidth\":1,\"tickcolor\":\"rgb(36,36,36)\",\"ticks\":\"outside\"},\"colorscale\":[[0.0,\"#440154\"],[0.1111111111111111,\"#482878\"],[0.2222222222222222,\"#3e4989\"],[0.3333333333333333,\"#31688e\"],[0.4444444444444444,\"#26828e\"],[0.5555555555555556,\"#1f9e89\"],[0.6666666666666666,\"#35b779\"],[0.7777777777777778,\"#6ece58\"],[0.8888888888888888,\"#b5de2b\"],[1.0,\"#fde725\"]],\"type\":\"heatmapgl\"}],\"heatmap\":[{\"colorbar\":{\"outlinewidth\":1,\"tickcolor\":\"rgb(36,36,36)\",\"ticks\":\"outside\"},\"colorscale\":[[0.0,\"#440154\"],[0.1111111111111111,\"#482878\"],[0.2222222222222222,\"#3e4989\"],[0.3333333333333333,\"#31688e\"],[0.4444444444444444,\"#26828e\"],[0.5555555555555556,\"#1f9e89\"],[0.6666666666666666,\"#35b779\"],[0.7777777777777778,\"#6ece58\"],[0.8888888888888888,\"#b5de2b\"],[1.0,\"#fde725\"]],\"type\":\"heatmap\"}],\"histogram2dcontour\":[{\"colorbar\":{\"outlinewidth\":1,\"tickcolor\":\"rgb(36,36,36)\",\"ticks\":\"outside\"},\"colorscale\":[[0.0,\"#440154\"],[0.1111111111111111,\"#482878\"],[0.2222222222222222,\"#3e4989\"],[0.3333333333333333,\"#31688e\"],[0.4444444444444444,\"#26828e\"],[0.5555555555555556,\"#1f9e89\"],[0.6666666666666666,\"#35b779\"],[0.7777777777777778,\"#6ece58\"],[0.8888888888888888,\"#b5de2b\"],[1.0,\"#fde725\"]],\"type\":\"histogram2dcontour\"}],\"histogram2d\":[{\"colorbar\":{\"outlinewidth\":1,\"tickcolor\":\"rgb(36,36,36)\",\"ticks\":\"outside\"},\"colorscale\":[[0.0,\"#440154\"],[0.1111111111111111,\"#482878\"],[0.2222222222222222,\"#3e4989\"],[0.3333333333333333,\"#31688e\"],[0.4444444444444444,\"#26828e\"],[0.5555555555555556,\"#1f9e89\"],[0.6666666666666666,\"#35b779\"],[0.7777777777777778,\"#6ece58\"],[0.8888888888888888,\"#b5de2b\"],[1.0,\"#fde725\"]],\"type\":\"histogram2d\"}],\"histogram\":[{\"marker\":{\"line\":{\"color\":\"white\",\"width\":0.6}},\"type\":\"histogram\"}],\"mesh3d\":[{\"colorbar\":{\"outlinewidth\":1,\"tickcolor\":\"rgb(36,36,36)\",\"ticks\":\"outside\"},\"type\":\"mesh3d\"}],\"parcoords\":[{\"line\":{\"colorbar\":{\"outlinewidth\":1,\"tickcolor\":\"rgb(36,36,36)\",\"ticks\":\"outside\"}},\"type\":\"parcoords\"}],\"pie\":[{\"automargin\":true,\"type\":\"pie\"}],\"scatter3d\":[{\"line\":{\"colorbar\":{\"outlinewidth\":1,\"tickcolor\":\"rgb(36,36,36)\",\"ticks\":\"outside\"}},\"marker\":{\"colorbar\":{\"outlinewidth\":1,\"tickcolor\":\"rgb(36,36,36)\",\"ticks\":\"outside\"}},\"type\":\"scatter3d\"}],\"scattercarpet\":[{\"marker\":{\"colorbar\":{\"outlinewidth\":1,\"tickcolor\":\"rgb(36,36,36)\",\"ticks\":\"outside\"}},\"type\":\"scattercarpet\"}],\"scattergeo\":[{\"marker\":{\"colorbar\":{\"outlinewidth\":1,\"tickcolor\":\"rgb(36,36,36)\",\"ticks\":\"outside\"}},\"type\":\"scattergeo\"}],\"scattergl\":[{\"marker\":{\"colorbar\":{\"outlinewidth\":1,\"tickcolor\":\"rgb(36,36,36)\",\"ticks\":\"outside\"}},\"type\":\"scattergl\"}],\"scattermapbox\":[{\"marker\":{\"colorbar\":{\"outlinewidth\":1,\"tickcolor\":\"rgb(36,36,36)\",\"ticks\":\"outside\"}},\"type\":\"scattermapbox\"}],\"scatterpolargl\":[{\"marker\":{\"colorbar\":{\"outlinewidth\":1,\"tickcolor\":\"rgb(36,36,36)\",\"ticks\":\"outside\"}},\"type\":\"scatterpolargl\"}],\"scatterpolar\":[{\"marker\":{\"colorbar\":{\"outlinewidth\":1,\"tickcolor\":\"rgb(36,36,36)\",\"ticks\":\"outside\"}},\"type\":\"scatterpolar\"}],\"scatter\":[{\"fillpattern\":{\"fillmode\":\"overlay\",\"size\":10,\"solidity\":0.2},\"type\":\"scatter\"}],\"scatterternary\":[{\"marker\":{\"colorbar\":{\"outlinewidth\":1,\"tickcolor\":\"rgb(36,36,36)\",\"ticks\":\"outside\"}},\"type\":\"scatterternary\"}],\"surface\":[{\"colorbar\":{\"outlinewidth\":1,\"tickcolor\":\"rgb(36,36,36)\",\"ticks\":\"outside\"},\"colorscale\":[[0.0,\"#440154\"],[0.1111111111111111,\"#482878\"],[0.2222222222222222,\"#3e4989\"],[0.3333333333333333,\"#31688e\"],[0.4444444444444444,\"#26828e\"],[0.5555555555555556,\"#1f9e89\"],[0.6666666666666666,\"#35b779\"],[0.7777777777777778,\"#6ece58\"],[0.8888888888888888,\"#b5de2b\"],[1.0,\"#fde725\"]],\"type\":\"surface\"}],\"table\":[{\"cells\":{\"fill\":{\"color\":\"rgb(237,237,237)\"},\"line\":{\"color\":\"white\"}},\"header\":{\"fill\":{\"color\":\"rgb(217,217,217)\"},\"line\":{\"color\":\"white\"}},\"type\":\"table\"}]},\"layout\":{\"annotationdefaults\":{\"arrowhead\":0,\"arrowwidth\":1},\"autotypenumbers\":\"strict\",\"coloraxis\":{\"colorbar\":{\"outlinewidth\":1,\"tickcolor\":\"rgb(36,36,36)\",\"ticks\":\"outside\"}},\"colorscale\":{\"diverging\":[[0.0,\"rgb(103,0,31)\"],[0.1,\"rgb(178,24,43)\"],[0.2,\"rgb(214,96,77)\"],[0.3,\"rgb(244,165,130)\"],[0.4,\"rgb(253,219,199)\"],[0.5,\"rgb(247,247,247)\"],[0.6,\"rgb(209,229,240)\"],[0.7,\"rgb(146,197,222)\"],[0.8,\"rgb(67,147,195)\"],[0.9,\"rgb(33,102,172)\"],[1.0,\"rgb(5,48,97)\"]],\"sequential\":[[0.0,\"#440154\"],[0.1111111111111111,\"#482878\"],[0.2222222222222222,\"#3e4989\"],[0.3333333333333333,\"#31688e\"],[0.4444444444444444,\"#26828e\"],[0.5555555555555556,\"#1f9e89\"],[0.6666666666666666,\"#35b779\"],[0.7777777777777778,\"#6ece58\"],[0.8888888888888888,\"#b5de2b\"],[1.0,\"#fde725\"]],\"sequentialminus\":[[0.0,\"#440154\"],[0.1111111111111111,\"#482878\"],[0.2222222222222222,\"#3e4989\"],[0.3333333333333333,\"#31688e\"],[0.4444444444444444,\"#26828e\"],[0.5555555555555556,\"#1f9e89\"],[0.6666666666666666,\"#35b779\"],[0.7777777777777778,\"#6ece58\"],[0.8888888888888888,\"#b5de2b\"],[1.0,\"#fde725\"]]},\"colorway\":[\"#1F77B4\",\"#FF7F0E\",\"#2CA02C\",\"#D62728\",\"#9467BD\",\"#8C564B\",\"#E377C2\",\"#7F7F7F\",\"#BCBD22\",\"#17BECF\"],\"font\":{\"color\":\"rgb(36,36,36)\"},\"geo\":{\"bgcolor\":\"white\",\"lakecolor\":\"white\",\"landcolor\":\"white\",\"showlakes\":true,\"showland\":true,\"subunitcolor\":\"white\"},\"hoverlabel\":{\"align\":\"left\"},\"hovermode\":\"closest\",\"mapbox\":{\"style\":\"light\"},\"paper_bgcolor\":\"white\",\"plot_bgcolor\":\"white\",\"polar\":{\"angularaxis\":{\"gridcolor\":\"rgb(232,232,232)\",\"linecolor\":\"rgb(36,36,36)\",\"showgrid\":false,\"showline\":true,\"ticks\":\"outside\"},\"bgcolor\":\"white\",\"radialaxis\":{\"gridcolor\":\"rgb(232,232,232)\",\"linecolor\":\"rgb(36,36,36)\",\"showgrid\":false,\"showline\":true,\"ticks\":\"outside\"}},\"scene\":{\"xaxis\":{\"backgroundcolor\":\"white\",\"gridcolor\":\"rgb(232,232,232)\",\"gridwidth\":2,\"linecolor\":\"rgb(36,36,36)\",\"showbackground\":true,\"showgrid\":false,\"showline\":true,\"ticks\":\"outside\",\"zeroline\":false,\"zerolinecolor\":\"rgb(36,36,36)\"},\"yaxis\":{\"backgroundcolor\":\"white\",\"gridcolor\":\"rgb(232,232,232)\",\"gridwidth\":2,\"linecolor\":\"rgb(36,36,36)\",\"showbackground\":true,\"showgrid\":false,\"showline\":true,\"ticks\":\"outside\",\"zeroline\":false,\"zerolinecolor\":\"rgb(36,36,36)\"},\"zaxis\":{\"backgroundcolor\":\"white\",\"gridcolor\":\"rgb(232,232,232)\",\"gridwidth\":2,\"linecolor\":\"rgb(36,36,36)\",\"showbackground\":true,\"showgrid\":false,\"showline\":true,\"ticks\":\"outside\",\"zeroline\":false,\"zerolinecolor\":\"rgb(36,36,36)\"}},\"shapedefaults\":{\"fillcolor\":\"black\",\"line\":{\"width\":0},\"opacity\":0.3},\"ternary\":{\"aaxis\":{\"gridcolor\":\"rgb(232,232,232)\",\"linecolor\":\"rgb(36,36,36)\",\"showgrid\":false,\"showline\":true,\"ticks\":\"outside\"},\"baxis\":{\"gridcolor\":\"rgb(232,232,232)\",\"linecolor\":\"rgb(36,36,36)\",\"showgrid\":false,\"showline\":true,\"ticks\":\"outside\"},\"bgcolor\":\"white\",\"caxis\":{\"gridcolor\":\"rgb(232,232,232)\",\"linecolor\":\"rgb(36,36,36)\",\"showgrid\":false,\"showline\":true,\"ticks\":\"outside\"}},\"title\":{\"x\":0.05},\"xaxis\":{\"automargin\":true,\"gridcolor\":\"rgb(232,232,232)\",\"linecolor\":\"rgb(36,36,36)\",\"showgrid\":false,\"showline\":true,\"ticks\":\"outside\",\"title\":{\"standoff\":15},\"zeroline\":false,\"zerolinecolor\":\"rgb(36,36,36)\"},\"yaxis\":{\"automargin\":true,\"gridcolor\":\"rgb(232,232,232)\",\"linecolor\":\"rgb(36,36,36)\",\"showgrid\":false,\"showline\":true,\"ticks\":\"outside\",\"title\":{\"standoff\":15},\"zeroline\":false,\"zerolinecolor\":\"rgb(36,36,36)\"}}},\"xaxis\":{\"anchor\":\"y\",\"domain\":[0.0,1.0],\"title\":{\"text\":\"Period\"}},\"yaxis\":{\"anchor\":\"x\",\"domain\":[0.0,1.0],\"title\":{\"text\":\"Prevalence\"}},\"legend\":{\"title\":{\"text\":\"ParentLocation\"},\"tracegroupgap\":0},\"margin\":{\"t\":60}},                        {\"responsive\": true}                    ).then(function(){\n",
       "                            \n",
       "var gd = document.getElementById('c0b9880b-0a39-48d7-b142-ff1507e9377b');\n",
       "var x = new MutationObserver(function (mutations, observer) {{\n",
       "        var display = window.getComputedStyle(gd).display;\n",
       "        if (!display || display === 'none') {{\n",
       "            console.log([gd, 'removed!']);\n",
       "            Plotly.purge(gd);\n",
       "            observer.disconnect();\n",
       "        }}\n",
       "}});\n",
       "\n",
       "// Listen for the removal of the full notebook cells\n",
       "var notebookContainer = gd.closest('#notebook-container');\n",
       "if (notebookContainer) {{\n",
       "    x.observe(notebookContainer, {childList: true});\n",
       "}}\n",
       "\n",
       "// Listen for the clearing of the current output cell\n",
       "var outputEl = gd.closest('.output');\n",
       "if (outputEl) {{\n",
       "    x.observe(outputEl, {childList: true});\n",
       "}}\n",
       "\n",
       "                        })                };                });            </script>        </div>"
      ]
     },
     "metadata": {},
     "output_type": "display_data"
    }
   ],
   "source": [
    "grouped_df = df.groupby(\n",
    "    ['ParentLocation', 'Gender', 'Period']\n",
    ")['Prevalence'].mean().reset_index()\n",
    "\n",
    "def create_figure():\n",
    "    # Create figure and traces\n",
    "    fig = px.line(\n",
    "        grouped_df[(grouped_df['Gender'] == 'Both sexes')],\n",
    "        x='Period', \n",
    "        y='Prevalence', \n",
    "        #name=loc, \n",
    "        color='ParentLocation',\n",
    "        #hovertemplate=None,\n",
    "        #showlegend=True\n",
    "    )\n",
    "\n",
    "    # Prettify\n",
    "    fig.update_layout(\n",
    "        template='simple_white'\n",
    "    )\n",
    "    return fig\n",
    "\n",
    "fig = create_figure()\n",
    "fig.show()"
   ]
  },
  {
   "cell_type": "markdown",
   "id": "33cb62ad",
   "metadata": {},
   "source": [
    "# Gender comparison by country"
   ]
  },
  {
   "cell_type": "code",
   "execution_count": 17,
   "id": "7f0cdc9e",
   "metadata": {},
   "outputs": [
    {
     "data": {
      "application/vnd.jupyter.widget-view+json": {
       "model_id": "cddbb962a96945ed905928f8cecd134f",
       "version_major": 2,
       "version_minor": 0
      },
      "text/plain": [
       "VBox(children=(HBox(children=(Dropdown(description='Country', options=('Afghanistan', 'Albania', 'Algeria', 'A…"
      ]
     },
     "execution_count": 17,
     "metadata": {},
     "output_type": "execute_result"
    }
   ],
   "source": [
    "# Define widgets (using previous function)\n",
    "dd = create_dd('Country', 0)\n",
    "\n",
    "def create_figure():\n",
    "    # Create figure and traces\n",
    "    fig = px.line(\n",
    "        df[(df['Gender'] != 'Both sexes')],\n",
    "        x='Period', \n",
    "        y='Prevalence', \n",
    "        #name=loc, \n",
    "        color='Gender',\n",
    "        #hovertemplate=None,\n",
    "        #showlegend=True\n",
    "    )\n",
    "\n",
    "    # Prettify\n",
    "    fig.update_layout(\n",
    "        template='simple_white'\n",
    "    )\n",
    "    return fig\n",
    "\n",
    "fig = create_figure()\n",
    "\n",
    "# Create the Figure Widget\n",
    "g = go.FigureWidget(\n",
    "    data = fig,\n",
    "    layout=go.Layout(\n",
    "        barmode='overlay'\n",
    "    )\n",
    ")\n",
    "\n",
    "# Handle what to do when the DD value changes\n",
    "def response(change):\n",
    "    dfs = []\n",
    "    for gender in ['Female', 'Male']:\n",
    "        dfs.append(df[\n",
    "            (df['Gender'] == gender) \n",
    "            & (df['Location'] == dd.value)\n",
    "            ])\n",
    "    x = [temp_df['Period'] for temp_df in dfs]\n",
    "    y = [temp_df['Prevalence'] for temp_df in dfs]\n",
    "    \n",
    "    with g.batch_update():\n",
    "        for i in range(len(g.data)):\n",
    "            g.data[i].x = x[i]\n",
    "            g.data[i].y = y[i]\n",
    "            g.data[i].name = 'Female' if i%2 != 0 else 'Male'\n",
    "\n",
    "        g.layout.barmode = 'overlay'\n",
    "        g.layout.xaxis.title = 'Period'\n",
    "        g.layout.yaxis.title = 'Prevalence'\n",
    "\n",
    "# Running the function to load the data properly\n",
    "response(None)\n",
    "dd.observe(response, names=\"value\")\n",
    "\n",
    "container = widgets.HBox([dd])\n",
    "widgets.VBox([container, g])"
   ]
  },
  {
   "cell_type": "markdown",
   "id": "d50ffcad",
   "metadata": {},
   "source": [
    "# Top Prevalences in 1975 vs 2016"
   ]
  },
  {
   "cell_type": "code",
   "execution_count": 13,
   "id": "ba6625ec",
   "metadata": {},
   "outputs": [
    {
     "data": {
      "application/vnd.plotly.v1+json": {
       "config": {
        "plotlyServerURL": "https://plot.ly"
       },
       "data": [
        {
         "marker": {
          "color": [
           82.1,
           68,
           67,
           66.9,
           59.3,
           57.8,
           57.3,
           56.7,
           54.7,
           54.4,
           54.3,
           54.2,
           53,
           50.9,
           48.4
          ],
          "colorscale": [
           [
            0,
            "#440154"
           ],
           [
            0.1111111111111111,
            "#482878"
           ],
           [
            0.2222222222222222,
            "#3e4989"
           ],
           [
            0.3333333333333333,
            "#31688e"
           ],
           [
            0.4444444444444444,
            "#26828e"
           ],
           [
            0.5555555555555556,
            "#1f9e89"
           ],
           [
            0.6666666666666666,
            "#35b779"
           ],
           [
            0.7777777777777778,
            "#6ece58"
           ],
           [
            0.8888888888888888,
            "#b5de2b"
           ],
           [
            1,
            "#fde725"
           ]
          ]
         },
         "showlegend": false,
         "type": "bar",
         "x": [
          "Nauru",
          "Palau",
          "Marshall Islands",
          "Cook Islands",
          "Kuwait",
          "Qatar",
          "Samoa",
          "Tonga",
          "Micronesia (Federated States of)",
          "United Arab Emirates",
          "Niue",
          "Tuvalu",
          "Bahrain",
          "Kiribati",
          "Russian Federation"
         ],
         "xaxis": "x",
         "y": [
          82.1,
          68,
          67,
          66.9,
          59.3,
          57.8,
          57.3,
          56.7,
          54.7,
          54.4,
          54.3,
          54.2,
          53,
          50.9,
          48.4
         ],
         "yaxis": "y"
        },
        {
         "marker": {
          "color": [
           88.7,
           85.9,
           85.8,
           84.9,
           83.8,
           82.5,
           82.2,
           82,
           80.9,
           79.8,
           75.1,
           73.3,
           72.2,
           71.8,
           71.1
          ],
          "colorscale": [
           [
            0,
            "#440154"
           ],
           [
            0.1111111111111111,
            "#482878"
           ],
           [
            0.2222222222222222,
            "#3e4989"
           ],
           [
            0.3333333333333333,
            "#31688e"
           ],
           [
            0.4444444444444444,
            "#26828e"
           ],
           [
            0.5555555555555556,
            "#1f9e89"
           ],
           [
            0.6666666666666666,
            "#35b779"
           ],
           [
            0.7777777777777778,
            "#6ece58"
           ],
           [
            0.8888888888888888,
            "#b5de2b"
           ],
           [
            1,
            "#fde725"
           ]
          ]
         },
         "showlegend": false,
         "type": "bar",
         "x": [
          "Nauru",
          "Palau",
          "Cook Islands",
          "Marshall Islands",
          "Tuvalu",
          "Niue",
          "Tonga",
          "Samoa",
          "Kiribati",
          "Micronesia (Federated States of)",
          "Kuwait",
          "Qatar",
          "Jordan",
          "Saudi Arabia",
          "United Arab Emirates"
         ],
         "xaxis": "x2",
         "y": [
          88.7,
          85.9,
          85.8,
          84.9,
          83.8,
          82.5,
          82.2,
          82,
          80.9,
          79.8,
          75.1,
          73.3,
          72.2,
          71.8,
          71.1
         ],
         "yaxis": "y2"
        },
        {
         "marker": {
          "color": [
           73.6,
           59,
           57.8,
           57.8,
           50.8,
           49,
           48.4,
           48.1,
           47.7,
           47.5,
           47.1,
           46.9,
           46.7,
           46.6,
           46.5
          ],
          "colorscale": [
           [
            0,
            "#440154"
           ],
           [
            0.1111111111111111,
            "#482878"
           ],
           [
            0.2222222222222222,
            "#3e4989"
           ],
           [
            0.3333333333333333,
            "#31688e"
           ],
           [
            0.4444444444444444,
            "#26828e"
           ],
           [
            0.5555555555555556,
            "#1f9e89"
           ],
           [
            0.6666666666666666,
            "#35b779"
           ],
           [
            0.7777777777777778,
            "#6ece58"
           ],
           [
            0.8888888888888888,
            "#b5de2b"
           ],
           [
            1,
            "#fde725"
           ]
          ]
         },
         "showlegend": false,
         "type": "bar",
         "x": [
          "Nauru",
          "Palau",
          "Marshall Islands",
          "Cook Islands",
          "Malta",
          "Samoa",
          "Tonga",
          "Andorra",
          "Israel",
          "Niue",
          "Czechia",
          "Kiribati",
          "Tuvalu",
          "Micronesia (Federated States of)",
          "Australia"
         ],
         "xaxis": "x3",
         "y": [
          73.6,
          59,
          57.8,
          57.8,
          50.8,
          49,
          48.4,
          48.1,
          47.7,
          47.5,
          47.1,
          46.9,
          46.7,
          46.6,
          46.5
         ],
         "yaxis": "y3"
        },
        {
         "marker": {
          "color": [
           88.3,
           84.3,
           83.7,
           82.1,
           80,
           77.6,
           76.6,
           74.8,
           73.6,
           73,
           72.7,
           72.4,
           72.1,
           71,
           70.9
          ],
          "colorscale": [
           [
            0,
            "#440154"
           ],
           [
            0.1111111111111111,
            "#482878"
           ],
           [
            0.2222222222222222,
            "#3e4989"
           ],
           [
            0.3333333333333333,
            "#31688e"
           ],
           [
            0.4444444444444444,
            "#26828e"
           ],
           [
            0.5555555555555556,
            "#1f9e89"
           ],
           [
            0.6666666666666666,
            "#35b779"
           ],
           [
            0.7777777777777778,
            "#6ece58"
           ],
           [
            0.8888888888888888,
            "#b5de2b"
           ],
           [
            1,
            "#fde725"
           ]
          ]
         },
         "showlegend": false,
         "type": "bar",
         "x": [
          "Nauru",
          "Palau",
          "Cook Islands",
          "Marshall Islands",
          "Tuvalu",
          "Niue",
          "Kiribati",
          "Tonga",
          "Samoa",
          "Malta",
          "United States of America",
          "Kuwait",
          "Micronesia (Federated States of)",
          "Qatar",
          "Australia"
         ],
         "xaxis": "x4",
         "y": [
          88.3,
          84.3,
          83.7,
          82.1,
          80,
          77.6,
          76.6,
          74.8,
          73.6,
          73,
          72.7,
          72.4,
          72.1,
          71,
          70.9
         ],
         "yaxis": "y4"
        },
        {
         "marker": {
          "color": [
           77.7,
           63.4,
           62.3,
           62.3,
           53.2,
           52.5,
           51.4,
           50.8,
           50.6,
           50.4,
           49.2,
           48.9,
           48.4,
           46.4,
           46.2
          ],
          "colorscale": [
           [
            0,
            "#440154"
           ],
           [
            0.1111111111111111,
            "#482878"
           ],
           [
            0.2222222222222222,
            "#3e4989"
           ],
           [
            0.3333333333333333,
            "#31688e"
           ],
           [
            0.4444444444444444,
            "#26828e"
           ],
           [
            0.5555555555555556,
            "#1f9e89"
           ],
           [
            0.6666666666666666,
            "#35b779"
           ],
           [
            0.7777777777777778,
            "#6ece58"
           ],
           [
            0.8888888888888888,
            "#b5de2b"
           ],
           [
            1,
            "#fde725"
           ]
          ]
         },
         "showlegend": false,
         "type": "bar",
         "x": [
          "Nauru",
          "Palau",
          "Marshall Islands",
          "Cook Islands",
          "Samoa",
          "Tonga",
          "Kuwait",
          "Niue",
          "Micronesia (Federated States of)",
          "Tuvalu",
          "Malta",
          "Kiribati",
          "Qatar",
          "Czechia",
          "Israel"
         ],
         "xaxis": "x5",
         "y": [
          77.7,
          63.4,
          62.3,
          62.3,
          53.2,
          52.5,
          51.4,
          50.8,
          50.6,
          50.4,
          49.2,
          48.9,
          48.4,
          46.4,
          46.2
         ],
         "yaxis": "y5"
        },
        {
         "marker": {
          "color": [
           88.5,
           85.1,
           84.7,
           83.5,
           81.9,
           80,
           78.7,
           78.5,
           77.6,
           75.9,
           73.4,
           71.7,
           69.7,
           69.6,
           67.9
          ],
          "colorscale": [
           [
            0,
            "#440154"
           ],
           [
            0.1111111111111111,
            "#482878"
           ],
           [
            0.2222222222222222,
            "#3e4989"
           ],
           [
            0.3333333333333333,
            "#31688e"
           ],
           [
            0.4444444444444444,
            "#26828e"
           ],
           [
            0.5555555555555556,
            "#1f9e89"
           ],
           [
            0.6666666666666666,
            "#35b779"
           ],
           [
            0.7777777777777778,
            "#6ece58"
           ],
           [
            0.8888888888888888,
            "#b5de2b"
           ],
           [
            1,
            "#fde725"
           ]
          ]
         },
         "showlegend": false,
         "type": "bar",
         "x": [
          "Nauru",
          "Palau",
          "Cook Islands",
          "Marshall Islands",
          "Tuvalu",
          "Niue",
          "Kiribati",
          "Tonga",
          "Samoa",
          "Micronesia (Federated States of)",
          "Kuwait",
          "Qatar",
          "Saudi Arabia",
          "Jordan",
          "United States of America"
         ],
         "xaxis": "x6",
         "y": [
          88.5,
          85.1,
          84.7,
          83.5,
          81.9,
          80,
          78.7,
          78.5,
          77.6,
          75.9,
          73.4,
          71.7,
          69.7,
          69.6,
          67.9
         ],
         "yaxis": "y6"
        }
       ],
       "layout": {
        "annotations": [
         {
          "font": {
           "size": 16
          },
          "showarrow": false,
          "text": "1975",
          "x": 0.225,
          "xanchor": "center",
          "xref": "paper",
          "y": 1,
          "yanchor": "bottom",
          "yref": "paper"
         },
         {
          "font": {
           "size": 16
          },
          "showarrow": false,
          "text": "2016",
          "x": 0.775,
          "xanchor": "center",
          "xref": "paper",
          "y": 1,
          "yanchor": "bottom",
          "yref": "paper"
         }
        ],
        "height": 900,
        "template": {
         "data": {
          "bar": [
           {
            "error_x": {
             "color": "rgb(36,36,36)"
            },
            "error_y": {
             "color": "rgb(36,36,36)"
            },
            "marker": {
             "line": {
              "color": "white",
              "width": 0.5
             },
             "pattern": {
              "fillmode": "overlay",
              "size": 10,
              "solidity": 0.2
             }
            },
            "type": "bar"
           }
          ],
          "barpolar": [
           {
            "marker": {
             "line": {
              "color": "white",
              "width": 0.5
             },
             "pattern": {
              "fillmode": "overlay",
              "size": 10,
              "solidity": 0.2
             }
            },
            "type": "barpolar"
           }
          ],
          "carpet": [
           {
            "aaxis": {
             "endlinecolor": "rgb(36,36,36)",
             "gridcolor": "white",
             "linecolor": "white",
             "minorgridcolor": "white",
             "startlinecolor": "rgb(36,36,36)"
            },
            "baxis": {
             "endlinecolor": "rgb(36,36,36)",
             "gridcolor": "white",
             "linecolor": "white",
             "minorgridcolor": "white",
             "startlinecolor": "rgb(36,36,36)"
            },
            "type": "carpet"
           }
          ],
          "choropleth": [
           {
            "colorbar": {
             "outlinewidth": 1,
             "tickcolor": "rgb(36,36,36)",
             "ticks": "outside"
            },
            "type": "choropleth"
           }
          ],
          "contour": [
           {
            "colorbar": {
             "outlinewidth": 1,
             "tickcolor": "rgb(36,36,36)",
             "ticks": "outside"
            },
            "colorscale": [
             [
              0,
              "#440154"
             ],
             [
              0.1111111111111111,
              "#482878"
             ],
             [
              0.2222222222222222,
              "#3e4989"
             ],
             [
              0.3333333333333333,
              "#31688e"
             ],
             [
              0.4444444444444444,
              "#26828e"
             ],
             [
              0.5555555555555556,
              "#1f9e89"
             ],
             [
              0.6666666666666666,
              "#35b779"
             ],
             [
              0.7777777777777778,
              "#6ece58"
             ],
             [
              0.8888888888888888,
              "#b5de2b"
             ],
             [
              1,
              "#fde725"
             ]
            ],
            "type": "contour"
           }
          ],
          "contourcarpet": [
           {
            "colorbar": {
             "outlinewidth": 1,
             "tickcolor": "rgb(36,36,36)",
             "ticks": "outside"
            },
            "type": "contourcarpet"
           }
          ],
          "heatmap": [
           {
            "colorbar": {
             "outlinewidth": 1,
             "tickcolor": "rgb(36,36,36)",
             "ticks": "outside"
            },
            "colorscale": [
             [
              0,
              "#440154"
             ],
             [
              0.1111111111111111,
              "#482878"
             ],
             [
              0.2222222222222222,
              "#3e4989"
             ],
             [
              0.3333333333333333,
              "#31688e"
             ],
             [
              0.4444444444444444,
              "#26828e"
             ],
             [
              0.5555555555555556,
              "#1f9e89"
             ],
             [
              0.6666666666666666,
              "#35b779"
             ],
             [
              0.7777777777777778,
              "#6ece58"
             ],
             [
              0.8888888888888888,
              "#b5de2b"
             ],
             [
              1,
              "#fde725"
             ]
            ],
            "type": "heatmap"
           }
          ],
          "heatmapgl": [
           {
            "colorbar": {
             "outlinewidth": 1,
             "tickcolor": "rgb(36,36,36)",
             "ticks": "outside"
            },
            "colorscale": [
             [
              0,
              "#440154"
             ],
             [
              0.1111111111111111,
              "#482878"
             ],
             [
              0.2222222222222222,
              "#3e4989"
             ],
             [
              0.3333333333333333,
              "#31688e"
             ],
             [
              0.4444444444444444,
              "#26828e"
             ],
             [
              0.5555555555555556,
              "#1f9e89"
             ],
             [
              0.6666666666666666,
              "#35b779"
             ],
             [
              0.7777777777777778,
              "#6ece58"
             ],
             [
              0.8888888888888888,
              "#b5de2b"
             ],
             [
              1,
              "#fde725"
             ]
            ],
            "type": "heatmapgl"
           }
          ],
          "histogram": [
           {
            "marker": {
             "line": {
              "color": "white",
              "width": 0.6
             }
            },
            "type": "histogram"
           }
          ],
          "histogram2d": [
           {
            "colorbar": {
             "outlinewidth": 1,
             "tickcolor": "rgb(36,36,36)",
             "ticks": "outside"
            },
            "colorscale": [
             [
              0,
              "#440154"
             ],
             [
              0.1111111111111111,
              "#482878"
             ],
             [
              0.2222222222222222,
              "#3e4989"
             ],
             [
              0.3333333333333333,
              "#31688e"
             ],
             [
              0.4444444444444444,
              "#26828e"
             ],
             [
              0.5555555555555556,
              "#1f9e89"
             ],
             [
              0.6666666666666666,
              "#35b779"
             ],
             [
              0.7777777777777778,
              "#6ece58"
             ],
             [
              0.8888888888888888,
              "#b5de2b"
             ],
             [
              1,
              "#fde725"
             ]
            ],
            "type": "histogram2d"
           }
          ],
          "histogram2dcontour": [
           {
            "colorbar": {
             "outlinewidth": 1,
             "tickcolor": "rgb(36,36,36)",
             "ticks": "outside"
            },
            "colorscale": [
             [
              0,
              "#440154"
             ],
             [
              0.1111111111111111,
              "#482878"
             ],
             [
              0.2222222222222222,
              "#3e4989"
             ],
             [
              0.3333333333333333,
              "#31688e"
             ],
             [
              0.4444444444444444,
              "#26828e"
             ],
             [
              0.5555555555555556,
              "#1f9e89"
             ],
             [
              0.6666666666666666,
              "#35b779"
             ],
             [
              0.7777777777777778,
              "#6ece58"
             ],
             [
              0.8888888888888888,
              "#b5de2b"
             ],
             [
              1,
              "#fde725"
             ]
            ],
            "type": "histogram2dcontour"
           }
          ],
          "mesh3d": [
           {
            "colorbar": {
             "outlinewidth": 1,
             "tickcolor": "rgb(36,36,36)",
             "ticks": "outside"
            },
            "type": "mesh3d"
           }
          ],
          "parcoords": [
           {
            "line": {
             "colorbar": {
              "outlinewidth": 1,
              "tickcolor": "rgb(36,36,36)",
              "ticks": "outside"
             }
            },
            "type": "parcoords"
           }
          ],
          "pie": [
           {
            "automargin": true,
            "type": "pie"
           }
          ],
          "scatter": [
           {
            "fillpattern": {
             "fillmode": "overlay",
             "size": 10,
             "solidity": 0.2
            },
            "type": "scatter"
           }
          ],
          "scatter3d": [
           {
            "line": {
             "colorbar": {
              "outlinewidth": 1,
              "tickcolor": "rgb(36,36,36)",
              "ticks": "outside"
             }
            },
            "marker": {
             "colorbar": {
              "outlinewidth": 1,
              "tickcolor": "rgb(36,36,36)",
              "ticks": "outside"
             }
            },
            "type": "scatter3d"
           }
          ],
          "scattercarpet": [
           {
            "marker": {
             "colorbar": {
              "outlinewidth": 1,
              "tickcolor": "rgb(36,36,36)",
              "ticks": "outside"
             }
            },
            "type": "scattercarpet"
           }
          ],
          "scattergeo": [
           {
            "marker": {
             "colorbar": {
              "outlinewidth": 1,
              "tickcolor": "rgb(36,36,36)",
              "ticks": "outside"
             }
            },
            "type": "scattergeo"
           }
          ],
          "scattergl": [
           {
            "marker": {
             "colorbar": {
              "outlinewidth": 1,
              "tickcolor": "rgb(36,36,36)",
              "ticks": "outside"
             }
            },
            "type": "scattergl"
           }
          ],
          "scattermapbox": [
           {
            "marker": {
             "colorbar": {
              "outlinewidth": 1,
              "tickcolor": "rgb(36,36,36)",
              "ticks": "outside"
             }
            },
            "type": "scattermapbox"
           }
          ],
          "scatterpolar": [
           {
            "marker": {
             "colorbar": {
              "outlinewidth": 1,
              "tickcolor": "rgb(36,36,36)",
              "ticks": "outside"
             }
            },
            "type": "scatterpolar"
           }
          ],
          "scatterpolargl": [
           {
            "marker": {
             "colorbar": {
              "outlinewidth": 1,
              "tickcolor": "rgb(36,36,36)",
              "ticks": "outside"
             }
            },
            "type": "scatterpolargl"
           }
          ],
          "scatterternary": [
           {
            "marker": {
             "colorbar": {
              "outlinewidth": 1,
              "tickcolor": "rgb(36,36,36)",
              "ticks": "outside"
             }
            },
            "type": "scatterternary"
           }
          ],
          "surface": [
           {
            "colorbar": {
             "outlinewidth": 1,
             "tickcolor": "rgb(36,36,36)",
             "ticks": "outside"
            },
            "colorscale": [
             [
              0,
              "#440154"
             ],
             [
              0.1111111111111111,
              "#482878"
             ],
             [
              0.2222222222222222,
              "#3e4989"
             ],
             [
              0.3333333333333333,
              "#31688e"
             ],
             [
              0.4444444444444444,
              "#26828e"
             ],
             [
              0.5555555555555556,
              "#1f9e89"
             ],
             [
              0.6666666666666666,
              "#35b779"
             ],
             [
              0.7777777777777778,
              "#6ece58"
             ],
             [
              0.8888888888888888,
              "#b5de2b"
             ],
             [
              1,
              "#fde725"
             ]
            ],
            "type": "surface"
           }
          ],
          "table": [
           {
            "cells": {
             "fill": {
              "color": "rgb(237,237,237)"
             },
             "line": {
              "color": "white"
             }
            },
            "header": {
             "fill": {
              "color": "rgb(217,217,217)"
             },
             "line": {
              "color": "white"
             }
            },
            "type": "table"
           }
          ]
         },
         "layout": {
          "annotationdefaults": {
           "arrowhead": 0,
           "arrowwidth": 1
          },
          "autotypenumbers": "strict",
          "coloraxis": {
           "colorbar": {
            "outlinewidth": 1,
            "tickcolor": "rgb(36,36,36)",
            "ticks": "outside"
           }
          },
          "colorscale": {
           "diverging": [
            [
             0,
             "rgb(103,0,31)"
            ],
            [
             0.1,
             "rgb(178,24,43)"
            ],
            [
             0.2,
             "rgb(214,96,77)"
            ],
            [
             0.3,
             "rgb(244,165,130)"
            ],
            [
             0.4,
             "rgb(253,219,199)"
            ],
            [
             0.5,
             "rgb(247,247,247)"
            ],
            [
             0.6,
             "rgb(209,229,240)"
            ],
            [
             0.7,
             "rgb(146,197,222)"
            ],
            [
             0.8,
             "rgb(67,147,195)"
            ],
            [
             0.9,
             "rgb(33,102,172)"
            ],
            [
             1,
             "rgb(5,48,97)"
            ]
           ],
           "sequential": [
            [
             0,
             "#440154"
            ],
            [
             0.1111111111111111,
             "#482878"
            ],
            [
             0.2222222222222222,
             "#3e4989"
            ],
            [
             0.3333333333333333,
             "#31688e"
            ],
            [
             0.4444444444444444,
             "#26828e"
            ],
            [
             0.5555555555555556,
             "#1f9e89"
            ],
            [
             0.6666666666666666,
             "#35b779"
            ],
            [
             0.7777777777777778,
             "#6ece58"
            ],
            [
             0.8888888888888888,
             "#b5de2b"
            ],
            [
             1,
             "#fde725"
            ]
           ],
           "sequentialminus": [
            [
             0,
             "#440154"
            ],
            [
             0.1111111111111111,
             "#482878"
            ],
            [
             0.2222222222222222,
             "#3e4989"
            ],
            [
             0.3333333333333333,
             "#31688e"
            ],
            [
             0.4444444444444444,
             "#26828e"
            ],
            [
             0.5555555555555556,
             "#1f9e89"
            ],
            [
             0.6666666666666666,
             "#35b779"
            ],
            [
             0.7777777777777778,
             "#6ece58"
            ],
            [
             0.8888888888888888,
             "#b5de2b"
            ],
            [
             1,
             "#fde725"
            ]
           ]
          },
          "colorway": [
           "#1F77B4",
           "#FF7F0E",
           "#2CA02C",
           "#D62728",
           "#9467BD",
           "#8C564B",
           "#E377C2",
           "#7F7F7F",
           "#BCBD22",
           "#17BECF"
          ],
          "font": {
           "color": "rgb(36,36,36)"
          },
          "geo": {
           "bgcolor": "white",
           "lakecolor": "white",
           "landcolor": "white",
           "showlakes": true,
           "showland": true,
           "subunitcolor": "white"
          },
          "hoverlabel": {
           "align": "left"
          },
          "hovermode": "closest",
          "mapbox": {
           "style": "light"
          },
          "paper_bgcolor": "white",
          "plot_bgcolor": "white",
          "polar": {
           "angularaxis": {
            "gridcolor": "rgb(232,232,232)",
            "linecolor": "rgb(36,36,36)",
            "showgrid": false,
            "showline": true,
            "ticks": "outside"
           },
           "bgcolor": "white",
           "radialaxis": {
            "gridcolor": "rgb(232,232,232)",
            "linecolor": "rgb(36,36,36)",
            "showgrid": false,
            "showline": true,
            "ticks": "outside"
           }
          },
          "scene": {
           "xaxis": {
            "backgroundcolor": "white",
            "gridcolor": "rgb(232,232,232)",
            "gridwidth": 2,
            "linecolor": "rgb(36,36,36)",
            "showbackground": true,
            "showgrid": false,
            "showline": true,
            "ticks": "outside",
            "zeroline": false,
            "zerolinecolor": "rgb(36,36,36)"
           },
           "yaxis": {
            "backgroundcolor": "white",
            "gridcolor": "rgb(232,232,232)",
            "gridwidth": 2,
            "linecolor": "rgb(36,36,36)",
            "showbackground": true,
            "showgrid": false,
            "showline": true,
            "ticks": "outside",
            "zeroline": false,
            "zerolinecolor": "rgb(36,36,36)"
           },
           "zaxis": {
            "backgroundcolor": "white",
            "gridcolor": "rgb(232,232,232)",
            "gridwidth": 2,
            "linecolor": "rgb(36,36,36)",
            "showbackground": true,
            "showgrid": false,
            "showline": true,
            "ticks": "outside",
            "zeroline": false,
            "zerolinecolor": "rgb(36,36,36)"
           }
          },
          "shapedefaults": {
           "fillcolor": "black",
           "line": {
            "width": 0
           },
           "opacity": 0.3
          },
          "ternary": {
           "aaxis": {
            "gridcolor": "rgb(232,232,232)",
            "linecolor": "rgb(36,36,36)",
            "showgrid": false,
            "showline": true,
            "ticks": "outside"
           },
           "baxis": {
            "gridcolor": "rgb(232,232,232)",
            "linecolor": "rgb(36,36,36)",
            "showgrid": false,
            "showline": true,
            "ticks": "outside"
           },
           "bgcolor": "white",
           "caxis": {
            "gridcolor": "rgb(232,232,232)",
            "linecolor": "rgb(36,36,36)",
            "showgrid": false,
            "showline": true,
            "ticks": "outside"
           }
          },
          "title": {
           "x": 0.05
          },
          "xaxis": {
           "automargin": true,
           "gridcolor": "rgb(232,232,232)",
           "linecolor": "rgb(36,36,36)",
           "showgrid": false,
           "showline": true,
           "ticks": "outside",
           "title": {
            "standoff": 15
           },
           "zeroline": false,
           "zerolinecolor": "rgb(36,36,36)"
          },
          "yaxis": {
           "automargin": true,
           "gridcolor": "rgb(232,232,232)",
           "linecolor": "rgb(36,36,36)",
           "showgrid": false,
           "showline": true,
           "ticks": "outside",
           "title": {
            "standoff": 15
           },
           "zeroline": false,
           "zerolinecolor": "rgb(36,36,36)"
          }
         }
        },
        "xaxis": {
         "anchor": "y",
         "domain": [
          0,
          0.45
         ],
         "showspikes": true,
         "spikemode": "across",
         "tickangle": 45
        },
        "xaxis2": {
         "anchor": "y2",
         "domain": [
          0.55,
          1
         ],
         "showspikes": true,
         "spikemode": "across",
         "tickangle": 45
        },
        "xaxis3": {
         "anchor": "y3",
         "domain": [
          0,
          0.45
         ],
         "showspikes": true,
         "spikemode": "across",
         "tickangle": 45
        },
        "xaxis4": {
         "anchor": "y4",
         "domain": [
          0.55,
          1
         ],
         "showspikes": true,
         "spikemode": "across",
         "tickangle": 45
        },
        "xaxis5": {
         "anchor": "y5",
         "domain": [
          0,
          0.45
         ],
         "showspikes": true,
         "spikemode": "across",
         "tickangle": 45
        },
        "xaxis6": {
         "anchor": "y6",
         "domain": [
          0.55,
          1
         ],
         "showspikes": true,
         "spikemode": "across",
         "tickangle": 45
        },
        "yaxis": {
         "anchor": "x",
         "domain": [
          0.8,
          1
         ],
         "title": {
          "text": "Female"
         }
        },
        "yaxis2": {
         "anchor": "x2",
         "domain": [
          0.8,
          1
         ],
         "matches": "y",
         "showticklabels": false
        },
        "yaxis3": {
         "anchor": "x3",
         "domain": [
          0.4,
          0.6
         ],
         "title": {
          "text": "Male"
         }
        },
        "yaxis4": {
         "anchor": "x4",
         "domain": [
          0.4,
          0.6
         ],
         "matches": "y3",
         "showticklabels": false
        },
        "yaxis5": {
         "anchor": "x5",
         "domain": [
          0,
          0.19999999999999998
         ],
         "title": {
          "text": "Both sexes"
         }
        },
        "yaxis6": {
         "anchor": "x6",
         "domain": [
          0,
          0.19999999999999998
         ],
         "matches": "y5",
         "showticklabels": false
        }
       }
      },
      "text/html": [
       "<div>                            <div id=\"4b10d26b-65cc-4e13-8e9b-43deeb185765\" class=\"plotly-graph-div\" style=\"height:900px; width:100%;\"></div>            <script type=\"text/javascript\">                require([\"plotly\"], function(Plotly) {                    window.PLOTLYENV=window.PLOTLYENV || {};                                    if (document.getElementById(\"4b10d26b-65cc-4e13-8e9b-43deeb185765\")) {                    Plotly.newPlot(                        \"4b10d26b-65cc-4e13-8e9b-43deeb185765\",                        [{\"marker\":{\"color\":[82.1,68.0,67.0,66.9,59.3,57.8,57.3,56.7,54.7,54.4,54.3,54.2,53.0,50.9,48.4],\"colorscale\":[[0.0,\"#440154\"],[0.1111111111111111,\"#482878\"],[0.2222222222222222,\"#3e4989\"],[0.3333333333333333,\"#31688e\"],[0.4444444444444444,\"#26828e\"],[0.5555555555555556,\"#1f9e89\"],[0.6666666666666666,\"#35b779\"],[0.7777777777777778,\"#6ece58\"],[0.8888888888888888,\"#b5de2b\"],[1.0,\"#fde725\"]]},\"showlegend\":false,\"x\":[\"Nauru\",\"Palau\",\"Marshall Islands\",\"Cook Islands\",\"Kuwait\",\"Qatar\",\"Samoa\",\"Tonga\",\"Micronesia (Federated States of)\",\"United Arab Emirates\",\"Niue\",\"Tuvalu\",\"Bahrain\",\"Kiribati\",\"Russian Federation\"],\"y\":[82.1,68.0,67.0,66.9,59.3,57.8,57.3,56.7,54.7,54.4,54.3,54.2,53.0,50.9,48.4],\"type\":\"bar\",\"xaxis\":\"x\",\"yaxis\":\"y\"},{\"marker\":{\"color\":[88.7,85.9,85.8,84.9,83.8,82.5,82.2,82.0,80.9,79.8,75.1,73.3,72.2,71.8,71.1],\"colorscale\":[[0.0,\"#440154\"],[0.1111111111111111,\"#482878\"],[0.2222222222222222,\"#3e4989\"],[0.3333333333333333,\"#31688e\"],[0.4444444444444444,\"#26828e\"],[0.5555555555555556,\"#1f9e89\"],[0.6666666666666666,\"#35b779\"],[0.7777777777777778,\"#6ece58\"],[0.8888888888888888,\"#b5de2b\"],[1.0,\"#fde725\"]]},\"showlegend\":false,\"x\":[\"Nauru\",\"Palau\",\"Cook Islands\",\"Marshall Islands\",\"Tuvalu\",\"Niue\",\"Tonga\",\"Samoa\",\"Kiribati\",\"Micronesia (Federated States of)\",\"Kuwait\",\"Qatar\",\"Jordan\",\"Saudi Arabia\",\"United Arab Emirates\"],\"y\":[88.7,85.9,85.8,84.9,83.8,82.5,82.2,82.0,80.9,79.8,75.1,73.3,72.2,71.8,71.1],\"type\":\"bar\",\"xaxis\":\"x2\",\"yaxis\":\"y2\"},{\"marker\":{\"color\":[73.6,59.0,57.8,57.8,50.8,49.0,48.4,48.1,47.7,47.5,47.1,46.9,46.7,46.6,46.5],\"colorscale\":[[0.0,\"#440154\"],[0.1111111111111111,\"#482878\"],[0.2222222222222222,\"#3e4989\"],[0.3333333333333333,\"#31688e\"],[0.4444444444444444,\"#26828e\"],[0.5555555555555556,\"#1f9e89\"],[0.6666666666666666,\"#35b779\"],[0.7777777777777778,\"#6ece58\"],[0.8888888888888888,\"#b5de2b\"],[1.0,\"#fde725\"]]},\"showlegend\":false,\"x\":[\"Nauru\",\"Palau\",\"Marshall Islands\",\"Cook Islands\",\"Malta\",\"Samoa\",\"Tonga\",\"Andorra\",\"Israel\",\"Niue\",\"Czechia\",\"Kiribati\",\"Tuvalu\",\"Micronesia (Federated States of)\",\"Australia\"],\"y\":[73.6,59.0,57.8,57.8,50.8,49.0,48.4,48.1,47.7,47.5,47.1,46.9,46.7,46.6,46.5],\"type\":\"bar\",\"xaxis\":\"x3\",\"yaxis\":\"y3\"},{\"marker\":{\"color\":[88.3,84.3,83.7,82.1,80.0,77.6,76.6,74.8,73.6,73.0,72.7,72.4,72.1,71.0,70.9],\"colorscale\":[[0.0,\"#440154\"],[0.1111111111111111,\"#482878\"],[0.2222222222222222,\"#3e4989\"],[0.3333333333333333,\"#31688e\"],[0.4444444444444444,\"#26828e\"],[0.5555555555555556,\"#1f9e89\"],[0.6666666666666666,\"#35b779\"],[0.7777777777777778,\"#6ece58\"],[0.8888888888888888,\"#b5de2b\"],[1.0,\"#fde725\"]]},\"showlegend\":false,\"x\":[\"Nauru\",\"Palau\",\"Cook Islands\",\"Marshall Islands\",\"Tuvalu\",\"Niue\",\"Kiribati\",\"Tonga\",\"Samoa\",\"Malta\",\"United States of America\",\"Kuwait\",\"Micronesia (Federated States of)\",\"Qatar\",\"Australia\"],\"y\":[88.3,84.3,83.7,82.1,80.0,77.6,76.6,74.8,73.6,73.0,72.7,72.4,72.1,71.0,70.9],\"type\":\"bar\",\"xaxis\":\"x4\",\"yaxis\":\"y4\"},{\"marker\":{\"color\":[77.7,63.4,62.3,62.3,53.2,52.5,51.4,50.8,50.6,50.4,49.2,48.9,48.4,46.4,46.2],\"colorscale\":[[0.0,\"#440154\"],[0.1111111111111111,\"#482878\"],[0.2222222222222222,\"#3e4989\"],[0.3333333333333333,\"#31688e\"],[0.4444444444444444,\"#26828e\"],[0.5555555555555556,\"#1f9e89\"],[0.6666666666666666,\"#35b779\"],[0.7777777777777778,\"#6ece58\"],[0.8888888888888888,\"#b5de2b\"],[1.0,\"#fde725\"]]},\"showlegend\":false,\"x\":[\"Nauru\",\"Palau\",\"Marshall Islands\",\"Cook Islands\",\"Samoa\",\"Tonga\",\"Kuwait\",\"Niue\",\"Micronesia (Federated States of)\",\"Tuvalu\",\"Malta\",\"Kiribati\",\"Qatar\",\"Czechia\",\"Israel\"],\"y\":[77.7,63.4,62.3,62.3,53.2,52.5,51.4,50.8,50.6,50.4,49.2,48.9,48.4,46.4,46.2],\"type\":\"bar\",\"xaxis\":\"x5\",\"yaxis\":\"y5\"},{\"marker\":{\"color\":[88.5,85.1,84.7,83.5,81.9,80.0,78.7,78.5,77.6,75.9,73.4,71.7,69.7,69.6,67.9],\"colorscale\":[[0.0,\"#440154\"],[0.1111111111111111,\"#482878\"],[0.2222222222222222,\"#3e4989\"],[0.3333333333333333,\"#31688e\"],[0.4444444444444444,\"#26828e\"],[0.5555555555555556,\"#1f9e89\"],[0.6666666666666666,\"#35b779\"],[0.7777777777777778,\"#6ece58\"],[0.8888888888888888,\"#b5de2b\"],[1.0,\"#fde725\"]]},\"showlegend\":false,\"x\":[\"Nauru\",\"Palau\",\"Cook Islands\",\"Marshall Islands\",\"Tuvalu\",\"Niue\",\"Kiribati\",\"Tonga\",\"Samoa\",\"Micronesia (Federated States of)\",\"Kuwait\",\"Qatar\",\"Saudi Arabia\",\"Jordan\",\"United States of America\"],\"y\":[88.5,85.1,84.7,83.5,81.9,80.0,78.7,78.5,77.6,75.9,73.4,71.7,69.7,69.6,67.9],\"type\":\"bar\",\"xaxis\":\"x6\",\"yaxis\":\"y6\"}],                        {\"template\":{\"data\":{\"barpolar\":[{\"marker\":{\"line\":{\"color\":\"white\",\"width\":0.5},\"pattern\":{\"fillmode\":\"overlay\",\"size\":10,\"solidity\":0.2}},\"type\":\"barpolar\"}],\"bar\":[{\"error_x\":{\"color\":\"rgb(36,36,36)\"},\"error_y\":{\"color\":\"rgb(36,36,36)\"},\"marker\":{\"line\":{\"color\":\"white\",\"width\":0.5},\"pattern\":{\"fillmode\":\"overlay\",\"size\":10,\"solidity\":0.2}},\"type\":\"bar\"}],\"carpet\":[{\"aaxis\":{\"endlinecolor\":\"rgb(36,36,36)\",\"gridcolor\":\"white\",\"linecolor\":\"white\",\"minorgridcolor\":\"white\",\"startlinecolor\":\"rgb(36,36,36)\"},\"baxis\":{\"endlinecolor\":\"rgb(36,36,36)\",\"gridcolor\":\"white\",\"linecolor\":\"white\",\"minorgridcolor\":\"white\",\"startlinecolor\":\"rgb(36,36,36)\"},\"type\":\"carpet\"}],\"choropleth\":[{\"colorbar\":{\"outlinewidth\":1,\"tickcolor\":\"rgb(36,36,36)\",\"ticks\":\"outside\"},\"type\":\"choropleth\"}],\"contourcarpet\":[{\"colorbar\":{\"outlinewidth\":1,\"tickcolor\":\"rgb(36,36,36)\",\"ticks\":\"outside\"},\"type\":\"contourcarpet\"}],\"contour\":[{\"colorbar\":{\"outlinewidth\":1,\"tickcolor\":\"rgb(36,36,36)\",\"ticks\":\"outside\"},\"colorscale\":[[0.0,\"#440154\"],[0.1111111111111111,\"#482878\"],[0.2222222222222222,\"#3e4989\"],[0.3333333333333333,\"#31688e\"],[0.4444444444444444,\"#26828e\"],[0.5555555555555556,\"#1f9e89\"],[0.6666666666666666,\"#35b779\"],[0.7777777777777778,\"#6ece58\"],[0.8888888888888888,\"#b5de2b\"],[1.0,\"#fde725\"]],\"type\":\"contour\"}],\"heatmapgl\":[{\"colorbar\":{\"outlinewidth\":1,\"tickcolor\":\"rgb(36,36,36)\",\"ticks\":\"outside\"},\"colorscale\":[[0.0,\"#440154\"],[0.1111111111111111,\"#482878\"],[0.2222222222222222,\"#3e4989\"],[0.3333333333333333,\"#31688e\"],[0.4444444444444444,\"#26828e\"],[0.5555555555555556,\"#1f9e89\"],[0.6666666666666666,\"#35b779\"],[0.7777777777777778,\"#6ece58\"],[0.8888888888888888,\"#b5de2b\"],[1.0,\"#fde725\"]],\"type\":\"heatmapgl\"}],\"heatmap\":[{\"colorbar\":{\"outlinewidth\":1,\"tickcolor\":\"rgb(36,36,36)\",\"ticks\":\"outside\"},\"colorscale\":[[0.0,\"#440154\"],[0.1111111111111111,\"#482878\"],[0.2222222222222222,\"#3e4989\"],[0.3333333333333333,\"#31688e\"],[0.4444444444444444,\"#26828e\"],[0.5555555555555556,\"#1f9e89\"],[0.6666666666666666,\"#35b779\"],[0.7777777777777778,\"#6ece58\"],[0.8888888888888888,\"#b5de2b\"],[1.0,\"#fde725\"]],\"type\":\"heatmap\"}],\"histogram2dcontour\":[{\"colorbar\":{\"outlinewidth\":1,\"tickcolor\":\"rgb(36,36,36)\",\"ticks\":\"outside\"},\"colorscale\":[[0.0,\"#440154\"],[0.1111111111111111,\"#482878\"],[0.2222222222222222,\"#3e4989\"],[0.3333333333333333,\"#31688e\"],[0.4444444444444444,\"#26828e\"],[0.5555555555555556,\"#1f9e89\"],[0.6666666666666666,\"#35b779\"],[0.7777777777777778,\"#6ece58\"],[0.8888888888888888,\"#b5de2b\"],[1.0,\"#fde725\"]],\"type\":\"histogram2dcontour\"}],\"histogram2d\":[{\"colorbar\":{\"outlinewidth\":1,\"tickcolor\":\"rgb(36,36,36)\",\"ticks\":\"outside\"},\"colorscale\":[[0.0,\"#440154\"],[0.1111111111111111,\"#482878\"],[0.2222222222222222,\"#3e4989\"],[0.3333333333333333,\"#31688e\"],[0.4444444444444444,\"#26828e\"],[0.5555555555555556,\"#1f9e89\"],[0.6666666666666666,\"#35b779\"],[0.7777777777777778,\"#6ece58\"],[0.8888888888888888,\"#b5de2b\"],[1.0,\"#fde725\"]],\"type\":\"histogram2d\"}],\"histogram\":[{\"marker\":{\"line\":{\"color\":\"white\",\"width\":0.6}},\"type\":\"histogram\"}],\"mesh3d\":[{\"colorbar\":{\"outlinewidth\":1,\"tickcolor\":\"rgb(36,36,36)\",\"ticks\":\"outside\"},\"type\":\"mesh3d\"}],\"parcoords\":[{\"line\":{\"colorbar\":{\"outlinewidth\":1,\"tickcolor\":\"rgb(36,36,36)\",\"ticks\":\"outside\"}},\"type\":\"parcoords\"}],\"pie\":[{\"automargin\":true,\"type\":\"pie\"}],\"scatter3d\":[{\"line\":{\"colorbar\":{\"outlinewidth\":1,\"tickcolor\":\"rgb(36,36,36)\",\"ticks\":\"outside\"}},\"marker\":{\"colorbar\":{\"outlinewidth\":1,\"tickcolor\":\"rgb(36,36,36)\",\"ticks\":\"outside\"}},\"type\":\"scatter3d\"}],\"scattercarpet\":[{\"marker\":{\"colorbar\":{\"outlinewidth\":1,\"tickcolor\":\"rgb(36,36,36)\",\"ticks\":\"outside\"}},\"type\":\"scattercarpet\"}],\"scattergeo\":[{\"marker\":{\"colorbar\":{\"outlinewidth\":1,\"tickcolor\":\"rgb(36,36,36)\",\"ticks\":\"outside\"}},\"type\":\"scattergeo\"}],\"scattergl\":[{\"marker\":{\"colorbar\":{\"outlinewidth\":1,\"tickcolor\":\"rgb(36,36,36)\",\"ticks\":\"outside\"}},\"type\":\"scattergl\"}],\"scattermapbox\":[{\"marker\":{\"colorbar\":{\"outlinewidth\":1,\"tickcolor\":\"rgb(36,36,36)\",\"ticks\":\"outside\"}},\"type\":\"scattermapbox\"}],\"scatterpolargl\":[{\"marker\":{\"colorbar\":{\"outlinewidth\":1,\"tickcolor\":\"rgb(36,36,36)\",\"ticks\":\"outside\"}},\"type\":\"scatterpolargl\"}],\"scatterpolar\":[{\"marker\":{\"colorbar\":{\"outlinewidth\":1,\"tickcolor\":\"rgb(36,36,36)\",\"ticks\":\"outside\"}},\"type\":\"scatterpolar\"}],\"scatter\":[{\"fillpattern\":{\"fillmode\":\"overlay\",\"size\":10,\"solidity\":0.2},\"type\":\"scatter\"}],\"scatterternary\":[{\"marker\":{\"colorbar\":{\"outlinewidth\":1,\"tickcolor\":\"rgb(36,36,36)\",\"ticks\":\"outside\"}},\"type\":\"scatterternary\"}],\"surface\":[{\"colorbar\":{\"outlinewidth\":1,\"tickcolor\":\"rgb(36,36,36)\",\"ticks\":\"outside\"},\"colorscale\":[[0.0,\"#440154\"],[0.1111111111111111,\"#482878\"],[0.2222222222222222,\"#3e4989\"],[0.3333333333333333,\"#31688e\"],[0.4444444444444444,\"#26828e\"],[0.5555555555555556,\"#1f9e89\"],[0.6666666666666666,\"#35b779\"],[0.7777777777777778,\"#6ece58\"],[0.8888888888888888,\"#b5de2b\"],[1.0,\"#fde725\"]],\"type\":\"surface\"}],\"table\":[{\"cells\":{\"fill\":{\"color\":\"rgb(237,237,237)\"},\"line\":{\"color\":\"white\"}},\"header\":{\"fill\":{\"color\":\"rgb(217,217,217)\"},\"line\":{\"color\":\"white\"}},\"type\":\"table\"}]},\"layout\":{\"annotationdefaults\":{\"arrowhead\":0,\"arrowwidth\":1},\"autotypenumbers\":\"strict\",\"coloraxis\":{\"colorbar\":{\"outlinewidth\":1,\"tickcolor\":\"rgb(36,36,36)\",\"ticks\":\"outside\"}},\"colorscale\":{\"diverging\":[[0.0,\"rgb(103,0,31)\"],[0.1,\"rgb(178,24,43)\"],[0.2,\"rgb(214,96,77)\"],[0.3,\"rgb(244,165,130)\"],[0.4,\"rgb(253,219,199)\"],[0.5,\"rgb(247,247,247)\"],[0.6,\"rgb(209,229,240)\"],[0.7,\"rgb(146,197,222)\"],[0.8,\"rgb(67,147,195)\"],[0.9,\"rgb(33,102,172)\"],[1.0,\"rgb(5,48,97)\"]],\"sequential\":[[0.0,\"#440154\"],[0.1111111111111111,\"#482878\"],[0.2222222222222222,\"#3e4989\"],[0.3333333333333333,\"#31688e\"],[0.4444444444444444,\"#26828e\"],[0.5555555555555556,\"#1f9e89\"],[0.6666666666666666,\"#35b779\"],[0.7777777777777778,\"#6ece58\"],[0.8888888888888888,\"#b5de2b\"],[1.0,\"#fde725\"]],\"sequentialminus\":[[0.0,\"#440154\"],[0.1111111111111111,\"#482878\"],[0.2222222222222222,\"#3e4989\"],[0.3333333333333333,\"#31688e\"],[0.4444444444444444,\"#26828e\"],[0.5555555555555556,\"#1f9e89\"],[0.6666666666666666,\"#35b779\"],[0.7777777777777778,\"#6ece58\"],[0.8888888888888888,\"#b5de2b\"],[1.0,\"#fde725\"]]},\"colorway\":[\"#1F77B4\",\"#FF7F0E\",\"#2CA02C\",\"#D62728\",\"#9467BD\",\"#8C564B\",\"#E377C2\",\"#7F7F7F\",\"#BCBD22\",\"#17BECF\"],\"font\":{\"color\":\"rgb(36,36,36)\"},\"geo\":{\"bgcolor\":\"white\",\"lakecolor\":\"white\",\"landcolor\":\"white\",\"showlakes\":true,\"showland\":true,\"subunitcolor\":\"white\"},\"hoverlabel\":{\"align\":\"left\"},\"hovermode\":\"closest\",\"mapbox\":{\"style\":\"light\"},\"paper_bgcolor\":\"white\",\"plot_bgcolor\":\"white\",\"polar\":{\"angularaxis\":{\"gridcolor\":\"rgb(232,232,232)\",\"linecolor\":\"rgb(36,36,36)\",\"showgrid\":false,\"showline\":true,\"ticks\":\"outside\"},\"bgcolor\":\"white\",\"radialaxis\":{\"gridcolor\":\"rgb(232,232,232)\",\"linecolor\":\"rgb(36,36,36)\",\"showgrid\":false,\"showline\":true,\"ticks\":\"outside\"}},\"scene\":{\"xaxis\":{\"backgroundcolor\":\"white\",\"gridcolor\":\"rgb(232,232,232)\",\"gridwidth\":2,\"linecolor\":\"rgb(36,36,36)\",\"showbackground\":true,\"showgrid\":false,\"showline\":true,\"ticks\":\"outside\",\"zeroline\":false,\"zerolinecolor\":\"rgb(36,36,36)\"},\"yaxis\":{\"backgroundcolor\":\"white\",\"gridcolor\":\"rgb(232,232,232)\",\"gridwidth\":2,\"linecolor\":\"rgb(36,36,36)\",\"showbackground\":true,\"showgrid\":false,\"showline\":true,\"ticks\":\"outside\",\"zeroline\":false,\"zerolinecolor\":\"rgb(36,36,36)\"},\"zaxis\":{\"backgroundcolor\":\"white\",\"gridcolor\":\"rgb(232,232,232)\",\"gridwidth\":2,\"linecolor\":\"rgb(36,36,36)\",\"showbackground\":true,\"showgrid\":false,\"showline\":true,\"ticks\":\"outside\",\"zeroline\":false,\"zerolinecolor\":\"rgb(36,36,36)\"}},\"shapedefaults\":{\"fillcolor\":\"black\",\"line\":{\"width\":0},\"opacity\":0.3},\"ternary\":{\"aaxis\":{\"gridcolor\":\"rgb(232,232,232)\",\"linecolor\":\"rgb(36,36,36)\",\"showgrid\":false,\"showline\":true,\"ticks\":\"outside\"},\"baxis\":{\"gridcolor\":\"rgb(232,232,232)\",\"linecolor\":\"rgb(36,36,36)\",\"showgrid\":false,\"showline\":true,\"ticks\":\"outside\"},\"bgcolor\":\"white\",\"caxis\":{\"gridcolor\":\"rgb(232,232,232)\",\"linecolor\":\"rgb(36,36,36)\",\"showgrid\":false,\"showline\":true,\"ticks\":\"outside\"}},\"title\":{\"x\":0.05},\"xaxis\":{\"automargin\":true,\"gridcolor\":\"rgb(232,232,232)\",\"linecolor\":\"rgb(36,36,36)\",\"showgrid\":false,\"showline\":true,\"ticks\":\"outside\",\"title\":{\"standoff\":15},\"zeroline\":false,\"zerolinecolor\":\"rgb(36,36,36)\"},\"yaxis\":{\"automargin\":true,\"gridcolor\":\"rgb(232,232,232)\",\"linecolor\":\"rgb(36,36,36)\",\"showgrid\":false,\"showline\":true,\"ticks\":\"outside\",\"title\":{\"standoff\":15},\"zeroline\":false,\"zerolinecolor\":\"rgb(36,36,36)\"}}},\"xaxis\":{\"anchor\":\"y\",\"domain\":[0.0,0.45],\"showspikes\":true,\"spikemode\":\"across\",\"tickangle\":45},\"yaxis\":{\"anchor\":\"x\",\"domain\":[0.8,1.0],\"title\":{\"text\":\"Female\"}},\"xaxis2\":{\"anchor\":\"y2\",\"domain\":[0.55,1.0],\"showspikes\":true,\"spikemode\":\"across\",\"tickangle\":45},\"yaxis2\":{\"anchor\":\"x2\",\"domain\":[0.8,1.0],\"matches\":\"y\",\"showticklabels\":false},\"xaxis3\":{\"anchor\":\"y3\",\"domain\":[0.0,0.45],\"showspikes\":true,\"spikemode\":\"across\",\"tickangle\":45},\"yaxis3\":{\"anchor\":\"x3\",\"domain\":[0.4,0.6],\"title\":{\"text\":\"Male\"}},\"xaxis4\":{\"anchor\":\"y4\",\"domain\":[0.55,1.0],\"showspikes\":true,\"spikemode\":\"across\",\"tickangle\":45},\"yaxis4\":{\"anchor\":\"x4\",\"domain\":[0.4,0.6],\"matches\":\"y3\",\"showticklabels\":false},\"xaxis5\":{\"anchor\":\"y5\",\"domain\":[0.0,0.45],\"showspikes\":true,\"spikemode\":\"across\",\"tickangle\":45},\"yaxis5\":{\"anchor\":\"x5\",\"domain\":[0.0,0.19999999999999998],\"title\":{\"text\":\"Both sexes\"}},\"xaxis6\":{\"anchor\":\"y6\",\"domain\":[0.55,1.0],\"showspikes\":true,\"spikemode\":\"across\",\"tickangle\":45},\"yaxis6\":{\"anchor\":\"x6\",\"domain\":[0.0,0.19999999999999998],\"matches\":\"y5\",\"showticklabels\":false},\"annotations\":[{\"font\":{\"size\":16},\"showarrow\":false,\"text\":\"1975\",\"x\":0.225,\"xanchor\":\"center\",\"xref\":\"paper\",\"y\":1.0,\"yanchor\":\"bottom\",\"yref\":\"paper\"},{\"font\":{\"size\":16},\"showarrow\":false,\"text\":\"2016\",\"x\":0.775,\"xanchor\":\"center\",\"xref\":\"paper\",\"y\":1.0,\"yanchor\":\"bottom\",\"yref\":\"paper\"}],\"height\":900},                        {\"responsive\": true}                    ).then(function(){\n",
       "                            \n",
       "var gd = document.getElementById('4b10d26b-65cc-4e13-8e9b-43deeb185765');\n",
       "var x = new MutationObserver(function (mutations, observer) {{\n",
       "        var display = window.getComputedStyle(gd).display;\n",
       "        if (!display || display === 'none') {{\n",
       "            console.log([gd, 'removed!']);\n",
       "            Plotly.purge(gd);\n",
       "            observer.disconnect();\n",
       "        }}\n",
       "}});\n",
       "\n",
       "// Listen for the removal of the full notebook cells\n",
       "var notebookContainer = gd.closest('#notebook-container');\n",
       "if (notebookContainer) {{\n",
       "    x.observe(notebookContainer, {childList: true});\n",
       "}}\n",
       "\n",
       "// Listen for the clearing of the current output cell\n",
       "var outputEl = gd.closest('.output');\n",
       "if (outputEl) {{\n",
       "    x.observe(outputEl, {childList: true});\n",
       "}}\n",
       "\n",
       "                        })                };                });            </script>        </div>"
      ]
     },
     "metadata": {},
     "output_type": "display_data"
    }
   ],
   "source": [
    "top_2016 = df[df['Period'] == 2016].sort_values('Prevalence', ascending=False)\n",
    "top_1975 = df[df['Period'] == 1975].sort_values('Prevalence', ascending=False)\n",
    "    \n",
    "def create_figure():\n",
    "    \n",
    "    tops = [top_1975, top_2016]\n",
    "    \n",
    "    # Create figure and traces\n",
    "    fig = make_subplots(\n",
    "        shared_yaxes=True, \n",
    "        rows=3, \n",
    "        cols=2,\n",
    "        vertical_spacing = 0.2,\n",
    "        subplot_titles=(\"1975\", \"2016\")\n",
    "        #subplot_titles=(\"Gender = Female\", \"Gender = Male\", \"Gender = Both\"),\n",
    "\n",
    "    )\n",
    "\n",
    "    for i, gender in enumerate(['Female', 'Male', \"Both sexes\"]):\n",
    "        for j, temp_df in enumerate(tops):\n",
    "            fig.add_trace(\n",
    "                go.Bar(\n",
    "                    x=temp_df[(temp_df['Gender'] == gender)]['Location'].head(15), \n",
    "                    y=temp_df[(temp_df['Gender'] == gender)]['Prevalence'].head(15), \n",
    "                    #name=gender, \n",
    "                    hovertemplate=None,\n",
    "                    marker=dict(color = temp_df[(temp_df['Gender'] == gender)]['Prevalence'].head(15), colorscale='viridis'),\n",
    "                    showlegend=False\n",
    "                ), \n",
    "                row=i+1, \n",
    "                col=j+1 \n",
    "            )\n",
    "\n",
    "    # Prettify\n",
    "    fig.update_xaxes(showspikes=True, spikemode=\"across\", tickangle=45)\n",
    "    fig.update_yaxes(title_text=\"Female\", row=1, col=1)\n",
    "    fig.update_yaxes(title_text=\"Male\", row=2, col=1)\n",
    "    fig.update_yaxes(title_text=\"Both sexes\", row=3, col=1)\n",
    "    fig.update_layout(\n",
    "        template='simple_white',\n",
    "        height=900\n",
    "    )\n",
    "\n",
    "    return fig\n",
    "\n",
    "fig = create_figure()\n",
    "fig.show()"
   ]
  },
  {
   "cell_type": "markdown",
   "id": "5c3c3d29",
   "metadata": {},
   "source": [
    "# Sorting countries by prevalence difference"
   ]
  },
  {
   "cell_type": "code",
   "execution_count": 14,
   "id": "842772eb",
   "metadata": {},
   "outputs": [
    {
     "data": {
      "application/vnd.plotly.v1+json": {
       "config": {
        "plotlyServerURL": "https://plot.ly"
       },
       "data": [
        {
         "marker": {
          "color": [
           38.6,
           36.2,
           35.3,
           33.1,
           32.4,
           32.4,
           32.199999999999996,
           32.099999999999994,
           31.700000000000003,
           31.400000000000002,
           31.4,
           31.39999999999999,
           31.199999999999996,
           31,
           30.700000000000003
          ],
          "colorscale": [
           [
            0,
            "#440154"
           ],
           [
            0.1111111111111111,
            "#482878"
           ],
           [
            0.2222222222222222,
            "#3e4989"
           ],
           [
            0.3333333333333333,
            "#31688e"
           ],
           [
            0.4444444444444444,
            "#26828e"
           ],
           [
            0.5555555555555556,
            "#1f9e89"
           ],
           [
            0.6666666666666666,
            "#35b779"
           ],
           [
            0.7777777777777778,
            "#6ece58"
           ],
           [
            0.8888888888888888,
            "#b5de2b"
           ],
           [
            1,
            "#fde725"
           ]
          ]
         },
         "showlegend": false,
         "type": "bar",
         "x": [
          "Botswana",
          "Oman",
          "Haiti",
          "Lesotho",
          "Solomon Islands",
          "Vanuatu",
          "Dominican Republic",
          "Yemen",
          "Dominica",
          "Eswatini",
          "Costa Rica",
          "Algeria",
          "Türkiye",
          "Saint Vincent and the Grenadines",
          "Morocco"
         ],
         "xaxis": "x",
         "y": [
          38.6,
          36.2,
          35.3,
          33.1,
          32.4,
          32.4,
          32.199999999999996,
          32.099999999999994,
          31.700000000000003,
          31.400000000000002,
          31.4,
          31.39999999999999,
          31.199999999999996,
          31,
          30.700000000000003
         ],
         "yaxis": "y"
        },
        {
         "marker": {
          "color": [
           38.6,
           36.2,
           35.3,
           33.1,
           32.4,
           32.4,
           32.199999999999996,
           32.099999999999994,
           31.700000000000003,
           31.400000000000002,
           31.4,
           31.39999999999999,
           31.199999999999996,
           31,
           30.700000000000003
          ],
          "colorscale": [
           [
            0,
            "#440154"
           ],
           [
            0.1111111111111111,
            "#482878"
           ],
           [
            0.2222222222222222,
            "#3e4989"
           ],
           [
            0.3333333333333333,
            "#31688e"
           ],
           [
            0.4444444444444444,
            "#26828e"
           ],
           [
            0.5555555555555556,
            "#1f9e89"
           ],
           [
            0.6666666666666666,
            "#35b779"
           ],
           [
            0.7777777777777778,
            "#6ece58"
           ],
           [
            0.8888888888888888,
            "#b5de2b"
           ],
           [
            1,
            "#fde725"
           ]
          ]
         },
         "showlegend": false,
         "type": "bar",
         "x": [
          "Singapore",
          "Estonia",
          "Japan",
          "Nauru",
          "Russian Federation",
          "Latvia",
          "Czechia",
          "Ukraine",
          "Belgium",
          "Lithuania",
          "Hungary",
          "Malta",
          "Poland",
          "Democratic People's Republic of Korea",
          "Andorra"
         ],
         "xaxis": "x2",
         "y": [
          2.5,
          5.299999999999997,
          6.600000000000001,
          6.6000000000000085,
          7.300000000000004,
          7.600000000000001,
          9.5,
          10.399999999999999,
          10.399999999999999,
          11.399999999999999,
          11.799999999999997,
          11.800000000000004,
          12.100000000000001,
          12.399999999999999,
          12.899999999999999
         ],
         "yaxis": "y2"
        },
        {
         "marker": {
          "color": [
           38,
           36.5,
           35.7,
           35.1,
           34.9,
           34.400000000000006,
           33.6,
           33.3,
           33,
           32.9,
           32.6,
           32.599999999999994,
           32.5,
           32.5,
           32.4
          ],
          "colorscale": [
           [
            0,
            "#440154"
           ],
           [
            0.1111111111111111,
            "#482878"
           ],
           [
            0.2222222222222222,
            "#3e4989"
           ],
           [
            0.3333333333333333,
            "#31688e"
           ],
           [
            0.4444444444444444,
            "#26828e"
           ],
           [
            0.5555555555555556,
            "#1f9e89"
           ],
           [
            0.6666666666666666,
            "#35b779"
           ],
           [
            0.7777777777777778,
            "#6ece58"
           ],
           [
            0.8888888888888888,
            "#b5de2b"
           ],
           [
            1,
            "#fde725"
           ]
          ]
         },
         "showlegend": false,
         "type": "bar",
         "x": [
          "Oman",
          "Dominican Republic",
          "Costa Rica",
          "Haiti",
          "Saudi Arabia",
          "Dominica",
          "Türkiye",
          "Tuvalu",
          "Brazil",
          "Algeria",
          "Malaysia",
          "Montenegro",
          "Iran (Islamic Republic of)",
          "El Salvador",
          "Jordan"
         ],
         "xaxis": "x3",
         "y": [
          38,
          36.5,
          35.7,
          35.1,
          34.9,
          34.400000000000006,
          33.6,
          33.3,
          33,
          32.9,
          32.6,
          32.599999999999994,
          32.5,
          32.5,
          32.4
         ],
         "yaxis": "y3"
        },
        {
         "marker": {
          "color": [
           38,
           36.5,
           35.7,
           35.1,
           34.9,
           34.400000000000006,
           33.6,
           33.3,
           33,
           32.9,
           32.6,
           32.599999999999994,
           32.5,
           32.5,
           32.4
          ],
          "colorscale": [
           [
            0,
            "#440154"
           ],
           [
            0.1111111111111111,
            "#482878"
           ],
           [
            0.2222222222222222,
            "#3e4989"
           ],
           [
            0.3333333333333333,
            "#31688e"
           ],
           [
            0.4444444444444444,
            "#26828e"
           ],
           [
            0.5555555555555556,
            "#1f9e89"
           ],
           [
            0.6666666666666666,
            "#35b779"
           ],
           [
            0.7777777777777778,
            "#6ece58"
           ],
           [
            0.8888888888888888,
            "#b5de2b"
           ],
           [
            1,
            "#fde725"
           ]
          ]
         },
         "showlegend": false,
         "type": "bar",
         "x": [
          "Ethiopia",
          "Uganda",
          "Burundi",
          "Eritrea",
          "Malawi",
          "Niger",
          "Chad",
          "Kenya",
          "Rwanda",
          "Comoros",
          "Zambia",
          "Burkina Faso",
          "Madagascar",
          "Central African Republic",
          "Equatorial Guinea"
         ],
         "xaxis": "x4",
         "y": [
          8.2,
          8.299999999999999,
          8.5,
          8.799999999999999,
          9,
          9.2,
          10.2,
          10.3,
          10.5,
          10.799999999999999,
          11.2,
          11.200000000000001,
          11.6,
          11.600000000000001,
          12.1
         ],
         "yaxis": "y4"
        },
        {
         "marker": {
          "color": [
           36.3,
           35.2,
           34.7,
           33.6,
           33,
           32.3,
           32,
           31.6,
           31.500000000000007,
           31.200000000000003,
           31,
           30.9,
           30.9,
           30.799999999999997,
           30.299999999999997
          ],
          "colorscale": [
           [
            0,
            "#440154"
           ],
           [
            0.1111111111111111,
            "#482878"
           ],
           [
            0.2222222222222222,
            "#3e4989"
           ],
           [
            0.3333333333333333,
            "#31688e"
           ],
           [
            0.4444444444444444,
            "#26828e"
           ],
           [
            0.5555555555555556,
            "#1f9e89"
           ],
           [
            0.6666666666666666,
            "#35b779"
           ],
           [
            0.7777777777777778,
            "#6ece58"
           ],
           [
            0.8888888888888888,
            "#b5de2b"
           ],
           [
            1,
            "#fde725"
           ]
          ]
         },
         "showlegend": false,
         "type": "bar",
         "x": [
          "Oman",
          "Haiti",
          "Dominican Republic",
          "Costa Rica",
          "Dominica",
          "Türkiye",
          "Algeria",
          "Saudi Arabia",
          "Tuvalu",
          "Iran (Islamic Republic of)",
          "Malaysia",
          "Honduras",
          "El Salvador",
          "Morocco",
          "Botswana"
         ],
         "xaxis": "x5",
         "y": [
          36.3,
          35.2,
          34.7,
          33.6,
          33,
          32.3,
          32,
          31.6,
          31.500000000000007,
          31.200000000000003,
          31,
          30.9,
          30.9,
          30.799999999999997,
          30.299999999999997
         ],
         "yaxis": "y5"
        },
        {
         "marker": {
          "color": [
           36.3,
           35.2,
           34.7,
           33.6,
           33,
           32.3,
           32,
           31.6,
           31.500000000000007,
           31.200000000000003,
           31,
           30.9,
           30.9,
           30.799999999999997,
           30.299999999999997
          ],
          "colorscale": [
           [
            0,
            "#440154"
           ],
           [
            0.1111111111111111,
            "#482878"
           ],
           [
            0.2222222222222222,
            "#3e4989"
           ],
           [
            0.3333333333333333,
            "#31688e"
           ],
           [
            0.4444444444444444,
            "#26828e"
           ],
           [
            0.5555555555555556,
            "#1f9e89"
           ],
           [
            0.6666666666666666,
            "#35b779"
           ],
           [
            0.7777777777777778,
            "#6ece58"
           ],
           [
            0.8888888888888888,
            "#b5de2b"
           ],
           [
            1,
            "#fde725"
           ]
          ]
         },
         "showlegend": false,
         "type": "bar",
         "x": [
          "Singapore",
          "Nauru",
          "Estonia",
          "Japan",
          "Viet Nam",
          "Ethiopia",
          "Russian Federation",
          "Eritrea",
          "Latvia",
          "India",
          "Niger",
          "Uganda",
          "Burundi",
          "Chad",
          "Malawi"
         ],
         "xaxis": "x6",
         "y": [
          9.2,
          10.799999999999997,
          12.299999999999997,
          12.299999999999999,
          13.3,
          13.599999999999998,
          13.700000000000003,
          14.1,
          14.199999999999996,
          14.399999999999999,
          14.4,
          14.599999999999998,
          14.7,
          15.100000000000001,
          15.299999999999999
         ],
         "yaxis": "y6"
        }
       ],
       "layout": {
        "annotations": [
         {
          "font": {
           "size": 16
          },
          "showarrow": false,
          "text": "Higher Increase",
          "x": 0.225,
          "xanchor": "center",
          "xref": "paper",
          "y": 0.9999999999999999,
          "yanchor": "bottom",
          "yref": "paper"
         },
         {
          "font": {
           "size": 16
          },
          "showarrow": false,
          "text": "Lower Increase",
          "x": 0.775,
          "xanchor": "center",
          "xref": "paper",
          "y": 0.9999999999999999,
          "yanchor": "bottom",
          "yref": "paper"
         }
        ],
        "height": 900,
        "template": {
         "data": {
          "bar": [
           {
            "error_x": {
             "color": "rgb(36,36,36)"
            },
            "error_y": {
             "color": "rgb(36,36,36)"
            },
            "marker": {
             "line": {
              "color": "white",
              "width": 0.5
             },
             "pattern": {
              "fillmode": "overlay",
              "size": 10,
              "solidity": 0.2
             }
            },
            "type": "bar"
           }
          ],
          "barpolar": [
           {
            "marker": {
             "line": {
              "color": "white",
              "width": 0.5
             },
             "pattern": {
              "fillmode": "overlay",
              "size": 10,
              "solidity": 0.2
             }
            },
            "type": "barpolar"
           }
          ],
          "carpet": [
           {
            "aaxis": {
             "endlinecolor": "rgb(36,36,36)",
             "gridcolor": "white",
             "linecolor": "white",
             "minorgridcolor": "white",
             "startlinecolor": "rgb(36,36,36)"
            },
            "baxis": {
             "endlinecolor": "rgb(36,36,36)",
             "gridcolor": "white",
             "linecolor": "white",
             "minorgridcolor": "white",
             "startlinecolor": "rgb(36,36,36)"
            },
            "type": "carpet"
           }
          ],
          "choropleth": [
           {
            "colorbar": {
             "outlinewidth": 1,
             "tickcolor": "rgb(36,36,36)",
             "ticks": "outside"
            },
            "type": "choropleth"
           }
          ],
          "contour": [
           {
            "colorbar": {
             "outlinewidth": 1,
             "tickcolor": "rgb(36,36,36)",
             "ticks": "outside"
            },
            "colorscale": [
             [
              0,
              "#440154"
             ],
             [
              0.1111111111111111,
              "#482878"
             ],
             [
              0.2222222222222222,
              "#3e4989"
             ],
             [
              0.3333333333333333,
              "#31688e"
             ],
             [
              0.4444444444444444,
              "#26828e"
             ],
             [
              0.5555555555555556,
              "#1f9e89"
             ],
             [
              0.6666666666666666,
              "#35b779"
             ],
             [
              0.7777777777777778,
              "#6ece58"
             ],
             [
              0.8888888888888888,
              "#b5de2b"
             ],
             [
              1,
              "#fde725"
             ]
            ],
            "type": "contour"
           }
          ],
          "contourcarpet": [
           {
            "colorbar": {
             "outlinewidth": 1,
             "tickcolor": "rgb(36,36,36)",
             "ticks": "outside"
            },
            "type": "contourcarpet"
           }
          ],
          "heatmap": [
           {
            "colorbar": {
             "outlinewidth": 1,
             "tickcolor": "rgb(36,36,36)",
             "ticks": "outside"
            },
            "colorscale": [
             [
              0,
              "#440154"
             ],
             [
              0.1111111111111111,
              "#482878"
             ],
             [
              0.2222222222222222,
              "#3e4989"
             ],
             [
              0.3333333333333333,
              "#31688e"
             ],
             [
              0.4444444444444444,
              "#26828e"
             ],
             [
              0.5555555555555556,
              "#1f9e89"
             ],
             [
              0.6666666666666666,
              "#35b779"
             ],
             [
              0.7777777777777778,
              "#6ece58"
             ],
             [
              0.8888888888888888,
              "#b5de2b"
             ],
             [
              1,
              "#fde725"
             ]
            ],
            "type": "heatmap"
           }
          ],
          "heatmapgl": [
           {
            "colorbar": {
             "outlinewidth": 1,
             "tickcolor": "rgb(36,36,36)",
             "ticks": "outside"
            },
            "colorscale": [
             [
              0,
              "#440154"
             ],
             [
              0.1111111111111111,
              "#482878"
             ],
             [
              0.2222222222222222,
              "#3e4989"
             ],
             [
              0.3333333333333333,
              "#31688e"
             ],
             [
              0.4444444444444444,
              "#26828e"
             ],
             [
              0.5555555555555556,
              "#1f9e89"
             ],
             [
              0.6666666666666666,
              "#35b779"
             ],
             [
              0.7777777777777778,
              "#6ece58"
             ],
             [
              0.8888888888888888,
              "#b5de2b"
             ],
             [
              1,
              "#fde725"
             ]
            ],
            "type": "heatmapgl"
           }
          ],
          "histogram": [
           {
            "marker": {
             "line": {
              "color": "white",
              "width": 0.6
             }
            },
            "type": "histogram"
           }
          ],
          "histogram2d": [
           {
            "colorbar": {
             "outlinewidth": 1,
             "tickcolor": "rgb(36,36,36)",
             "ticks": "outside"
            },
            "colorscale": [
             [
              0,
              "#440154"
             ],
             [
              0.1111111111111111,
              "#482878"
             ],
             [
              0.2222222222222222,
              "#3e4989"
             ],
             [
              0.3333333333333333,
              "#31688e"
             ],
             [
              0.4444444444444444,
              "#26828e"
             ],
             [
              0.5555555555555556,
              "#1f9e89"
             ],
             [
              0.6666666666666666,
              "#35b779"
             ],
             [
              0.7777777777777778,
              "#6ece58"
             ],
             [
              0.8888888888888888,
              "#b5de2b"
             ],
             [
              1,
              "#fde725"
             ]
            ],
            "type": "histogram2d"
           }
          ],
          "histogram2dcontour": [
           {
            "colorbar": {
             "outlinewidth": 1,
             "tickcolor": "rgb(36,36,36)",
             "ticks": "outside"
            },
            "colorscale": [
             [
              0,
              "#440154"
             ],
             [
              0.1111111111111111,
              "#482878"
             ],
             [
              0.2222222222222222,
              "#3e4989"
             ],
             [
              0.3333333333333333,
              "#31688e"
             ],
             [
              0.4444444444444444,
              "#26828e"
             ],
             [
              0.5555555555555556,
              "#1f9e89"
             ],
             [
              0.6666666666666666,
              "#35b779"
             ],
             [
              0.7777777777777778,
              "#6ece58"
             ],
             [
              0.8888888888888888,
              "#b5de2b"
             ],
             [
              1,
              "#fde725"
             ]
            ],
            "type": "histogram2dcontour"
           }
          ],
          "mesh3d": [
           {
            "colorbar": {
             "outlinewidth": 1,
             "tickcolor": "rgb(36,36,36)",
             "ticks": "outside"
            },
            "type": "mesh3d"
           }
          ],
          "parcoords": [
           {
            "line": {
             "colorbar": {
              "outlinewidth": 1,
              "tickcolor": "rgb(36,36,36)",
              "ticks": "outside"
             }
            },
            "type": "parcoords"
           }
          ],
          "pie": [
           {
            "automargin": true,
            "type": "pie"
           }
          ],
          "scatter": [
           {
            "fillpattern": {
             "fillmode": "overlay",
             "size": 10,
             "solidity": 0.2
            },
            "type": "scatter"
           }
          ],
          "scatter3d": [
           {
            "line": {
             "colorbar": {
              "outlinewidth": 1,
              "tickcolor": "rgb(36,36,36)",
              "ticks": "outside"
             }
            },
            "marker": {
             "colorbar": {
              "outlinewidth": 1,
              "tickcolor": "rgb(36,36,36)",
              "ticks": "outside"
             }
            },
            "type": "scatter3d"
           }
          ],
          "scattercarpet": [
           {
            "marker": {
             "colorbar": {
              "outlinewidth": 1,
              "tickcolor": "rgb(36,36,36)",
              "ticks": "outside"
             }
            },
            "type": "scattercarpet"
           }
          ],
          "scattergeo": [
           {
            "marker": {
             "colorbar": {
              "outlinewidth": 1,
              "tickcolor": "rgb(36,36,36)",
              "ticks": "outside"
             }
            },
            "type": "scattergeo"
           }
          ],
          "scattergl": [
           {
            "marker": {
             "colorbar": {
              "outlinewidth": 1,
              "tickcolor": "rgb(36,36,36)",
              "ticks": "outside"
             }
            },
            "type": "scattergl"
           }
          ],
          "scattermapbox": [
           {
            "marker": {
             "colorbar": {
              "outlinewidth": 1,
              "tickcolor": "rgb(36,36,36)",
              "ticks": "outside"
             }
            },
            "type": "scattermapbox"
           }
          ],
          "scatterpolar": [
           {
            "marker": {
             "colorbar": {
              "outlinewidth": 1,
              "tickcolor": "rgb(36,36,36)",
              "ticks": "outside"
             }
            },
            "type": "scatterpolar"
           }
          ],
          "scatterpolargl": [
           {
            "marker": {
             "colorbar": {
              "outlinewidth": 1,
              "tickcolor": "rgb(36,36,36)",
              "ticks": "outside"
             }
            },
            "type": "scatterpolargl"
           }
          ],
          "scatterternary": [
           {
            "marker": {
             "colorbar": {
              "outlinewidth": 1,
              "tickcolor": "rgb(36,36,36)",
              "ticks": "outside"
             }
            },
            "type": "scatterternary"
           }
          ],
          "surface": [
           {
            "colorbar": {
             "outlinewidth": 1,
             "tickcolor": "rgb(36,36,36)",
             "ticks": "outside"
            },
            "colorscale": [
             [
              0,
              "#440154"
             ],
             [
              0.1111111111111111,
              "#482878"
             ],
             [
              0.2222222222222222,
              "#3e4989"
             ],
             [
              0.3333333333333333,
              "#31688e"
             ],
             [
              0.4444444444444444,
              "#26828e"
             ],
             [
              0.5555555555555556,
              "#1f9e89"
             ],
             [
              0.6666666666666666,
              "#35b779"
             ],
             [
              0.7777777777777778,
              "#6ece58"
             ],
             [
              0.8888888888888888,
              "#b5de2b"
             ],
             [
              1,
              "#fde725"
             ]
            ],
            "type": "surface"
           }
          ],
          "table": [
           {
            "cells": {
             "fill": {
              "color": "rgb(237,237,237)"
             },
             "line": {
              "color": "white"
             }
            },
            "header": {
             "fill": {
              "color": "rgb(217,217,217)"
             },
             "line": {
              "color": "white"
             }
            },
            "type": "table"
           }
          ]
         },
         "layout": {
          "annotationdefaults": {
           "arrowhead": 0,
           "arrowwidth": 1
          },
          "autotypenumbers": "strict",
          "coloraxis": {
           "colorbar": {
            "outlinewidth": 1,
            "tickcolor": "rgb(36,36,36)",
            "ticks": "outside"
           }
          },
          "colorscale": {
           "diverging": [
            [
             0,
             "rgb(103,0,31)"
            ],
            [
             0.1,
             "rgb(178,24,43)"
            ],
            [
             0.2,
             "rgb(214,96,77)"
            ],
            [
             0.3,
             "rgb(244,165,130)"
            ],
            [
             0.4,
             "rgb(253,219,199)"
            ],
            [
             0.5,
             "rgb(247,247,247)"
            ],
            [
             0.6,
             "rgb(209,229,240)"
            ],
            [
             0.7,
             "rgb(146,197,222)"
            ],
            [
             0.8,
             "rgb(67,147,195)"
            ],
            [
             0.9,
             "rgb(33,102,172)"
            ],
            [
             1,
             "rgb(5,48,97)"
            ]
           ],
           "sequential": [
            [
             0,
             "#440154"
            ],
            [
             0.1111111111111111,
             "#482878"
            ],
            [
             0.2222222222222222,
             "#3e4989"
            ],
            [
             0.3333333333333333,
             "#31688e"
            ],
            [
             0.4444444444444444,
             "#26828e"
            ],
            [
             0.5555555555555556,
             "#1f9e89"
            ],
            [
             0.6666666666666666,
             "#35b779"
            ],
            [
             0.7777777777777778,
             "#6ece58"
            ],
            [
             0.8888888888888888,
             "#b5de2b"
            ],
            [
             1,
             "#fde725"
            ]
           ],
           "sequentialminus": [
            [
             0,
             "#440154"
            ],
            [
             0.1111111111111111,
             "#482878"
            ],
            [
             0.2222222222222222,
             "#3e4989"
            ],
            [
             0.3333333333333333,
             "#31688e"
            ],
            [
             0.4444444444444444,
             "#26828e"
            ],
            [
             0.5555555555555556,
             "#1f9e89"
            ],
            [
             0.6666666666666666,
             "#35b779"
            ],
            [
             0.7777777777777778,
             "#6ece58"
            ],
            [
             0.8888888888888888,
             "#b5de2b"
            ],
            [
             1,
             "#fde725"
            ]
           ]
          },
          "colorway": [
           "#1F77B4",
           "#FF7F0E",
           "#2CA02C",
           "#D62728",
           "#9467BD",
           "#8C564B",
           "#E377C2",
           "#7F7F7F",
           "#BCBD22",
           "#17BECF"
          ],
          "font": {
           "color": "rgb(36,36,36)"
          },
          "geo": {
           "bgcolor": "white",
           "lakecolor": "white",
           "landcolor": "white",
           "showlakes": true,
           "showland": true,
           "subunitcolor": "white"
          },
          "hoverlabel": {
           "align": "left"
          },
          "hovermode": "closest",
          "mapbox": {
           "style": "light"
          },
          "paper_bgcolor": "white",
          "plot_bgcolor": "white",
          "polar": {
           "angularaxis": {
            "gridcolor": "rgb(232,232,232)",
            "linecolor": "rgb(36,36,36)",
            "showgrid": false,
            "showline": true,
            "ticks": "outside"
           },
           "bgcolor": "white",
           "radialaxis": {
            "gridcolor": "rgb(232,232,232)",
            "linecolor": "rgb(36,36,36)",
            "showgrid": false,
            "showline": true,
            "ticks": "outside"
           }
          },
          "scene": {
           "xaxis": {
            "backgroundcolor": "white",
            "gridcolor": "rgb(232,232,232)",
            "gridwidth": 2,
            "linecolor": "rgb(36,36,36)",
            "showbackground": true,
            "showgrid": false,
            "showline": true,
            "ticks": "outside",
            "zeroline": false,
            "zerolinecolor": "rgb(36,36,36)"
           },
           "yaxis": {
            "backgroundcolor": "white",
            "gridcolor": "rgb(232,232,232)",
            "gridwidth": 2,
            "linecolor": "rgb(36,36,36)",
            "showbackground": true,
            "showgrid": false,
            "showline": true,
            "ticks": "outside",
            "zeroline": false,
            "zerolinecolor": "rgb(36,36,36)"
           },
           "zaxis": {
            "backgroundcolor": "white",
            "gridcolor": "rgb(232,232,232)",
            "gridwidth": 2,
            "linecolor": "rgb(36,36,36)",
            "showbackground": true,
            "showgrid": false,
            "showline": true,
            "ticks": "outside",
            "zeroline": false,
            "zerolinecolor": "rgb(36,36,36)"
           }
          },
          "shapedefaults": {
           "fillcolor": "black",
           "line": {
            "width": 0
           },
           "opacity": 0.3
          },
          "ternary": {
           "aaxis": {
            "gridcolor": "rgb(232,232,232)",
            "linecolor": "rgb(36,36,36)",
            "showgrid": false,
            "showline": true,
            "ticks": "outside"
           },
           "baxis": {
            "gridcolor": "rgb(232,232,232)",
            "linecolor": "rgb(36,36,36)",
            "showgrid": false,
            "showline": true,
            "ticks": "outside"
           },
           "bgcolor": "white",
           "caxis": {
            "gridcolor": "rgb(232,232,232)",
            "linecolor": "rgb(36,36,36)",
            "showgrid": false,
            "showline": true,
            "ticks": "outside"
           }
          },
          "title": {
           "x": 0.05
          },
          "xaxis": {
           "automargin": true,
           "gridcolor": "rgb(232,232,232)",
           "linecolor": "rgb(36,36,36)",
           "showgrid": false,
           "showline": true,
           "ticks": "outside",
           "title": {
            "standoff": 15
           },
           "zeroline": false,
           "zerolinecolor": "rgb(36,36,36)"
          },
          "yaxis": {
           "automargin": true,
           "gridcolor": "rgb(232,232,232)",
           "linecolor": "rgb(36,36,36)",
           "showgrid": false,
           "showline": true,
           "ticks": "outside",
           "title": {
            "standoff": 15
           },
           "zeroline": false,
           "zerolinecolor": "rgb(36,36,36)"
          }
         }
        },
        "xaxis": {
         "anchor": "y",
         "domain": [
          0,
          0.45
         ],
         "showspikes": true,
         "spikemode": "across",
         "tickangle": 50
        },
        "xaxis2": {
         "anchor": "y2",
         "domain": [
          0.55,
          1
         ],
         "showspikes": true,
         "spikemode": "across",
         "tickangle": 50
        },
        "xaxis3": {
         "anchor": "y3",
         "domain": [
          0,
          0.45
         ],
         "showspikes": true,
         "spikemode": "across",
         "tickangle": 50
        },
        "xaxis4": {
         "anchor": "y4",
         "domain": [
          0.55,
          1
         ],
         "showspikes": true,
         "spikemode": "across",
         "tickangle": 50
        },
        "xaxis5": {
         "anchor": "y5",
         "domain": [
          0,
          0.45
         ],
         "showspikes": true,
         "spikemode": "across",
         "tickangle": 50
        },
        "xaxis6": {
         "anchor": "y6",
         "domain": [
          0.55,
          1
         ],
         "showspikes": true,
         "spikemode": "across",
         "tickangle": 50
        },
        "yaxis": {
         "anchor": "x",
         "domain": [
          0.8333333333333333,
          0.9999999999999999
         ],
         "title": {
          "text": "Female"
         }
        },
        "yaxis2": {
         "anchor": "x2",
         "domain": [
          0.8333333333333333,
          0.9999999999999999
         ],
         "matches": "y",
         "showticklabels": false
        },
        "yaxis3": {
         "anchor": "x3",
         "domain": [
          0.41666666666666663,
          0.5833333333333333
         ],
         "title": {
          "text": "Male"
         }
        },
        "yaxis4": {
         "anchor": "x4",
         "domain": [
          0.41666666666666663,
          0.5833333333333333
         ],
         "matches": "y3",
         "showticklabels": false
        },
        "yaxis5": {
         "anchor": "x5",
         "domain": [
          0,
          0.16666666666666666
         ],
         "title": {
          "text": "Both sexes"
         }
        },
        "yaxis6": {
         "anchor": "x6",
         "domain": [
          0,
          0.16666666666666666
         ],
         "matches": "y5",
         "showticklabels": false
        }
       }
      },
      "text/html": [
       "<div>                            <div id=\"c1b17d13-9364-4ae1-a839-a0b6e14db99d\" class=\"plotly-graph-div\" style=\"height:900px; width:100%;\"></div>            <script type=\"text/javascript\">                require([\"plotly\"], function(Plotly) {                    window.PLOTLYENV=window.PLOTLYENV || {};                                    if (document.getElementById(\"c1b17d13-9364-4ae1-a839-a0b6e14db99d\")) {                    Plotly.newPlot(                        \"c1b17d13-9364-4ae1-a839-a0b6e14db99d\",                        [{\"marker\":{\"color\":[38.6,36.2,35.3,33.1,32.4,32.4,32.199999999999996,32.099999999999994,31.700000000000003,31.400000000000002,31.4,31.39999999999999,31.199999999999996,31.0,30.700000000000003],\"colorscale\":[[0.0,\"#440154\"],[0.1111111111111111,\"#482878\"],[0.2222222222222222,\"#3e4989\"],[0.3333333333333333,\"#31688e\"],[0.4444444444444444,\"#26828e\"],[0.5555555555555556,\"#1f9e89\"],[0.6666666666666666,\"#35b779\"],[0.7777777777777778,\"#6ece58\"],[0.8888888888888888,\"#b5de2b\"],[1.0,\"#fde725\"]]},\"showlegend\":false,\"x\":[\"Botswana\",\"Oman\",\"Haiti\",\"Lesotho\",\"Solomon Islands\",\"Vanuatu\",\"Dominican Republic\",\"Yemen\",\"Dominica\",\"Eswatini\",\"Costa Rica\",\"Algeria\",\"T\\u00fcrkiye\",\"Saint Vincent and the Grenadines\",\"Morocco\"],\"y\":[38.6,36.2,35.3,33.1,32.4,32.4,32.199999999999996,32.099999999999994,31.700000000000003,31.400000000000002,31.4,31.39999999999999,31.199999999999996,31.0,30.700000000000003],\"type\":\"bar\",\"xaxis\":\"x\",\"yaxis\":\"y\"},{\"marker\":{\"color\":[38.6,36.2,35.3,33.1,32.4,32.4,32.199999999999996,32.099999999999994,31.700000000000003,31.400000000000002,31.4,31.39999999999999,31.199999999999996,31.0,30.700000000000003],\"colorscale\":[[0.0,\"#440154\"],[0.1111111111111111,\"#482878\"],[0.2222222222222222,\"#3e4989\"],[0.3333333333333333,\"#31688e\"],[0.4444444444444444,\"#26828e\"],[0.5555555555555556,\"#1f9e89\"],[0.6666666666666666,\"#35b779\"],[0.7777777777777778,\"#6ece58\"],[0.8888888888888888,\"#b5de2b\"],[1.0,\"#fde725\"]]},\"showlegend\":false,\"x\":[\"Singapore\",\"Estonia\",\"Japan\",\"Nauru\",\"Russian Federation\",\"Latvia\",\"Czechia\",\"Ukraine\",\"Belgium\",\"Lithuania\",\"Hungary\",\"Malta\",\"Poland\",\"Democratic People's Republic of Korea\",\"Andorra\"],\"y\":[2.5,5.299999999999997,6.600000000000001,6.6000000000000085,7.300000000000004,7.600000000000001,9.5,10.399999999999999,10.399999999999999,11.399999999999999,11.799999999999997,11.800000000000004,12.100000000000001,12.399999999999999,12.899999999999999],\"type\":\"bar\",\"xaxis\":\"x2\",\"yaxis\":\"y2\"},{\"marker\":{\"color\":[38.0,36.5,35.7,35.1,34.9,34.400000000000006,33.6,33.3,33.0,32.9,32.6,32.599999999999994,32.5,32.5,32.4],\"colorscale\":[[0.0,\"#440154\"],[0.1111111111111111,\"#482878\"],[0.2222222222222222,\"#3e4989\"],[0.3333333333333333,\"#31688e\"],[0.4444444444444444,\"#26828e\"],[0.5555555555555556,\"#1f9e89\"],[0.6666666666666666,\"#35b779\"],[0.7777777777777778,\"#6ece58\"],[0.8888888888888888,\"#b5de2b\"],[1.0,\"#fde725\"]]},\"showlegend\":false,\"x\":[\"Oman\",\"Dominican Republic\",\"Costa Rica\",\"Haiti\",\"Saudi Arabia\",\"Dominica\",\"T\\u00fcrkiye\",\"Tuvalu\",\"Brazil\",\"Algeria\",\"Malaysia\",\"Montenegro\",\"Iran (Islamic Republic of)\",\"El Salvador\",\"Jordan\"],\"y\":[38.0,36.5,35.7,35.1,34.9,34.400000000000006,33.6,33.3,33.0,32.9,32.6,32.599999999999994,32.5,32.5,32.4],\"type\":\"bar\",\"xaxis\":\"x3\",\"yaxis\":\"y3\"},{\"marker\":{\"color\":[38.0,36.5,35.7,35.1,34.9,34.400000000000006,33.6,33.3,33.0,32.9,32.6,32.599999999999994,32.5,32.5,32.4],\"colorscale\":[[0.0,\"#440154\"],[0.1111111111111111,\"#482878\"],[0.2222222222222222,\"#3e4989\"],[0.3333333333333333,\"#31688e\"],[0.4444444444444444,\"#26828e\"],[0.5555555555555556,\"#1f9e89\"],[0.6666666666666666,\"#35b779\"],[0.7777777777777778,\"#6ece58\"],[0.8888888888888888,\"#b5de2b\"],[1.0,\"#fde725\"]]},\"showlegend\":false,\"x\":[\"Ethiopia\",\"Uganda\",\"Burundi\",\"Eritrea\",\"Malawi\",\"Niger\",\"Chad\",\"Kenya\",\"Rwanda\",\"Comoros\",\"Zambia\",\"Burkina Faso\",\"Madagascar\",\"Central African Republic\",\"Equatorial Guinea\"],\"y\":[8.2,8.299999999999999,8.5,8.799999999999999,9.0,9.2,10.2,10.3,10.5,10.799999999999999,11.2,11.200000000000001,11.6,11.600000000000001,12.1],\"type\":\"bar\",\"xaxis\":\"x4\",\"yaxis\":\"y4\"},{\"marker\":{\"color\":[36.3,35.2,34.7,33.6,33.0,32.3,32.0,31.6,31.500000000000007,31.200000000000003,31.0,30.9,30.9,30.799999999999997,30.299999999999997],\"colorscale\":[[0.0,\"#440154\"],[0.1111111111111111,\"#482878\"],[0.2222222222222222,\"#3e4989\"],[0.3333333333333333,\"#31688e\"],[0.4444444444444444,\"#26828e\"],[0.5555555555555556,\"#1f9e89\"],[0.6666666666666666,\"#35b779\"],[0.7777777777777778,\"#6ece58\"],[0.8888888888888888,\"#b5de2b\"],[1.0,\"#fde725\"]]},\"showlegend\":false,\"x\":[\"Oman\",\"Haiti\",\"Dominican Republic\",\"Costa Rica\",\"Dominica\",\"T\\u00fcrkiye\",\"Algeria\",\"Saudi Arabia\",\"Tuvalu\",\"Iran (Islamic Republic of)\",\"Malaysia\",\"Honduras\",\"El Salvador\",\"Morocco\",\"Botswana\"],\"y\":[36.3,35.2,34.7,33.6,33.0,32.3,32.0,31.6,31.500000000000007,31.200000000000003,31.0,30.9,30.9,30.799999999999997,30.299999999999997],\"type\":\"bar\",\"xaxis\":\"x5\",\"yaxis\":\"y5\"},{\"marker\":{\"color\":[36.3,35.2,34.7,33.6,33.0,32.3,32.0,31.6,31.500000000000007,31.200000000000003,31.0,30.9,30.9,30.799999999999997,30.299999999999997],\"colorscale\":[[0.0,\"#440154\"],[0.1111111111111111,\"#482878\"],[0.2222222222222222,\"#3e4989\"],[0.3333333333333333,\"#31688e\"],[0.4444444444444444,\"#26828e\"],[0.5555555555555556,\"#1f9e89\"],[0.6666666666666666,\"#35b779\"],[0.7777777777777778,\"#6ece58\"],[0.8888888888888888,\"#b5de2b\"],[1.0,\"#fde725\"]]},\"showlegend\":false,\"x\":[\"Singapore\",\"Nauru\",\"Estonia\",\"Japan\",\"Viet Nam\",\"Ethiopia\",\"Russian Federation\",\"Eritrea\",\"Latvia\",\"India\",\"Niger\",\"Uganda\",\"Burundi\",\"Chad\",\"Malawi\"],\"y\":[9.2,10.799999999999997,12.299999999999997,12.299999999999999,13.3,13.599999999999998,13.700000000000003,14.1,14.199999999999996,14.399999999999999,14.4,14.599999999999998,14.7,15.100000000000001,15.299999999999999],\"type\":\"bar\",\"xaxis\":\"x6\",\"yaxis\":\"y6\"}],                        {\"template\":{\"data\":{\"barpolar\":[{\"marker\":{\"line\":{\"color\":\"white\",\"width\":0.5},\"pattern\":{\"fillmode\":\"overlay\",\"size\":10,\"solidity\":0.2}},\"type\":\"barpolar\"}],\"bar\":[{\"error_x\":{\"color\":\"rgb(36,36,36)\"},\"error_y\":{\"color\":\"rgb(36,36,36)\"},\"marker\":{\"line\":{\"color\":\"white\",\"width\":0.5},\"pattern\":{\"fillmode\":\"overlay\",\"size\":10,\"solidity\":0.2}},\"type\":\"bar\"}],\"carpet\":[{\"aaxis\":{\"endlinecolor\":\"rgb(36,36,36)\",\"gridcolor\":\"white\",\"linecolor\":\"white\",\"minorgridcolor\":\"white\",\"startlinecolor\":\"rgb(36,36,36)\"},\"baxis\":{\"endlinecolor\":\"rgb(36,36,36)\",\"gridcolor\":\"white\",\"linecolor\":\"white\",\"minorgridcolor\":\"white\",\"startlinecolor\":\"rgb(36,36,36)\"},\"type\":\"carpet\"}],\"choropleth\":[{\"colorbar\":{\"outlinewidth\":1,\"tickcolor\":\"rgb(36,36,36)\",\"ticks\":\"outside\"},\"type\":\"choropleth\"}],\"contourcarpet\":[{\"colorbar\":{\"outlinewidth\":1,\"tickcolor\":\"rgb(36,36,36)\",\"ticks\":\"outside\"},\"type\":\"contourcarpet\"}],\"contour\":[{\"colorbar\":{\"outlinewidth\":1,\"tickcolor\":\"rgb(36,36,36)\",\"ticks\":\"outside\"},\"colorscale\":[[0.0,\"#440154\"],[0.1111111111111111,\"#482878\"],[0.2222222222222222,\"#3e4989\"],[0.3333333333333333,\"#31688e\"],[0.4444444444444444,\"#26828e\"],[0.5555555555555556,\"#1f9e89\"],[0.6666666666666666,\"#35b779\"],[0.7777777777777778,\"#6ece58\"],[0.8888888888888888,\"#b5de2b\"],[1.0,\"#fde725\"]],\"type\":\"contour\"}],\"heatmapgl\":[{\"colorbar\":{\"outlinewidth\":1,\"tickcolor\":\"rgb(36,36,36)\",\"ticks\":\"outside\"},\"colorscale\":[[0.0,\"#440154\"],[0.1111111111111111,\"#482878\"],[0.2222222222222222,\"#3e4989\"],[0.3333333333333333,\"#31688e\"],[0.4444444444444444,\"#26828e\"],[0.5555555555555556,\"#1f9e89\"],[0.6666666666666666,\"#35b779\"],[0.7777777777777778,\"#6ece58\"],[0.8888888888888888,\"#b5de2b\"],[1.0,\"#fde725\"]],\"type\":\"heatmapgl\"}],\"heatmap\":[{\"colorbar\":{\"outlinewidth\":1,\"tickcolor\":\"rgb(36,36,36)\",\"ticks\":\"outside\"},\"colorscale\":[[0.0,\"#440154\"],[0.1111111111111111,\"#482878\"],[0.2222222222222222,\"#3e4989\"],[0.3333333333333333,\"#31688e\"],[0.4444444444444444,\"#26828e\"],[0.5555555555555556,\"#1f9e89\"],[0.6666666666666666,\"#35b779\"],[0.7777777777777778,\"#6ece58\"],[0.8888888888888888,\"#b5de2b\"],[1.0,\"#fde725\"]],\"type\":\"heatmap\"}],\"histogram2dcontour\":[{\"colorbar\":{\"outlinewidth\":1,\"tickcolor\":\"rgb(36,36,36)\",\"ticks\":\"outside\"},\"colorscale\":[[0.0,\"#440154\"],[0.1111111111111111,\"#482878\"],[0.2222222222222222,\"#3e4989\"],[0.3333333333333333,\"#31688e\"],[0.4444444444444444,\"#26828e\"],[0.5555555555555556,\"#1f9e89\"],[0.6666666666666666,\"#35b779\"],[0.7777777777777778,\"#6ece58\"],[0.8888888888888888,\"#b5de2b\"],[1.0,\"#fde725\"]],\"type\":\"histogram2dcontour\"}],\"histogram2d\":[{\"colorbar\":{\"outlinewidth\":1,\"tickcolor\":\"rgb(36,36,36)\",\"ticks\":\"outside\"},\"colorscale\":[[0.0,\"#440154\"],[0.1111111111111111,\"#482878\"],[0.2222222222222222,\"#3e4989\"],[0.3333333333333333,\"#31688e\"],[0.4444444444444444,\"#26828e\"],[0.5555555555555556,\"#1f9e89\"],[0.6666666666666666,\"#35b779\"],[0.7777777777777778,\"#6ece58\"],[0.8888888888888888,\"#b5de2b\"],[1.0,\"#fde725\"]],\"type\":\"histogram2d\"}],\"histogram\":[{\"marker\":{\"line\":{\"color\":\"white\",\"width\":0.6}},\"type\":\"histogram\"}],\"mesh3d\":[{\"colorbar\":{\"outlinewidth\":1,\"tickcolor\":\"rgb(36,36,36)\",\"ticks\":\"outside\"},\"type\":\"mesh3d\"}],\"parcoords\":[{\"line\":{\"colorbar\":{\"outlinewidth\":1,\"tickcolor\":\"rgb(36,36,36)\",\"ticks\":\"outside\"}},\"type\":\"parcoords\"}],\"pie\":[{\"automargin\":true,\"type\":\"pie\"}],\"scatter3d\":[{\"line\":{\"colorbar\":{\"outlinewidth\":1,\"tickcolor\":\"rgb(36,36,36)\",\"ticks\":\"outside\"}},\"marker\":{\"colorbar\":{\"outlinewidth\":1,\"tickcolor\":\"rgb(36,36,36)\",\"ticks\":\"outside\"}},\"type\":\"scatter3d\"}],\"scattercarpet\":[{\"marker\":{\"colorbar\":{\"outlinewidth\":1,\"tickcolor\":\"rgb(36,36,36)\",\"ticks\":\"outside\"}},\"type\":\"scattercarpet\"}],\"scattergeo\":[{\"marker\":{\"colorbar\":{\"outlinewidth\":1,\"tickcolor\":\"rgb(36,36,36)\",\"ticks\":\"outside\"}},\"type\":\"scattergeo\"}],\"scattergl\":[{\"marker\":{\"colorbar\":{\"outlinewidth\":1,\"tickcolor\":\"rgb(36,36,36)\",\"ticks\":\"outside\"}},\"type\":\"scattergl\"}],\"scattermapbox\":[{\"marker\":{\"colorbar\":{\"outlinewidth\":1,\"tickcolor\":\"rgb(36,36,36)\",\"ticks\":\"outside\"}},\"type\":\"scattermapbox\"}],\"scatterpolargl\":[{\"marker\":{\"colorbar\":{\"outlinewidth\":1,\"tickcolor\":\"rgb(36,36,36)\",\"ticks\":\"outside\"}},\"type\":\"scatterpolargl\"}],\"scatterpolar\":[{\"marker\":{\"colorbar\":{\"outlinewidth\":1,\"tickcolor\":\"rgb(36,36,36)\",\"ticks\":\"outside\"}},\"type\":\"scatterpolar\"}],\"scatter\":[{\"fillpattern\":{\"fillmode\":\"overlay\",\"size\":10,\"solidity\":0.2},\"type\":\"scatter\"}],\"scatterternary\":[{\"marker\":{\"colorbar\":{\"outlinewidth\":1,\"tickcolor\":\"rgb(36,36,36)\",\"ticks\":\"outside\"}},\"type\":\"scatterternary\"}],\"surface\":[{\"colorbar\":{\"outlinewidth\":1,\"tickcolor\":\"rgb(36,36,36)\",\"ticks\":\"outside\"},\"colorscale\":[[0.0,\"#440154\"],[0.1111111111111111,\"#482878\"],[0.2222222222222222,\"#3e4989\"],[0.3333333333333333,\"#31688e\"],[0.4444444444444444,\"#26828e\"],[0.5555555555555556,\"#1f9e89\"],[0.6666666666666666,\"#35b779\"],[0.7777777777777778,\"#6ece58\"],[0.8888888888888888,\"#b5de2b\"],[1.0,\"#fde725\"]],\"type\":\"surface\"}],\"table\":[{\"cells\":{\"fill\":{\"color\":\"rgb(237,237,237)\"},\"line\":{\"color\":\"white\"}},\"header\":{\"fill\":{\"color\":\"rgb(217,217,217)\"},\"line\":{\"color\":\"white\"}},\"type\":\"table\"}]},\"layout\":{\"annotationdefaults\":{\"arrowhead\":0,\"arrowwidth\":1},\"autotypenumbers\":\"strict\",\"coloraxis\":{\"colorbar\":{\"outlinewidth\":1,\"tickcolor\":\"rgb(36,36,36)\",\"ticks\":\"outside\"}},\"colorscale\":{\"diverging\":[[0.0,\"rgb(103,0,31)\"],[0.1,\"rgb(178,24,43)\"],[0.2,\"rgb(214,96,77)\"],[0.3,\"rgb(244,165,130)\"],[0.4,\"rgb(253,219,199)\"],[0.5,\"rgb(247,247,247)\"],[0.6,\"rgb(209,229,240)\"],[0.7,\"rgb(146,197,222)\"],[0.8,\"rgb(67,147,195)\"],[0.9,\"rgb(33,102,172)\"],[1.0,\"rgb(5,48,97)\"]],\"sequential\":[[0.0,\"#440154\"],[0.1111111111111111,\"#482878\"],[0.2222222222222222,\"#3e4989\"],[0.3333333333333333,\"#31688e\"],[0.4444444444444444,\"#26828e\"],[0.5555555555555556,\"#1f9e89\"],[0.6666666666666666,\"#35b779\"],[0.7777777777777778,\"#6ece58\"],[0.8888888888888888,\"#b5de2b\"],[1.0,\"#fde725\"]],\"sequentialminus\":[[0.0,\"#440154\"],[0.1111111111111111,\"#482878\"],[0.2222222222222222,\"#3e4989\"],[0.3333333333333333,\"#31688e\"],[0.4444444444444444,\"#26828e\"],[0.5555555555555556,\"#1f9e89\"],[0.6666666666666666,\"#35b779\"],[0.7777777777777778,\"#6ece58\"],[0.8888888888888888,\"#b5de2b\"],[1.0,\"#fde725\"]]},\"colorway\":[\"#1F77B4\",\"#FF7F0E\",\"#2CA02C\",\"#D62728\",\"#9467BD\",\"#8C564B\",\"#E377C2\",\"#7F7F7F\",\"#BCBD22\",\"#17BECF\"],\"font\":{\"color\":\"rgb(36,36,36)\"},\"geo\":{\"bgcolor\":\"white\",\"lakecolor\":\"white\",\"landcolor\":\"white\",\"showlakes\":true,\"showland\":true,\"subunitcolor\":\"white\"},\"hoverlabel\":{\"align\":\"left\"},\"hovermode\":\"closest\",\"mapbox\":{\"style\":\"light\"},\"paper_bgcolor\":\"white\",\"plot_bgcolor\":\"white\",\"polar\":{\"angularaxis\":{\"gridcolor\":\"rgb(232,232,232)\",\"linecolor\":\"rgb(36,36,36)\",\"showgrid\":false,\"showline\":true,\"ticks\":\"outside\"},\"bgcolor\":\"white\",\"radialaxis\":{\"gridcolor\":\"rgb(232,232,232)\",\"linecolor\":\"rgb(36,36,36)\",\"showgrid\":false,\"showline\":true,\"ticks\":\"outside\"}},\"scene\":{\"xaxis\":{\"backgroundcolor\":\"white\",\"gridcolor\":\"rgb(232,232,232)\",\"gridwidth\":2,\"linecolor\":\"rgb(36,36,36)\",\"showbackground\":true,\"showgrid\":false,\"showline\":true,\"ticks\":\"outside\",\"zeroline\":false,\"zerolinecolor\":\"rgb(36,36,36)\"},\"yaxis\":{\"backgroundcolor\":\"white\",\"gridcolor\":\"rgb(232,232,232)\",\"gridwidth\":2,\"linecolor\":\"rgb(36,36,36)\",\"showbackground\":true,\"showgrid\":false,\"showline\":true,\"ticks\":\"outside\",\"zeroline\":false,\"zerolinecolor\":\"rgb(36,36,36)\"},\"zaxis\":{\"backgroundcolor\":\"white\",\"gridcolor\":\"rgb(232,232,232)\",\"gridwidth\":2,\"linecolor\":\"rgb(36,36,36)\",\"showbackground\":true,\"showgrid\":false,\"showline\":true,\"ticks\":\"outside\",\"zeroline\":false,\"zerolinecolor\":\"rgb(36,36,36)\"}},\"shapedefaults\":{\"fillcolor\":\"black\",\"line\":{\"width\":0},\"opacity\":0.3},\"ternary\":{\"aaxis\":{\"gridcolor\":\"rgb(232,232,232)\",\"linecolor\":\"rgb(36,36,36)\",\"showgrid\":false,\"showline\":true,\"ticks\":\"outside\"},\"baxis\":{\"gridcolor\":\"rgb(232,232,232)\",\"linecolor\":\"rgb(36,36,36)\",\"showgrid\":false,\"showline\":true,\"ticks\":\"outside\"},\"bgcolor\":\"white\",\"caxis\":{\"gridcolor\":\"rgb(232,232,232)\",\"linecolor\":\"rgb(36,36,36)\",\"showgrid\":false,\"showline\":true,\"ticks\":\"outside\"}},\"title\":{\"x\":0.05},\"xaxis\":{\"automargin\":true,\"gridcolor\":\"rgb(232,232,232)\",\"linecolor\":\"rgb(36,36,36)\",\"showgrid\":false,\"showline\":true,\"ticks\":\"outside\",\"title\":{\"standoff\":15},\"zeroline\":false,\"zerolinecolor\":\"rgb(36,36,36)\"},\"yaxis\":{\"automargin\":true,\"gridcolor\":\"rgb(232,232,232)\",\"linecolor\":\"rgb(36,36,36)\",\"showgrid\":false,\"showline\":true,\"ticks\":\"outside\",\"title\":{\"standoff\":15},\"zeroline\":false,\"zerolinecolor\":\"rgb(36,36,36)\"}}},\"xaxis\":{\"anchor\":\"y\",\"domain\":[0.0,0.45],\"showspikes\":true,\"spikemode\":\"across\",\"tickangle\":50},\"yaxis\":{\"anchor\":\"x\",\"domain\":[0.8333333333333333,0.9999999999999999],\"title\":{\"text\":\"Female\"}},\"xaxis2\":{\"anchor\":\"y2\",\"domain\":[0.55,1.0],\"showspikes\":true,\"spikemode\":\"across\",\"tickangle\":50},\"yaxis2\":{\"anchor\":\"x2\",\"domain\":[0.8333333333333333,0.9999999999999999],\"matches\":\"y\",\"showticklabels\":false},\"xaxis3\":{\"anchor\":\"y3\",\"domain\":[0.0,0.45],\"showspikes\":true,\"spikemode\":\"across\",\"tickangle\":50},\"yaxis3\":{\"anchor\":\"x3\",\"domain\":[0.41666666666666663,0.5833333333333333],\"title\":{\"text\":\"Male\"}},\"xaxis4\":{\"anchor\":\"y4\",\"domain\":[0.55,1.0],\"showspikes\":true,\"spikemode\":\"across\",\"tickangle\":50},\"yaxis4\":{\"anchor\":\"x4\",\"domain\":[0.41666666666666663,0.5833333333333333],\"matches\":\"y3\",\"showticklabels\":false},\"xaxis5\":{\"anchor\":\"y5\",\"domain\":[0.0,0.45],\"showspikes\":true,\"spikemode\":\"across\",\"tickangle\":50},\"yaxis5\":{\"anchor\":\"x5\",\"domain\":[0.0,0.16666666666666666],\"title\":{\"text\":\"Both sexes\"}},\"xaxis6\":{\"anchor\":\"y6\",\"domain\":[0.55,1.0],\"showspikes\":true,\"spikemode\":\"across\",\"tickangle\":50},\"yaxis6\":{\"anchor\":\"x6\",\"domain\":[0.0,0.16666666666666666],\"matches\":\"y5\",\"showticklabels\":false},\"annotations\":[{\"font\":{\"size\":16},\"showarrow\":false,\"text\":\"Higher Increase\",\"x\":0.225,\"xanchor\":\"center\",\"xref\":\"paper\",\"y\":0.9999999999999999,\"yanchor\":\"bottom\",\"yref\":\"paper\"},{\"font\":{\"size\":16},\"showarrow\":false,\"text\":\"Lower Increase\",\"x\":0.775,\"xanchor\":\"center\",\"xref\":\"paper\",\"y\":0.9999999999999999,\"yanchor\":\"bottom\",\"yref\":\"paper\"}],\"height\":900},                        {\"responsive\": true}                    ).then(function(){\n",
       "                            \n",
       "var gd = document.getElementById('c1b17d13-9364-4ae1-a839-a0b6e14db99d');\n",
       "var x = new MutationObserver(function (mutations, observer) {{\n",
       "        var display = window.getComputedStyle(gd).display;\n",
       "        if (!display || display === 'none') {{\n",
       "            console.log([gd, 'removed!']);\n",
       "            Plotly.purge(gd);\n",
       "            observer.disconnect();\n",
       "        }}\n",
       "}});\n",
       "\n",
       "// Listen for the removal of the full notebook cells\n",
       "var notebookContainer = gd.closest('#notebook-container');\n",
       "if (notebookContainer) {{\n",
       "    x.observe(notebookContainer, {childList: true});\n",
       "}}\n",
       "\n",
       "// Listen for the clearing of the current output cell\n",
       "var outputEl = gd.closest('.output');\n",
       "if (outputEl) {{\n",
       "    x.observe(outputEl, {childList: true});\n",
       "}}\n",
       "\n",
       "                        })                };                });            </script>        </div>"
      ]
     },
     "metadata": {},
     "output_type": "display_data"
    }
   ],
   "source": [
    "top_2016.columns = ['ParentLocation', 'Location', 'Period', 'Gender', 'Prevalence_16']\n",
    "top_1975.columns = ['ParentLocation', 'Location', 'Period', 'Gender', 'Prevalence_75']\n",
    "\n",
    "merged = top_2016[[\n",
    "    'Location', 'Gender', 'Prevalence_16'\n",
    "]].merge(top_1975[['Location', 'Gender', 'Prevalence_75']])\n",
    "\n",
    "merged['PrevalenceDiff'] = merged['Prevalence_16']-merged['Prevalence_75']\n",
    "\n",
    "#top_2016['TotalIncrease'] = top_2016['TotalIncrease']\n",
    "merged.sort_values('PrevalenceDiff', ascending=False, inplace=True)\n",
    "\n",
    "def create_figure():\n",
    "    \n",
    "    top_2016 = df[df['Period'] == 2016].sort_values('Prevalence', ascending=False)\n",
    "    top_1975 = df[df['Period'] == 1975].sort_values('Prevalence', ascending=False)\n",
    "    \n",
    "    top_2016.columns = ['ParentLocation', 'Location', 'Period', 'Gender', 'Prevalence_16']\n",
    "    top_1975.columns = ['ParentLocation', 'Location', 'Period', 'Gender', 'Prevalence_75']\n",
    "\n",
    "    merged = top_2016[[\n",
    "        'Location', 'Gender', 'Prevalence_16'\n",
    "    ]].merge(top_1975[['Location', 'Gender', 'Prevalence_75']])\n",
    "\n",
    "    merged['PrevalenceDiff'] = merged['Prevalence_16']-merged['Prevalence_75']\n",
    "\n",
    "    #top_2016['TotalIncrease'] = top_2016['TotalIncrease']\n",
    "    merged.sort_values('PrevalenceDiff', ascending=False, inplace=True)\n",
    "\n",
    "    # Create figure and traces\n",
    "    fig = make_subplots(\n",
    "        shared_yaxes=True, \n",
    "        rows=3, \n",
    "        cols=2,\n",
    "        vertical_spacing = 0.25,\n",
    "        subplot_titles=(\"Higher Increase\", \"Lower Increase\"),\n",
    "\n",
    "    )\n",
    "\n",
    "    for i, gender in enumerate(['Female', 'Male', \"Both sexes\"]):\n",
    "        for j, b in enumerate([True, False]):\n",
    "            if b:\n",
    "                temp_df = merged[(merged['Gender'] == gender)]\n",
    "            else:\n",
    "                temp_df = merged[(merged['Gender'] == gender)].sort_values('PrevalenceDiff')\n",
    "            fig.add_trace(\n",
    "                go.Bar(\n",
    "                    x=temp_df['Location'].head(15), \n",
    "                    y=temp_df['PrevalenceDiff'].head(15), \n",
    "                    #name=gender, \n",
    "                    hovertemplate=None,\n",
    "                    marker=dict(color = merged[(merged['Gender'] == gender)]['PrevalenceDiff'].head(15), colorscale='viridis'),\n",
    "                    showlegend=False\n",
    "                ), \n",
    "                row=i+1, \n",
    "                col=j+1 \n",
    "            )\n",
    "\n",
    "    # Prettify\n",
    "    fig.update_xaxes(showspikes=True, spikemode=\"across\", tickangle=50)\n",
    "    fig.update_yaxes(title_text=\"Female\", row=1, col=1)\n",
    "    fig.update_yaxes(title_text=\"Male\", row=2, col=1)\n",
    "    fig.update_yaxes(title_text=\"Both sexes\", row=3, col=1)\n",
    "    fig.update_layout(\n",
    "        template='simple_white',\n",
    "        height=900\n",
    "    )\n",
    "    return fig\n",
    "    \n",
    "fig = create_figure()\n",
    "fig.show()"
   ]
  },
  {
   "cell_type": "markdown",
   "id": "51bace32",
   "metadata": {},
   "source": [
    "# Map"
   ]
  },
  {
   "cell_type": "code",
   "execution_count": 6,
   "id": "0a8ef895",
   "metadata": {
    "scrolled": true
   },
   "outputs": [
    {
     "data": {
      "text/html": [
       "<div>\n",
       "<style scoped>\n",
       "    .dataframe tbody tr th:only-of-type {\n",
       "        vertical-align: middle;\n",
       "    }\n",
       "\n",
       "    .dataframe tbody tr th {\n",
       "        vertical-align: top;\n",
       "    }\n",
       "\n",
       "    .dataframe thead th {\n",
       "        text-align: right;\n",
       "    }\n",
       "</style>\n",
       "<table border=\"1\" class=\"dataframe\">\n",
       "  <thead>\n",
       "    <tr style=\"text-align: right;\">\n",
       "      <th></th>\n",
       "      <th>code</th>\n",
       "      <th>Location</th>\n",
       "      <th>continent</th>\n",
       "      <th>geometry</th>\n",
       "      <th>Period</th>\n",
       "      <th>Gender</th>\n",
       "      <th>Prevalence</th>\n",
       "    </tr>\n",
       "  </thead>\n",
       "  <tbody>\n",
       "    <tr>\n",
       "      <th>18</th>\n",
       "      <td>VNM</td>\n",
       "      <td>Viet Nam</td>\n",
       "      <td>Asia</td>\n",
       "      <td>MULTIPOLYGON (((104.08288 10.36486, 104.08663 ...</td>\n",
       "      <td>2016</td>\n",
       "      <td>Both sexes</td>\n",
       "      <td>18.3</td>\n",
       "    </tr>\n",
       "    <tr>\n",
       "      <th>33</th>\n",
       "      <td>IND</td>\n",
       "      <td>India</td>\n",
       "      <td>Asia</td>\n",
       "      <td>MULTIPOLYGON (((93.89941 6.80708, 93.82707 6.7...</td>\n",
       "      <td>2016</td>\n",
       "      <td>Both sexes</td>\n",
       "      <td>19.7</td>\n",
       "    </tr>\n",
       "    <tr>\n",
       "      <th>34</th>\n",
       "      <td>BGD</td>\n",
       "      <td>Bangladesh</td>\n",
       "      <td>Asia</td>\n",
       "      <td>MULTIPOLYGON (((91.89749 21.47666, 91.88693 21...</td>\n",
       "      <td>2016</td>\n",
       "      <td>Both sexes</td>\n",
       "      <td>20.0</td>\n",
       "    </tr>\n",
       "    <tr>\n",
       "      <th>38</th>\n",
       "      <td>ETH</td>\n",
       "      <td>Ethiopia</td>\n",
       "      <td>Africa</td>\n",
       "      <td>POLYGON ((42.39972 12.46972, 42.36611 12.43028...</td>\n",
       "      <td>2016</td>\n",
       "      <td>Both sexes</td>\n",
       "      <td>20.9</td>\n",
       "    </tr>\n",
       "    <tr>\n",
       "      <th>39</th>\n",
       "      <td>NPL</td>\n",
       "      <td>Nepal</td>\n",
       "      <td>Asia</td>\n",
       "      <td>POLYGON ((88.14279 27.86605, 88.15248 27.86416...</td>\n",
       "      <td>2016</td>\n",
       "      <td>Both sexes</td>\n",
       "      <td>21.0</td>\n",
       "    </tr>\n",
       "  </tbody>\n",
       "</table>\n",
       "</div>"
      ],
      "text/plain": [
       "   code    Location continent  \\\n",
       "18  VNM    Viet Nam      Asia   \n",
       "33  IND       India      Asia   \n",
       "34  BGD  Bangladesh      Asia   \n",
       "38  ETH    Ethiopia    Africa   \n",
       "39  NPL       Nepal      Asia   \n",
       "\n",
       "                                             geometry  Period      Gender  \\\n",
       "18  MULTIPOLYGON (((104.08288 10.36486, 104.08663 ...    2016  Both sexes   \n",
       "33  MULTIPOLYGON (((93.89941 6.80708, 93.82707 6.7...    2016  Both sexes   \n",
       "34  MULTIPOLYGON (((91.89749 21.47666, 91.88693 21...    2016  Both sexes   \n",
       "38  POLYGON ((42.39972 12.46972, 42.36611 12.43028...    2016  Both sexes   \n",
       "39  POLYGON ((88.14279 27.86605, 88.15248 27.86416...    2016  Both sexes   \n",
       "\n",
       "    Prevalence  \n",
       "18        18.3  \n",
       "33        19.7  \n",
       "34        20.0  \n",
       "38        20.9  \n",
       "39        21.0  "
      ]
     },
     "execution_count": 6,
     "metadata": {},
     "output_type": "execute_result"
    }
   ],
   "source": [
    "#!pipenv install geopandas\n",
    "import geopandas\n",
    "gdf = geopandas.read_file('wold-boundaries.shx')[['iso3', 'name', 'continent', 'geometry']]\n",
    "gdf.columns = ['code', 'country', 'continent', 'geometry']\n",
    "\n",
    "# Name normalization\n",
    "to_replace = {\n",
    "    'Vietnam': 'Viet Nam',\n",
    "    'Sudan': 'Sudan (until 2011)',\n",
    "    'Swaziland': 'Eswatini',\n",
    "    \"CÃ´te d'Ivoire\": 'Côte d’Ivoire',\n",
    "    'Cape Verde': 'Cabo Verde',\n",
    "    'Antigua & Barbuda': 'Antigua and Barbuda',\n",
    "    'Bosnia & Herzegovina': 'Bosnia and Herzegovina',\n",
    "    'Moldova, Republic of': 'Republic of Moldova',\n",
    "    'Bolivia': 'Bolivia (Plurinational State of)',\n",
    "    'Czech Republic': 'Czechia',\n",
    "    'U.K. of Great Britain and Northern Ireland': 'United Kingdom of Great Britain and Northern Ireland',\n",
    "    'Venezuela': 'Venezuela (Bolivarian Republic of)',\n",
    "    'Libyan Arab Jamahiriya': 'Libya',\n",
    "    'Turkey': 'Türkiye'\n",
    "}\n",
    "\n",
    "gdf['country'].replace(to_replace, inplace=True)\n",
    "\n",
    "m = gdf.merge(df, right_on=['Location'], left_on=['country'], how='right')[['code', 'Location', 'continent', 'geometry', 'Period', 'Gender', 'Prevalence']]\n",
    "m = m[m['Gender'] == 'Both sexes']\n",
    "m_2016 = m[m['Period'] == 2016]\n",
    "m_1975 = m[m['Period'] == 1975]\n",
    "\n",
    "\n",
    "m_2016.head()"
   ]
  },
  {
   "cell_type": "code",
   "execution_count": 123,
   "id": "ab63ba0e",
   "metadata": {},
   "outputs": [
    {
     "data": {
      "image/png": "[encoded data removed]",
      "text/plain": [
       "<Figure size 1000x1000 with 2 Axes>"
      ]
     },
     "metadata": {},
     "output_type": "display_data"
    },
    {
     "name": "stderr",
     "output_type": "stream",
     "text": [
      "Exception in thread Thread-845 (<lambda>):\n",
      "Traceback (most recent call last):\n",
      "  File \"/usr/local/Cellar/python@3.11/3.11.2_1/Frameworks/Python.framework/Versions/3.11/lib/python3.11/threading.py\", line 1038, in _bootstrap_inner\n",
      "Exception in thread Thread-332 (<lambda>):\n",
      "Traceback (most recent call last):\n",
      "  File \"/usr/local/Cellar/python@3.11/3.11.2_1/Frameworks/Python.framework/Versions/3.11/lib/python3.11/threading.py\", line 1038, in _bootstrap_inner\n",
      "Exception in thread Thread-809 (<lambda>):\n",
      "Traceback (most recent call last):\n",
      "  File \"/usr/local/Cellar/python@3.11/3.11.2_1/Frameworks/Python.framework/Versions/3.11/lib/python3.11/threading.py\", line 1038, in _bootstrap_inner\n",
      "Exception in thread Thread-254 (<lambda>):\n",
      "Traceback (most recent call last):\n",
      "  File \"/usr/local/Cellar/python@3.11/3.11.2_1/Frameworks/Python.framework/Versions/3.11/lib/python3.11/threading.py\", line 1038, in _bootstrap_inner\n",
      "    self.run()\n",
      "  File \"/usr/local/Cellar/python@3.11/3.11.2_1/Frameworks/Python.framework/Versions/3.11/lib/python3.11/threading.py\", line 975, in run\n",
      "    self._target(*self._args, **self._kwargs)\n",
      "  File \"/Users/polmarin/.local/share/virtualenvs/interactive_visualizations-pKfElj8T/lib/python3.11/site-packages/dash/dash.py\", line 1668, in <lambda>\n",
      "    self.run()\n",
      "  File \"/usr/local/Cellar/python@3.11/3.11.2_1/Frameworks/Python.framework/Versions/3.11/lib/python3.11/threading.py\", line 975, in run\n",
      "    self.run()\n",
      "  File \"/usr/local/Cellar/python@3.11/3.11.2_1/Frameworks/Python.framework/Versions/3.11/lib/python3.11/threading.py\", line 975, in run\n",
      "    target=lambda: _watch.watch(\n",
      "                   ^^^^^^^^^^^^^\n",
      "  File \"/Users/polmarin/.local/share/virtualenvs/interactive_visualizations-pKfElj8T/lib/python3.11/site-packages/dash/_watch.py\", line 35, in watch\n",
      "    self.run()\n",
      "  File \"/usr/local/Cellar/python@3.11/3.11.2_1/Frameworks/Python.framework/Versions/3.11/lib/python3.11/threading.py\", line 975, in run\n",
      "    self._target(*self._args, **self._kwargs)\n",
      "  File \"/Users/polmarin/.local/share/virtualenvs/interactive_visualizations-pKfElj8T/lib/python3.11/site-packages/dash/dash.py\", line 1668, in <lambda>\n",
      "    walk()\n",
      "  File \"/Users/polmarin/.local/share/virtualenvs/interactive_visualizations-pKfElj8T/lib/python3.11/site-packages/dash/_watch.py\", line 20, in walk\n",
      "    self._target(*self._args, **self._kwargs)\n",
      "  File \"/Users/polmarin/.local/share/virtualenvs/interactive_visualizations-pKfElj8T/lib/python3.11/site-packages/dash/dash.py\", line 1668, in <lambda>\n",
      "    self._target(*self._args, **self._kwargs)\n",
      "  File \"/Users/polmarin/.local/share/virtualenvs/interactive_visualizations-pKfElj8T/lib/python3.11/site-packages/dash/dash.py\", line 1668, in <lambda>\n",
      "    info = os.stat(path)\n",
      "           ^^^^^^^^^^^^^\n",
      "FileNotFoundError: [Errno 2] No such file or directory: '/Users/polmarin/Desktop/interactive_visualizations/assets/2016.png.sb-43388012-tm5YB8'\n",
      "    target=lambda: _watch.watch(\n",
      "                   ^^^^^^^^^^^^^\n",
      "  File \"/Users/polmarin/.local/share/virtualenvs/interactive_visualizations-pKfElj8T/lib/python3.11/site-packages/dash/_watch.py\", line 35, in watch\n",
      "    walk()\n",
      "  File \"/Users/polmarin/.local/share/virtualenvs/interactive_visualizations-pKfElj8T/lib/python3.11/site-packages/dash/_watch.py\", line 20, in walk\n",
      "    info = os.stat(path)\n",
      "           ^^^^^^^^^^^^^\n",
      "FileNotFoundError: [Errno 2] No such file or directory: '/Users/polmarin/Desktop/interactive_visualizations/assets/1975.png.sb-43388012-1KTV2S'\n",
      "    target=lambda: _watch.watch(\n",
      "                   ^^^^^^^^^^^^^\n",
      "  File \"/Users/polmarin/.local/share/virtualenvs/interactive_visualizations-pKfElj8T/lib/python3.11/site-packages/dash/_watch.py\", line 35, in watch\n",
      "    target=lambda: _watch.watch(\n",
      "                   ^^^^^^^^^^^^^\n",
      "  File \"/Users/polmarin/.local/share/virtualenvs/interactive_visualizations-pKfElj8T/lib/python3.11/site-packages/dash/_watch.py\", line 35, in watch\n",
      "    walk()\n",
      "  File \"/Users/polmarin/.local/share/virtualenvs/interactive_visualizations-pKfElj8T/lib/python3.11/site-packages/dash/_watch.py\", line 20, in walk\n",
      "    walk()\n",
      "  File \"/Users/polmarin/.local/share/virtualenvs/interactive_visualizations-pKfElj8T/lib/python3.11/site-packages/dash/_watch.py\", line 20, in walk\n",
      "    info = os.stat(path)\n",
      "           ^^^^^^^^^^^^^\n",
      "FileNotFoundError: [Errno 2] No such file or directory: '/Users/polmarin/Desktop/interactive_visualizations/assets/2016.png.sb-43388012-tm5YB8'\n",
      "    info = os.stat(path)\n",
      "           ^^^^^^^^^^^^^\n",
      "FileNotFoundError: [Errno 2] No such file or directory: '/Users/polmarin/Desktop/interactive_visualizations/assets/2016.png.sb-43388012-tm5YB8'\n"
     ]
    }
   ],
   "source": [
    "# Non-interactive\n",
    "p_2016 = m_2016.plot(\n",
    "    column='Prevalence', \n",
    "    legend=True,\n",
    "    legend_kwds={\n",
    "        'label': \"2016 Overweight Prevalence by Country\",\n",
    "        'orientation': \"horizontal\"\n",
    "    },\n",
    "    figsize=(10,10)\n",
    ").get_figure()\n",
    "\n",
    "p_2016.savefig('assets/2016.png')"
   ]
  },
  {
   "cell_type": "code",
   "execution_count": 122,
   "id": "23c1e302",
   "metadata": {},
   "outputs": [
    {
     "data": {
      "image/png": "[encoded data removed]",
      "text/plain": [
       "<Figure size 1000x1000 with 2 Axes>"
      ]
     },
     "metadata": {},
     "output_type": "display_data"
    }
   ],
   "source": [
    "p_1975 = m_1975.plot(\n",
    "    column='Prevalence', \n",
    "    legend=True,\n",
    "    legend_kwds={\n",
    "        'label': \"1975 Overweight Prevalence by Country\",\n",
    "        'orientation': \"horizontal\"\n",
    "    },\n",
    "    figsize=(10,10)\n",
    ").get_figure()\n",
    "\n",
    "p_1975.savefig('assets/1975.png')"
   ]
  },
  {
   "cell_type": "markdown",
   "id": "80298888",
   "metadata": {},
   "source": [
    "# Create Dash App"
   ]
  },
  {
   "cell_type": "code",
   "execution_count": 132,
   "id": "99d3ed21",
   "metadata": {},
   "outputs": [
    {
     "name": "stdout",
     "output_type": "stream",
     "text": [
      "Dash is running on http://127.0.0.1:8050/\n",
      "\n",
      "Dash app running on http://127.0.0.1:8050/\n"
     ]
    }
   ],
   "source": [
    "# Create app\n",
    "app = JupyterDash(__name__)\n",
    "\n",
    "colors = ['#a6cee3', '#1f78b4'] \n",
    "\n",
    "# dropdown menu options\n",
    "country_options = [{'label': country, 'value': country} for country in df['Location'].unique()]\n",
    "country_options = sorted(list(df['Location'].unique()))\n",
    "\n",
    "# Define callbacks and functions\n",
    "@app.callback(\n",
    "    dash.dependencies.Output('female_vs_male', 'figure'),\n",
    "    dash.dependencies.Input('plot1_dd', 'value')\n",
    ")\n",
    "def update_gender(country):   \n",
    "    \n",
    "    fig = px.line(\n",
    "        df[(df['Gender'] != 'Both sexes') & (df['Location'] == country)],\n",
    "        x='Period', \n",
    "        y='Prevalence', \n",
    "        #name=loc, \n",
    "        color='Gender',\n",
    "        #hovertemplate=None,\n",
    "        #showlegend=True\n",
    "        \n",
    "    )\n",
    "\n",
    "    # Prettify\n",
    "    fig.update_layout(\n",
    "        template='simple_white',\n",
    "        height=400\n",
    "    )\n",
    "    return fig\n",
    "\n",
    "    \n",
    "    # Create figure and traces\n",
    "    fig = make_subplots(\n",
    "        shared_xaxes=True, \n",
    "        shared_yaxes=True, \n",
    "        rows=1, \n",
    "        cols=2,\n",
    "        vertical_spacing = 0,\n",
    "        subplot_titles=(\"Gender = Female\", \"Gender = Male\"),\n",
    "\n",
    "    )\n",
    "\n",
    "    for j, gender in enumerate(['Female', 'Male']):\n",
    "        for i, loc in enumerate([country1, country2]):\n",
    "            fig.add_trace(\n",
    "                go.Scatter(\n",
    "                    x=df[\n",
    "                        (df['Gender'] == gender) \n",
    "                        & (df['Location'] == loc)\n",
    "                    ]['Period'], \n",
    "                    y=df[\n",
    "                        (df['Gender'] == gender) \n",
    "                        & (df['Location'] == loc)\n",
    "                    ]['Prevalence'], \n",
    "                    name=loc, \n",
    "                    line=go.scatter.Line(color=colors[i]), \n",
    "                    hovertemplate=None,\n",
    "                    showlegend=False if j==0 else True,\n",
    "                ), \n",
    "                row=1, \n",
    "                col=j+1 \n",
    "            )\n",
    "\n",
    "    # Prettify\n",
    "    fig.update_xaxes(showspikes=True, spikemode=\"across\")\n",
    "    fig.update_layout(\n",
    "        hovermode=\"x\",\n",
    "        template='simple_white',\n",
    "        height=400\n",
    "    )\n",
    "\n",
    "    return fig\n",
    "\n",
    "\n",
    "@app.callback(\n",
    "    dash.dependencies.Output('country_vs_country', 'figure'),\n",
    "    dash.dependencies.Input('country1_dropdown', 'value'),\n",
    "    dash.dependencies.Input('country2_dropdown', 'value')\n",
    ")\n",
    "def update_country_chart(country1, country2):   \n",
    "    \n",
    "    # Create figure and traces\n",
    "    fig = make_subplots(\n",
    "        shared_xaxes=True, \n",
    "        shared_yaxes=True, \n",
    "        rows=1, \n",
    "        cols=2,\n",
    "        vertical_spacing = 0,\n",
    "        subplot_titles=(\"Gender = Female\", \"Gender = Male\"),\n",
    "\n",
    "    )\n",
    "\n",
    "    for j, gender in enumerate(['Female', 'Male']):\n",
    "        for i, loc in enumerate([country1, country2]):\n",
    "            fig.add_trace(\n",
    "                go.Scatter(\n",
    "                    x=df[\n",
    "                        (df['Gender'] == gender) \n",
    "                        & (df['Location'] == loc)\n",
    "                    ]['Period'], \n",
    "                    y=df[\n",
    "                        (df['Gender'] == gender) \n",
    "                        & (df['Location'] == loc)\n",
    "                    ]['Prevalence'], \n",
    "                    name=loc, \n",
    "                    line=go.scatter.Line(color=colors[i]), \n",
    "                    hovertemplate=None,\n",
    "                    showlegend=False if j==0 else True,\n",
    "                    \n",
    "                ), \n",
    "                row=1, \n",
    "                col=j+1 \n",
    "            )\n",
    "\n",
    "    # Prettify\n",
    "    fig.update_xaxes(showspikes=True, spikemode=\"across\")\n",
    "    fig.update_layout(\n",
    "        hovermode=\"x\",\n",
    "        template='simple_white',\n",
    "        height=400\n",
    "    )\n",
    "\n",
    "    return fig\n",
    "\n",
    "    \n",
    "def top1975_vs_2016():\n",
    "    \n",
    "    top_2016 = df[df['Period'] == 2016].sort_values('Prevalence', ascending=False)\n",
    "    top_1975 = df[df['Period'] == 1975].sort_values('Prevalence', ascending=False)\n",
    "    \n",
    "    tops = [top_1975, top_2016]\n",
    "    \n",
    "    # Create figure and traces\n",
    "    fig = make_subplots(\n",
    "        shared_yaxes=True, \n",
    "        rows=3, \n",
    "        cols=2,\n",
    "        vertical_spacing = 0.2,\n",
    "        subplot_titles=(\"1975\", \"2016\")\n",
    "        #subplot_titles=(\"Gender = Female\", \"Gender = Male\", \"Gender = Both\"),\n",
    "\n",
    "    )\n",
    "\n",
    "    for i, gender in enumerate(['Female', 'Male', \"Both sexes\"]):\n",
    "        for j, temp_df in enumerate(tops):\n",
    "            fig.add_trace(\n",
    "                go.Bar(\n",
    "                    x=temp_df[(temp_df['Gender'] == gender)]['Location'].head(15), \n",
    "                    y=temp_df[(temp_df['Gender'] == gender)]['Prevalence'].head(15), \n",
    "                    #name=gender, \n",
    "                    hovertemplate=None,\n",
    "                    marker=dict(color = temp_df[(temp_df['Gender'] == gender)]['Prevalence'].head(15), colorscale='viridis'),\n",
    "                    showlegend=False\n",
    "                ), \n",
    "                row=i+1, \n",
    "                col=j+1 \n",
    "            )\n",
    "\n",
    "    # Prettify\n",
    "    fig.update_xaxes(showspikes=True, spikemode=\"across\", tickangle=45)\n",
    "    fig.update_yaxes(title_text=\"Female\", row=1, col=1)\n",
    "    fig.update_yaxes(title_text=\"Male\", row=2, col=1)\n",
    "    fig.update_yaxes(title_text=\"Both sexes\", row=3, col=1)\n",
    "    fig.update_layout(\n",
    "        template='simple_white',\n",
    "    )\n",
    "\n",
    "    return fig\n",
    "\n",
    "def compare_differences():\n",
    "    \n",
    "    top_2016 = df[df['Period'] == 2016].sort_values('Prevalence', ascending=False)\n",
    "    top_1975 = df[df['Period'] == 1975].sort_values('Prevalence', ascending=False)\n",
    "    \n",
    "    top_2016.columns = ['ParentLocation', 'Location', 'Period', 'Gender', 'Prevalence_16']\n",
    "    top_1975.columns = ['ParentLocation', 'Location', 'Period', 'Gender', 'Prevalence_75']\n",
    "\n",
    "    merged = top_2016[[\n",
    "        'Location', 'Gender', 'Prevalence_16'\n",
    "    ]].merge(top_1975[['Location', 'Gender', 'Prevalence_75']])\n",
    "\n",
    "    merged['PrevalenceDiff'] = merged['Prevalence_16']-merged['Prevalence_75']\n",
    "\n",
    "    #top_2016['TotalIncrease'] = top_2016['TotalIncrease']\n",
    "    merged.sort_values('PrevalenceDiff', ascending=False, inplace=True)\n",
    "\n",
    "    # Create figure and traces\n",
    "    fig = make_subplots(\n",
    "        shared_yaxes=True, \n",
    "        rows=3, \n",
    "        cols=2,\n",
    "        vertical_spacing = 0.25,\n",
    "        subplot_titles=(\"Higher Increase\", \"Lower Increase\"),\n",
    "\n",
    "    )\n",
    "\n",
    "    for i, gender in enumerate(['Female', 'Male', \"Both sexes\"]):\n",
    "        for j, b in enumerate([True, False]):\n",
    "            if b:\n",
    "                temp_df = merged[(merged['Gender'] == gender)]\n",
    "            else:\n",
    "                temp_df = merged[(merged['Gender'] == gender)].sort_values('PrevalenceDiff')\n",
    "            fig.add_trace(\n",
    "                go.Bar(\n",
    "                    x=temp_df['Location'].head(15), \n",
    "                    y=temp_df['PrevalenceDiff'].head(15), \n",
    "                    #name=gender, \n",
    "                    hovertemplate=None,\n",
    "                    marker=dict(color = merged[(merged['Gender'] == gender)]['PrevalenceDiff'].head(15), colorscale='viridis'),\n",
    "                    showlegend=False\n",
    "                ), \n",
    "                row=i+1, \n",
    "                col=j+1 \n",
    "            )\n",
    "\n",
    "    # Prettify\n",
    "    fig.update_xaxes(showspikes=True, spikemode=\"across\", tickangle=50)\n",
    "    fig.update_yaxes(title_text=\"Female\", row=1, col=1)\n",
    "    fig.update_yaxes(title_text=\"Male\", row=2, col=1)\n",
    "    fig.update_yaxes(title_text=\"Both sexes\", row=3, col=1)\n",
    "    fig.update_layout(\n",
    "        template='simple_white',\n",
    "        #height=1000\n",
    "    )\n",
    "    return fig\n",
    "\n",
    "\n",
    "\n",
    "# 1st row: Male vs Female by country, Continents, Country vs country\n",
    "# 2nd row: 1975 vs 2016, maps stacked, Higher vs Fewer increase\n",
    "\n",
    "male_vs_female = html.Div([\n",
    "    dcc.Dropdown(\n",
    "        id='plot1_dd',\n",
    "        options=df['Location'].unique().tolist(),\n",
    "        value='',\n",
    "        placeholder='Select a country',\n",
    "        style={'max-width': '200px', 'margin-left': '30px'}\n",
    "    ),\n",
    "    dcc.Graph(\n",
    "        id='female_vs_male', \n",
    "        style={}\n",
    "    )\n",
    "],\n",
    "    style={\n",
    "        'grid-column-start' : 2,\n",
    "        'grid-column-end' : 3,\n",
    "        'grid-row-start': 'first-r',\n",
    "        'grid-row-end': 'second-r',\n",
    "        'padding': '2%'\n",
    "        \n",
    "    }\n",
    ")\n",
    "\n",
    "country_vs_country = html.Div([\n",
    "    html.Div([\n",
    "        dcc.Dropdown(\n",
    "            id='country1_dropdown',\n",
    "            options=df['Location'].unique().tolist(),\n",
    "            value='',\n",
    "            placeholder='Select a country',\n",
    "            style={'width': '200px', 'display': 'inline-block', 'margin-right': '40px', 'margin-left': '30px'}\n",
    "        ),\n",
    "        dcc.Dropdown(\n",
    "             id='country2_dropdown',\n",
    "             options=df['Location'].unique().tolist(),\n",
    "             value='',\n",
    "             placeholder='Select a country',\n",
    "             style={'width': '200px', 'display': 'inline-block'}\n",
    "        )\n",
    "    ],\n",
    "        style={}\n",
    "    ),\n",
    "    dcc.Graph(\n",
    "        id='country_vs_country', \n",
    "        #style={}\n",
    "    )\n",
    "], style={\n",
    "    'grid-column-start' : 2, \n",
    "    'grid-column-start': 3,\n",
    "    'grid-row-start': 'second-r',\n",
    "    'grid-row-end': 'third-r',\n",
    "    'padding': '2%'\n",
    "})\n",
    "\n",
    "year_tops = html.Div([\n",
    "    dcc.Graph(\n",
    "        id='year_tops', \n",
    "        figure=top1975_vs_2016(),\n",
    "        style={'justify-self': 'stretch', 'height': '80vh'}\n",
    "    )\n",
    "], style={\n",
    "    'grid-column-start' : 'first',\n",
    "    'grid-column-end' : 'second',\n",
    "    'grid-row-start': 'first-r',\n",
    "    'grid-row-end': 'span 2',\n",
    "    'padding': '2%'\n",
    "})\n",
    "\n",
    "year_differences = html.Div([\n",
    "    dcc.Graph(\n",
    "        id='year_differences', \n",
    "        figure=compare_differences(),\n",
    "        style={'justify-self': 'stretch', 'height': '80vh'}\n",
    "    )\n",
    "], style={\n",
    "    'grid-column-start' : 'third',\n",
    "    'grid-column-end' : 'span 1',\n",
    "    'grid-row-start': 'first-r',\n",
    "    'grid-row-end': 'span 2',\n",
    "    'padding': '2%'\n",
    "})\n",
    "\n",
    "continents = html.Div([\n",
    "    dcc.Graph(\n",
    "        id='continents', \n",
    "        figure=create_continents_chart(),\n",
    "        style={}\n",
    "    )\n",
    "], style={\n",
    "    'grid-column-start' : 2,\n",
    "    'grid-column-end' : 3,\n",
    "    'grid-row-start': 'third-r',\n",
    "    'grid-row-end': 'span 1',\n",
    "    'padding': '2%'\n",
    "})\n",
    "\n",
    "map_1975 = html.Div([\n",
    "    html.H1('1975'),\n",
    "    html.Img(src=dash.get_asset_url('1975.png'), \n",
    "             style={ 'max-width': '100%', 'justify-self': 'stretch'})\n",
    "],\n",
    "    style = {\n",
    "        'grid-column-start': 2,\n",
    "        'grid-column-end': 3,\n",
    "        'grid-row-start': 'third-r',\n",
    "        'grid-row-end': 'span 1',\n",
    "        'text-align': 'center',\n",
    "        'padding': '2%'\n",
    "    }\n",
    ")\n",
    "\n",
    "map_2016 = html.Div([\n",
    "    html.H1('2016'),\n",
    "    html.Img(src=dash.get_asset_url('2016.png'), style={ 'max-width': '100%'})\n",
    "],\n",
    "    style = {\n",
    "        'grid-column-start': 'third',\n",
    "        'grid-column-end': 'span 1',\n",
    "        'grid-row-start': 'third-r',\n",
    "        'grid-row-end': 'span 1',\n",
    "        'text-align': 'center',\n",
    "        'padding': '2%'\n",
    "        \n",
    "    }\n",
    ")\n",
    "\n",
    "\n",
    "\n",
    "app.layout = html.Div([\n",
    "    male_vs_female, continents, country_vs_country,\n",
    "    year_tops, year_differences, map_1975, map_2016\n",
    "],\n",
    "    style={\n",
    "    'width': '100vw',\n",
    "    'display': 'inline-grid',\n",
    "    'grid-template-columns': '[first] 33vw [second] 33vw [third] 33vw',\n",
    "    'grid-template-rows': '[first-r] 40vh [second-r] 40vh [third-r] 20vh',\n",
    "    #'grid-gap': '10px',\n",
    "    #'align-items': 'right',\n",
    "}\n",
    ")\n",
    "\n",
    "\n",
    "# Run app\n",
    "if __name__ == '__main__':\n",
    "    app.run_server(debug=True, use_reloader=False)"
   ]
  },
  {
   "cell_type": "code",
   "execution_count": 106,
   "id": "f23f18d5",
   "metadata": {},
   "outputs": [],
   "source": []
  },
  {
   "cell_type": "code",
   "execution_count": null,
   "id": "ffe43f7f",
   "metadata": {},
   "outputs": [],
   "source": []
  }
 ],
 "metadata": {
  "kernelspec": {
   "display_name": "Python 3 (ipykernel)",
   "language": "python",
   "name": "python3"
  },
  "language_info": {
   "codemirror_mode": {
    "name": "ipython",
    "version": 3
   },
   "file_extension": ".py",
   "mimetype": "text/x-python",
   "name": "python",
   "nbconvert_exporter": "python",
   "pygments_lexer": "ipython3",
   "version": "3.11.2"
  }
 },
 "nbformat": 4,
 "nbformat_minor": 5
}
